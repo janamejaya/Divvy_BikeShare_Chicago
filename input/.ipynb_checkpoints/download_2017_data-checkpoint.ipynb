{
 "cells": [
  {
   "cell_type": "markdown",
   "metadata": {},
   "source": [
    "## Objective"
   ]
  },
  {
   "cell_type": "markdown",
   "metadata": {},
   "source": [
    "The objective of this Jupyter notebook is to download the Divvy bike share dataset for quarters 1 and 2, as well as 3 and 4 as a zipped file from the Divvy website."
   ]
  },
  {
   "cell_type": "markdown",
   "metadata": {},
   "source": [
    "### Import libraries to be used"
   ]
  },
  {
   "cell_type": "code",
   "execution_count": 1,
   "metadata": {
    "collapsed": true
   },
   "outputs": [],
   "source": [
    "import os\n",
    "import requests\n",
    "import zipfile"
   ]
  },
  {
   "cell_type": "markdown",
   "metadata": {},
   "source": [
    "### Assign URL name"
   ]
  },
  {
   "cell_type": "code",
   "execution_count": 2,
   "metadata": {
    "collapsed": true
   },
   "outputs": [],
   "source": [
    "url1 = 'https://s3.amazonaws.com/divvy-data/tripdata/Divvy_Trips_2017_Q1Q2.zip'\n",
    "url2 = 'https://s3.amazonaws.com/divvy-data/tripdata/Divvy_Trips_2017_Q3Q4.zip'\n",
    "url_list = [url1, url2]"
   ]
  },
  {
   "cell_type": "markdown",
   "metadata": {},
   "source": [
    "### Download zip file from URL and unzip it"
   ]
  },
  {
   "cell_type": "code",
   "execution_count": 3,
   "metadata": {},
   "outputs": [
    {
     "name": "stdout",
     "output_type": "stream",
     "text": [
      "Current URL is:  https://s3.amazonaws.com/divvy-data/tripdata/Divvy_Trips_2017_Q1Q2.zip\n",
      "Zip file name is  Divvy_Trips_2017_Q1Q2.zip\n",
      "Contents of zip file are : ['Divvy_Trips_2017_Q1.csv', 'Divvy_Stations_2017_Q1Q2.csv', 'README.txt', 'Divvy_Trips_2017_Q2.csv']\n",
      "Current URL is:  https://s3.amazonaws.com/divvy-data/tripdata/Divvy_Trips_2017_Q3Q4.zip\n",
      "Zip file name is  Divvy_Trips_2017_Q3Q4.zip\n",
      "Contents of zip file are : ['Divvy_Stations_2017_Q3Q4.csv', 'Divvy_Trips_2017_Q3.csv', 'Divvy_Trips_2017_Q4.csv', 'README.txt']\n"
     ]
    }
   ],
   "source": [
    "for curr_url in url_list:\n",
    "    print('Current URL is: ', curr_url)\n",
    "    \n",
    "    # Get the zip file\n",
    "    fname = curr_url.split(sep='/')[-1]\n",
    "    print('Zip file name is ', fname)\n",
    "    r = requests.get(curr_url)  \n",
    "    with open(fname, 'wb') as f:\n",
    "         f.write(r.content)\n",
    "\n",
    "    # Extract the zip file and get list of files\n",
    "    zf = zipfile.ZipFile(fname, 'r')\n",
    "    print('Contents of zip file are :',zf.namelist())\n",
    "    \n",
    "    # Get name of folder into which the data is to be uncompressed to and put all contents of zip archive into it\n",
    "    dirname1 = fname.split(sep='.')[0]\n",
    "    zf.extractall(dirname1)\n",
    "    zf.close()\n",
    "    \n",
    "    # Remove the zipped file\n",
    "    os.remove('./'+fname)"
   ]
  },
  {
   "cell_type": "code",
   "execution_count": null,
   "metadata": {
    "collapsed": true
   },
   "outputs": [],
   "source": []
  }
 ],
 "metadata": {
  "kernelspec": {
   "display_name": "Python(Tensorflow3.6)",
   "language": "python",
   "name": "tensorflow3.6"
  },
  "language_info": {
   "codemirror_mode": {
    "name": "ipython",
    "version": 3
   },
   "file_extension": ".py",
   "mimetype": "text/x-python",
   "name": "python",
   "nbconvert_exporter": "python",
   "pygments_lexer": "ipython3",
   "version": "3.6.5"
  }
 },
 "nbformat": 4,
 "nbformat_minor": 2
}
