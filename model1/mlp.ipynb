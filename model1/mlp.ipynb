{
 "cells": [
  {
   "cell_type": "markdown",
   "metadata": {},
   "source": [
    "# Objective"
   ]
  },
  {
   "cell_type": "markdown",
   "metadata": {},
   "source": [
    "Using the data prepared in the EDA notebook and the predefined splits of the data into training, validation and test sets, train a model for predicting whether the trip distance is less than 2 km (class 1) or not (class 0)."
   ]
  },
  {
   "cell_type": "markdown",
   "metadata": {},
   "source": [
    "## Import Libraries"
   ]
  },
  {
   "cell_type": "code",
   "execution_count": 1,
   "metadata": {},
   "outputs": [
    {
     "name": "stderr",
     "output_type": "stream",
     "text": [
      "C:\\Users\\JC\\Anaconda3\\envs\\tensorflow3.6\\lib\\site-packages\\h5py\\__init__.py:36: FutureWarning: Conversion of the second argument of issubdtype from `float` to `np.floating` is deprecated. In future, it will be treated as `np.float64 == np.dtype(float).type`.\n",
      "  from ._conv import register_converters as _register_converters\n",
      "Using TensorFlow backend.\n"
     ]
    }
   ],
   "source": [
    "# Import libraries\n",
    "import pandas as pd\n",
    "import numpy as np\n",
    "import pickle\n",
    "from sklearn.linear_model import LogisticRegression\n",
    "from sklearn.preprocessing import MinMaxScaler\n",
    "from sklearn.metrics import confusion_matrix, precision_score, recall_score, f1_score, precision_recall_curve, roc_curve\n",
    "import gc\n",
    "from sklearn.utils import compute_class_weight\n",
    "%matplotlib inline\n",
    "import matplotlib\n",
    "import matplotlib.pyplot as plt\n",
    "import seaborn as sns\n",
    "from sklearn.model_selection import GridSearchCV, ParameterGrid\n",
    "from keras.models import Model\n",
    "from keras.layers import Input, Dense, Embedding, SpatialDropout1D, concatenate, Dropout, Flatten\n",
    "from keras.layers import GRU, Bidirectional, GlobalAveragePooling1D, GlobalMaxPooling1D\n",
    "from keras.callbacks import Callback\n",
    "from keras.callbacks import EarlyStopping,ModelCheckpoint\n",
    "from keras.optimizers import Adam\n",
    "from keras.models import load_model\n",
    "\n",
    "from keras.utils.vis_utils import plot_model\n",
    "import os\n",
    "os.environ[\"PATH\"] += os.pathsep + 'C:/Program Files (x86)/Graphviz2.38/bin/'\n",
    "from IPython.display import SVG\n",
    "from keras.utils.vis_utils import model_to_dot"
   ]
  },
  {
   "cell_type": "markdown",
   "metadata": {},
   "source": [
    "## Import data split into train/validation sets"
   ]
  },
  {
   "cell_type": "code",
   "execution_count": 2,
   "metadata": {
    "collapsed": true
   },
   "outputs": [],
   "source": [
    "# Read in the training data\n",
    "df = pd.read_csv(\"../data_splits/train.csv\")"
   ]
  },
  {
   "cell_type": "markdown",
   "metadata": {},
   "source": [
    "Since the dataset has over 3 million samples, and the data splits were performed such that the same proportion of Classes were found, it is likely that a model fit on each fold will perform equally well. So, for simplicity and to save computational time, i'll limit the analysis to one train-validation split only."
   ]
  },
  {
   "cell_type": "code",
   "execution_count": 3,
   "metadata": {
    "collapsed": true
   },
   "outputs": [],
   "source": [
    "# Select one train-validation split\n",
    "splitnum = 1\n",
    "train_file = \"../data_splits/training_\"+str(splitnum)+'.pkl'\n",
    "val_file = \"../data_splits/validation_\"+str(splitnum)+'.pkl'"
   ]
  },
  {
   "cell_type": "code",
   "execution_count": 4,
   "metadata": {
    "collapsed": true
   },
   "outputs": [],
   "source": [
    "# Read in the indices for this split\n",
    "train_index = pickle.load( open(train_file,\"rb\") )\n",
    "validation_index = pickle.load( open(val_file,\"rb\"))"
   ]
  },
  {
   "cell_type": "code",
   "execution_count": 5,
   "metadata": {},
   "outputs": [],
   "source": [
    "# Split df into a training dataframe and a validation dataframe\n",
    "train_df = df.iloc[train_index]\n",
    "valid_df = df.iloc[validation_index]\n",
    "#print(len(train_df), len(valid_df),len(train_df)+len(valid_df),len(df))"
   ]
  },
  {
   "cell_type": "code",
   "execution_count": 6,
   "metadata": {},
   "outputs": [
    {
     "data": {
      "text/plain": [
       "11"
      ]
     },
     "execution_count": 6,
     "metadata": {},
     "output_type": "execute_result"
    }
   ],
   "source": [
    "# Delete df and garbage collect\n",
    "del df\n",
    "gc.collect()"
   ]
  },
  {
   "cell_type": "markdown",
   "metadata": {},
   "source": [
    "## Extract Class variable"
   ]
  },
  {
   "cell_type": "code",
   "execution_count": 7,
   "metadata": {},
   "outputs": [],
   "source": [
    "# Extract the class columns\n",
    "y_train = train_df['class'].values\n",
    "y_valid = valid_df['class'].values\n",
    "\n",
    "# Drop class columns from train_df and valid_df\n",
    "train_df = train_df.drop(['class'], axis=1)\n",
    "valid_df = valid_df.drop(['class'], axis=1)"
   ]
  },
  {
   "cell_type": "markdown",
   "metadata": {},
   "source": [
    "## Split data into Numeric/Non-numeric and Perform MinMax scaling for Numeric Attributes"
   ]
  },
  {
   "cell_type": "code",
   "execution_count": 8,
   "metadata": {
    "collapsed": true
   },
   "outputs": [],
   "source": [
    "# Construct a list of numeric column names\n",
    "numer_attrs = ['tripduration','from_latitude','to_latitude','from_longitude','to_longitude','group_count']"
   ]
  },
  {
   "cell_type": "code",
   "execution_count": 9,
   "metadata": {},
   "outputs": [
    {
     "data": {
      "text/plain": [
       "21"
      ]
     },
     "execution_count": 9,
     "metadata": {},
     "output_type": "execute_result"
    }
   ],
   "source": [
    "# Apply min-max scaling to the training and validation dataframes numeric values\n",
    "# Initialize the min-max scaler\n",
    "scaler = MinMaxScaler()\n",
    "\n",
    "# Split training and validation dataframe into numeric and categorical variables\n",
    "train_df1 = train_df[numer_attrs]\n",
    "valid_df1 = valid_df[numer_attrs]\n",
    "\n",
    "train_df2 = train_df.drop(numer_attrs, axis=1)\n",
    "valid_df2 = valid_df.drop(numer_attrs, axis=1)\n",
    "\n",
    "# Fit and transform the numerica part of train_df i.e train_df1\n",
    "scaled1 = scaler.fit_transform(train_df1)\n",
    "train_df1 = pd.DataFrame(scaled1,columns=numer_attrs)\n",
    "\n",
    "# Transform the numeric part of valid_df, i.e., valid_df2\n",
    "scaled2 = scaler.transform(valid_df1)\n",
    "valid_df1 = pd.DataFrame(scaled2,columns=numer_attrs)\n",
    "\n",
    "# Remove scaled1, scaled2\n",
    "del scaled1, scaled2\n",
    "gc.collect()"
   ]
  },
  {
   "cell_type": "code",
   "execution_count": 10,
   "metadata": {},
   "outputs": [
    {
     "data": {
      "text/html": [
       "<div>\n",
       "<style scoped>\n",
       "    .dataframe tbody tr th:only-of-type {\n",
       "        vertical-align: middle;\n",
       "    }\n",
       "\n",
       "    .dataframe tbody tr th {\n",
       "        vertical-align: top;\n",
       "    }\n",
       "\n",
       "    .dataframe thead th {\n",
       "        text-align: right;\n",
       "    }\n",
       "</style>\n",
       "<table border=\"1\" class=\"dataframe\">\n",
       "  <thead>\n",
       "    <tr style=\"text-align: right;\">\n",
       "      <th></th>\n",
       "      <th>tripduration</th>\n",
       "      <th>from_latitude</th>\n",
       "      <th>to_latitude</th>\n",
       "      <th>from_longitude</th>\n",
       "      <th>to_longitude</th>\n",
       "      <th>group_count</th>\n",
       "    </tr>\n",
       "  </thead>\n",
       "  <tbody>\n",
       "    <tr>\n",
       "      <th>min</th>\n",
       "      <td>0.0</td>\n",
       "      <td>0.0</td>\n",
       "      <td>0.0</td>\n",
       "      <td>0.0</td>\n",
       "      <td>0.0</td>\n",
       "      <td>0.0</td>\n",
       "    </tr>\n",
       "    <tr>\n",
       "      <th>max</th>\n",
       "      <td>1.0</td>\n",
       "      <td>1.0</td>\n",
       "      <td>1.0</td>\n",
       "      <td>1.0</td>\n",
       "      <td>1.0</td>\n",
       "      <td>1.0</td>\n",
       "    </tr>\n",
       "  </tbody>\n",
       "</table>\n",
       "</div>"
      ],
      "text/plain": [
       "     tripduration  from_latitude  to_latitude  from_longitude  to_longitude  \\\n",
       "min           0.0            0.0          0.0             0.0           0.0   \n",
       "max           1.0            1.0          1.0             1.0           1.0   \n",
       "\n",
       "     group_count  \n",
       "min          0.0  \n",
       "max          1.0  "
      ]
     },
     "execution_count": 10,
     "metadata": {},
     "output_type": "execute_result"
    }
   ],
   "source": [
    "# Check if scaling of train_df1 worked\n",
    "train_df1.describe().loc[['min','max']]"
   ]
  },
  {
   "cell_type": "code",
   "execution_count": 11,
   "metadata": {},
   "outputs": [
    {
     "data": {
      "text/html": [
       "<div>\n",
       "<style scoped>\n",
       "    .dataframe tbody tr th:only-of-type {\n",
       "        vertical-align: middle;\n",
       "    }\n",
       "\n",
       "    .dataframe tbody tr th {\n",
       "        vertical-align: top;\n",
       "    }\n",
       "\n",
       "    .dataframe thead th {\n",
       "        text-align: right;\n",
       "    }\n",
       "</style>\n",
       "<table border=\"1\" class=\"dataframe\">\n",
       "  <thead>\n",
       "    <tr style=\"text-align: right;\">\n",
       "      <th></th>\n",
       "      <th>tripduration</th>\n",
       "      <th>from_latitude</th>\n",
       "      <th>to_latitude</th>\n",
       "      <th>from_longitude</th>\n",
       "      <th>to_longitude</th>\n",
       "      <th>group_count</th>\n",
       "    </tr>\n",
       "  </thead>\n",
       "  <tbody>\n",
       "    <tr>\n",
       "      <th>min</th>\n",
       "      <td>0.000000</td>\n",
       "      <td>0.0</td>\n",
       "      <td>0.0</td>\n",
       "      <td>0.0</td>\n",
       "      <td>0.0</td>\n",
       "      <td>0.0</td>\n",
       "    </tr>\n",
       "    <tr>\n",
       "      <th>max</th>\n",
       "      <td>0.996245</td>\n",
       "      <td>1.0</td>\n",
       "      <td>1.0</td>\n",
       "      <td>1.0</td>\n",
       "      <td>1.0</td>\n",
       "      <td>0.7</td>\n",
       "    </tr>\n",
       "  </tbody>\n",
       "</table>\n",
       "</div>"
      ],
      "text/plain": [
       "     tripduration  from_latitude  to_latitude  from_longitude  to_longitude  \\\n",
       "min      0.000000            0.0          0.0             0.0           0.0   \n",
       "max      0.996245            1.0          1.0             1.0           1.0   \n",
       "\n",
       "     group_count  \n",
       "min          0.0  \n",
       "max          0.7  "
      ]
     },
     "execution_count": 11,
     "metadata": {},
     "output_type": "execute_result"
    }
   ],
   "source": [
    "# Check how good the scaling of valid_df1 is\n",
    "valid_df1.describe().loc[['min','max']]"
   ]
  },
  {
   "cell_type": "markdown",
   "metadata": {},
   "source": [
    "MinMax scaling brings the range of numeric values to the correct range [0,1] for the training data. For the validation data, the minimum values are zero for each feature, however, the maximum values are not 1 for two features, tripduration and group_count. This indicates that the validation data does not contain the whole range of values seen in the training data. "
   ]
  },
  {
   "cell_type": "markdown",
   "metadata": {},
   "source": [
    "## Prepare data for processing with keras"
   ]
  },
  {
   "cell_type": "markdown",
   "metadata": {},
   "source": [
    "Lets extract the column names for non-numeric data"
   ]
  },
  {
   "cell_type": "code",
   "execution_count": 12,
   "metadata": {},
   "outputs": [
    {
     "name": "stdout",
     "output_type": "stream",
     "text": [
      "['from_station_id', 'to_station_id', 'usertype', 'gender', 'age_cats', 'start_hour', 'start_day', 'start_wday', 'start_minute', 'start_doy', 'start_woy', 'end_hour', 'end_day', 'end_wday', 'end_minute', 'end_doy', 'end_woy']\n"
     ]
    }
   ],
   "source": [
    "cat_vars = list(train_df2)\n",
    "print(cat_vars)"
   ]
  },
  {
   "cell_type": "code",
   "execution_count": 13,
   "metadata": {},
   "outputs": [],
   "source": [
    "# Construct a dictionary of named variable keys and array values pairs\n",
    "def get_keras_data(dataset1, dataset2, cat_vars):\n",
    "    # Initialize a dictionary where the keys are the variables (1d or matrix)\n",
    "    # and the values are the data arrays\n",
    "    X = {}\n",
    "    \n",
    "    # Initialize a dictionary for storing maximum values for categorical variables\n",
    "    maxvals = {}\n",
    "    \n",
    "    # Initialize a dictionary for storing the embedding size for each categorical variable\n",
    "    embed_dims = {}\n",
    "    \n",
    "    # 1. The numeric data as a 2-d array\n",
    "    count = 0\n",
    "    X['var'+str(count)] = dataset1.values\n",
    "    maxvals['var'+str(count)] = dataset1.shape[1]\n",
    "    count += 1\n",
    "    \n",
    "    # 2. The categorical data as an 1-d array\n",
    "    for lvars in cat_vars:\n",
    "        lvar_name = 'var'+str(count)\n",
    "        X[lvar_name] = np.array(dataset2[lvars])\n",
    "        \n",
    "        lmax = dataset2[lvars].max()\n",
    "        maxvals[lvar_name] = int(lmax)+1\n",
    "        \n",
    "        lmin = np.min([26, (int)((lmax+1)/2)])\n",
    "        embed_dims[lvar_name] = lmin\n",
    "        count += 1\n",
    "\n",
    "    return X, maxvals, embed_dims\n",
    "\n",
    "# Return named dataset used for input into keras fit\n",
    "train_data, maxvals, embed_dims = get_keras_data(train_df1, train_df2, cat_vars)\n",
    "valid_data, _, _ = get_keras_data(valid_df1, valid_df2, cat_vars)"
   ]
  },
  {
   "cell_type": "code",
   "execution_count": 14,
   "metadata": {},
   "outputs": [
    {
     "name": "stdout",
     "output_type": "stream",
     "text": [
      "{'var0': 6, 'var1': 585, 'var2': 585, 'var3': 2, 'var4': 3, 'var5': 24, 'var6': 24, 'var7': 31, 'var8': 7, 'var9': 60, 'var10': 365, 'var11': 52, 'var12': 24, 'var13': 31, 'var14': 7, 'var15': 60, 'var16': 365, 'var17': 52}\n",
      "{'var1': 26, 'var2': 26, 'var3': 1, 'var4': 1, 'var5': 12, 'var6': 12, 'var7': 15, 'var8': 3, 'var9': 26, 'var10': 26, 'var11': 26, 'var12': 12, 'var13': 15, 'var14': 3, 'var15': 26, 'var16': 26, 'var17': 26}\n"
     ]
    }
   ],
   "source": [
    "print(maxvals)\n",
    "print(embed_dims)"
   ]
  },
  {
   "cell_type": "markdown",
   "metadata": {},
   "source": [
    "## Define the Keras model"
   ]
  },
  {
   "cell_type": "code",
   "execution_count": 15,
   "metadata": {
    "collapsed": true
   },
   "outputs": [],
   "source": [
    "def get_model(actfn='elu', imode = 'glorot_normal', dr_rate = 0.1, nnodes = 1):\n",
    "    # Initialize a list for storing the input layers\n",
    "    inps = []\n",
    "    \n",
    "    # Input layer for the numeric variables\n",
    "    inp0 = Input(shape = (maxvals['var0'],), name='var0')\n",
    "    inps.append(inp0)\n",
    "    \n",
    "    # Pass inp0 to a Dense layer\n",
    "    layer1 = Dense(maxvals['var0'],activation=actfn, kernel_initializer=imode, name='layer1')(inp0)\n",
    "\n",
    "    # For each categorical variable\n",
    "    emblist = []\n",
    "    count = 1\n",
    "    for lvars in cat_vars:\n",
    "        lvarname = 'var'+str(count)\n",
    "        inp = Input(shape=[1], name=lvarname)\n",
    "        emb =  Embedding(maxvals[lvarname], embed_dims[lvarname])(inp)\n",
    "        inps.append(inp)\n",
    "        emblist.append(emb)\n",
    "        count += 1\n",
    "        \n",
    "    # Concatename tmplist\n",
    "    merged_out1 = concatenate(emblist)\n",
    "    \n",
    "    # Flatten merged_out1\n",
    "    flat_merged1 = Flatten()(merged_out1)\n",
    "    \n",
    "    # Apply dropout to flat_merged1\n",
    "    dropout_out1 = Dropout(dr_rate)(flat_merged1)\n",
    "    \n",
    "    # Concate layer1 with dropout_embeds\n",
    "    merged_out2 = concatenate([layer1, dropout_out1])\n",
    "    \n",
    "    # Add a dense layer\n",
    "    layer2 = Dense(128, activation=actfn, kernel_initializer=imode, name='layer2')(merged_out2)\n",
    "    \n",
    "    # Add another dense layer\n",
    "    layer3 = Dense(64, activation=actfn, kernel_initializer=imode, name='layer3')(layer2)\n",
    "    \n",
    "    # Add a final dense layer before output\n",
    "    layer4 = Dense(32, activation=actfn, kernel_initializer=imode, name='layer4')(layer3)\n",
    "\n",
    "    # Output\n",
    "    outp = Dense(1, activation = \"sigmoid\", name='output')(layer4)\n",
    "    \n",
    "    # Define the model in terms of inputs and outputs\n",
    "    model = Model(inputs = inps, outputs = outp)\n",
    "\n",
    "    return model"
   ]
  },
  {
   "cell_type": "code",
   "execution_count": 16,
   "metadata": {},
   "outputs": [
    {
     "name": "stdout",
     "output_type": "stream",
     "text": [
      "__________________________________________________________________________________________________\n",
      "Layer (type)                    Output Shape         Param #     Connected to                     \n",
      "==================================================================================================\n",
      "var1 (InputLayer)               (None, 1)            0                                            \n",
      "__________________________________________________________________________________________________\n",
      "var2 (InputLayer)               (None, 1)            0                                            \n",
      "__________________________________________________________________________________________________\n",
      "var3 (InputLayer)               (None, 1)            0                                            \n",
      "__________________________________________________________________________________________________\n",
      "var4 (InputLayer)               (None, 1)            0                                            \n",
      "__________________________________________________________________________________________________\n",
      "var5 (InputLayer)               (None, 1)            0                                            \n",
      "__________________________________________________________________________________________________\n",
      "var6 (InputLayer)               (None, 1)            0                                            \n",
      "__________________________________________________________________________________________________\n",
      "var7 (InputLayer)               (None, 1)            0                                            \n",
      "__________________________________________________________________________________________________\n",
      "var8 (InputLayer)               (None, 1)            0                                            \n",
      "__________________________________________________________________________________________________\n",
      "var9 (InputLayer)               (None, 1)            0                                            \n",
      "__________________________________________________________________________________________________\n",
      "var10 (InputLayer)              (None, 1)            0                                            \n",
      "__________________________________________________________________________________________________\n",
      "var11 (InputLayer)              (None, 1)            0                                            \n",
      "__________________________________________________________________________________________________\n",
      "var12 (InputLayer)              (None, 1)            0                                            \n",
      "__________________________________________________________________________________________________\n",
      "var13 (InputLayer)              (None, 1)            0                                            \n",
      "__________________________________________________________________________________________________\n",
      "var14 (InputLayer)              (None, 1)            0                                            \n",
      "__________________________________________________________________________________________________\n",
      "var15 (InputLayer)              (None, 1)            0                                            \n",
      "__________________________________________________________________________________________________\n",
      "var16 (InputLayer)              (None, 1)            0                                            \n",
      "__________________________________________________________________________________________________\n",
      "var17 (InputLayer)              (None, 1)            0                                            \n",
      "__________________________________________________________________________________________________\n",
      "embedding_1 (Embedding)         (None, 1, 26)        15210       var1[0][0]                       \n",
      "__________________________________________________________________________________________________\n",
      "embedding_2 (Embedding)         (None, 1, 26)        15210       var2[0][0]                       \n",
      "__________________________________________________________________________________________________\n",
      "embedding_3 (Embedding)         (None, 1, 1)         2           var3[0][0]                       \n",
      "__________________________________________________________________________________________________\n",
      "embedding_4 (Embedding)         (None, 1, 1)         3           var4[0][0]                       \n",
      "__________________________________________________________________________________________________\n",
      "embedding_5 (Embedding)         (None, 1, 12)        288         var5[0][0]                       \n",
      "__________________________________________________________________________________________________\n",
      "embedding_6 (Embedding)         (None, 1, 12)        288         var6[0][0]                       \n",
      "__________________________________________________________________________________________________\n",
      "embedding_7 (Embedding)         (None, 1, 15)        465         var7[0][0]                       \n",
      "__________________________________________________________________________________________________\n",
      "embedding_8 (Embedding)         (None, 1, 3)         21          var8[0][0]                       \n",
      "__________________________________________________________________________________________________\n",
      "embedding_9 (Embedding)         (None, 1, 26)        1560        var9[0][0]                       \n",
      "__________________________________________________________________________________________________\n",
      "embedding_10 (Embedding)        (None, 1, 26)        9490        var10[0][0]                      \n",
      "__________________________________________________________________________________________________\n",
      "embedding_11 (Embedding)        (None, 1, 26)        1352        var11[0][0]                      \n",
      "__________________________________________________________________________________________________\n",
      "embedding_12 (Embedding)        (None, 1, 12)        288         var12[0][0]                      \n",
      "__________________________________________________________________________________________________\n",
      "embedding_13 (Embedding)        (None, 1, 15)        465         var13[0][0]                      \n",
      "__________________________________________________________________________________________________\n",
      "embedding_14 (Embedding)        (None, 1, 3)         21          var14[0][0]                      \n",
      "__________________________________________________________________________________________________\n",
      "embedding_15 (Embedding)        (None, 1, 26)        1560        var15[0][0]                      \n",
      "__________________________________________________________________________________________________\n",
      "embedding_16 (Embedding)        (None, 1, 26)        9490        var16[0][0]                      \n",
      "__________________________________________________________________________________________________\n",
      "embedding_17 (Embedding)        (None, 1, 26)        1352        var17[0][0]                      \n",
      "__________________________________________________________________________________________________\n",
      "concatenate_1 (Concatenate)     (None, 1, 282)       0           embedding_1[0][0]                \n",
      "                                                                 embedding_2[0][0]                \n",
      "                                                                 embedding_3[0][0]                \n",
      "                                                                 embedding_4[0][0]                \n",
      "                                                                 embedding_5[0][0]                \n",
      "                                                                 embedding_6[0][0]                \n",
      "                                                                 embedding_7[0][0]                \n",
      "                                                                 embedding_8[0][0]                \n",
      "                                                                 embedding_9[0][0]                \n",
      "                                                                 embedding_10[0][0]               \n",
      "                                                                 embedding_11[0][0]               \n",
      "                                                                 embedding_12[0][0]               \n",
      "                                                                 embedding_13[0][0]               \n",
      "                                                                 embedding_14[0][0]               \n",
      "                                                                 embedding_15[0][0]               \n",
      "                                                                 embedding_16[0][0]               \n",
      "                                                                 embedding_17[0][0]               \n",
      "__________________________________________________________________________________________________\n",
      "var0 (InputLayer)               (None, 6)            0                                            \n",
      "__________________________________________________________________________________________________\n",
      "flatten_1 (Flatten)             (None, 282)          0           concatenate_1[0][0]              \n",
      "__________________________________________________________________________________________________\n",
      "layer1 (Dense)                  (None, 6)            42          var0[0][0]                       \n",
      "__________________________________________________________________________________________________\n",
      "dropout_1 (Dropout)             (None, 282)          0           flatten_1[0][0]                  \n",
      "__________________________________________________________________________________________________\n",
      "concatenate_2 (Concatenate)     (None, 288)          0           layer1[0][0]                     \n",
      "                                                                 dropout_1[0][0]                  \n",
      "__________________________________________________________________________________________________\n",
      "layer2 (Dense)                  (None, 128)          36992       concatenate_2[0][0]              \n",
      "__________________________________________________________________________________________________\n",
      "layer3 (Dense)                  (None, 64)           8256        layer2[0][0]                     \n",
      "__________________________________________________________________________________________________\n",
      "layer4 (Dense)                  (None, 32)           2080        layer3[0][0]                     \n",
      "__________________________________________________________________________________________________\n",
      "output (Dense)                  (None, 1)            33          layer4[0][0]                     \n",
      "==================================================================================================\n",
      "Total params: 104,468\n",
      "Trainable params: 104,468\n",
      "Non-trainable params: 0\n",
      "__________________________________________________________________________________________________\n"
     ]
    }
   ],
   "source": [
    "# Get the model for this grid point\n",
    "model = get_model(actfn = 'elu', imode='glorot_normal', dr_rate=0.1, nnodes=21)\n",
    "\n",
    "# Print summary of model architecture\n",
    "model.summary()"
   ]
  },
  {
   "cell_type": "markdown",
   "metadata": {},
   "source": [
    "Now display the architecture of the model"
   ]
  },
  {
   "cell_type": "code",
   "execution_count": 17,
   "metadata": {},
   "outputs": [
    {
     "data": {
      "image/svg+xml": [
       "<svg height=\"702pt\" viewBox=\"0.00 0.00 3123.50 702.00\" width=\"3124pt\" xmlns=\"http://www.w3.org/2000/svg\" xmlns:xlink=\"http://www.w3.org/1999/xlink\">\n",
       "<g class=\"graph\" id=\"graph0\" transform=\"scale(1 1) rotate(0) translate(4 698)\">\n",
       "<title>G</title>\n",
       "<polygon fill=\"white\" points=\"-4,4 -4,-698 3119.5,-698 3119.5,4 -4,4\" stroke=\"none\"/>\n",
       "<!-- 2079283927528 -->\n",
       "<g class=\"node\" id=\"node1\"><title>2079283927528</title>\n",
       "<polygon fill=\"none\" points=\"27.5,-657.5 27.5,-693.5 135.5,-693.5 135.5,-657.5 27.5,-657.5\" stroke=\"black\"/>\n",
       "<text font-family=\"Times New Roman,serif\" font-size=\"14.00\" text-anchor=\"middle\" x=\"81.5\" y=\"-671.8\">var1: InputLayer</text>\n",
       "</g>\n",
       "<!-- 2079283967200 -->\n",
       "<g class=\"node\" id=\"node18\"><title>2079283967200</title>\n",
       "<polygon fill=\"none\" points=\"0,-584.5 0,-620.5 163,-620.5 163,-584.5 0,-584.5\" stroke=\"black\"/>\n",
       "<text font-family=\"Times New Roman,serif\" font-size=\"14.00\" text-anchor=\"middle\" x=\"81.5\" y=\"-598.8\">embedding_1: Embedding</text>\n",
       "</g>\n",
       "<!-- 2079283927528&#45;&gt;2079283967200 -->\n",
       "<g class=\"edge\" id=\"edge1\"><title>2079283927528-&gt;2079283967200</title>\n",
       "<path d=\"M81.5,-657.313C81.5,-649.289 81.5,-639.547 81.5,-630.569\" fill=\"none\" stroke=\"black\"/>\n",
       "<polygon fill=\"black\" points=\"85.0001,-630.529 81.5,-620.529 78.0001,-630.529 85.0001,-630.529\" stroke=\"black\"/>\n",
       "</g>\n",
       "<!-- 2079283967032 -->\n",
       "<g class=\"node\" id=\"node2\"><title>2079283967032</title>\n",
       "<polygon fill=\"none\" points=\"208.5,-657.5 208.5,-693.5 316.5,-693.5 316.5,-657.5 208.5,-657.5\" stroke=\"black\"/>\n",
       "<text font-family=\"Times New Roman,serif\" font-size=\"14.00\" text-anchor=\"middle\" x=\"262.5\" y=\"-671.8\">var2: InputLayer</text>\n",
       "</g>\n",
       "<!-- 2079298123704 -->\n",
       "<g class=\"node\" id=\"node19\"><title>2079298123704</title>\n",
       "<polygon fill=\"none\" points=\"181,-584.5 181,-620.5 344,-620.5 344,-584.5 181,-584.5\" stroke=\"black\"/>\n",
       "<text font-family=\"Times New Roman,serif\" font-size=\"14.00\" text-anchor=\"middle\" x=\"262.5\" y=\"-598.8\">embedding_2: Embedding</text>\n",
       "</g>\n",
       "<!-- 2079283967032&#45;&gt;2079298123704 -->\n",
       "<g class=\"edge\" id=\"edge2\"><title>2079283967032-&gt;2079298123704</title>\n",
       "<path d=\"M262.5,-657.313C262.5,-649.289 262.5,-639.547 262.5,-630.569\" fill=\"none\" stroke=\"black\"/>\n",
       "<polygon fill=\"black\" points=\"266,-630.529 262.5,-620.529 259,-630.529 266,-630.529\" stroke=\"black\"/>\n",
       "</g>\n",
       "<!-- 2079298121856 -->\n",
       "<g class=\"node\" id=\"node3\"><title>2079298121856</title>\n",
       "<polygon fill=\"none\" points=\"389.5,-657.5 389.5,-693.5 497.5,-693.5 497.5,-657.5 389.5,-657.5\" stroke=\"black\"/>\n",
       "<text font-family=\"Times New Roman,serif\" font-size=\"14.00\" text-anchor=\"middle\" x=\"443.5\" y=\"-671.8\">var3: InputLayer</text>\n",
       "</g>\n",
       "<!-- 2079298295008 -->\n",
       "<g class=\"node\" id=\"node20\"><title>2079298295008</title>\n",
       "<polygon fill=\"none\" points=\"362,-584.5 362,-620.5 525,-620.5 525,-584.5 362,-584.5\" stroke=\"black\"/>\n",
       "<text font-family=\"Times New Roman,serif\" font-size=\"14.00\" text-anchor=\"middle\" x=\"443.5\" y=\"-598.8\">embedding_3: Embedding</text>\n",
       "</g>\n",
       "<!-- 2079298121856&#45;&gt;2079298295008 -->\n",
       "<g class=\"edge\" id=\"edge3\"><title>2079298121856-&gt;2079298295008</title>\n",
       "<path d=\"M443.5,-657.313C443.5,-649.289 443.5,-639.547 443.5,-630.569\" fill=\"none\" stroke=\"black\"/>\n",
       "<polygon fill=\"black\" points=\"447,-630.529 443.5,-620.529 440,-630.529 447,-630.529\" stroke=\"black\"/>\n",
       "</g>\n",
       "<!-- 2079298221000 -->\n",
       "<g class=\"node\" id=\"node4\"><title>2079298221000</title>\n",
       "<polygon fill=\"none\" points=\"570.5,-657.5 570.5,-693.5 678.5,-693.5 678.5,-657.5 570.5,-657.5\" stroke=\"black\"/>\n",
       "<text font-family=\"Times New Roman,serif\" font-size=\"14.00\" text-anchor=\"middle\" x=\"624.5\" y=\"-671.8\">var4: InputLayer</text>\n",
       "</g>\n",
       "<!-- 2079298451608 -->\n",
       "<g class=\"node\" id=\"node21\"><title>2079298451608</title>\n",
       "<polygon fill=\"none\" points=\"543,-584.5 543,-620.5 706,-620.5 706,-584.5 543,-584.5\" stroke=\"black\"/>\n",
       "<text font-family=\"Times New Roman,serif\" font-size=\"14.00\" text-anchor=\"middle\" x=\"624.5\" y=\"-598.8\">embedding_4: Embedding</text>\n",
       "</g>\n",
       "<!-- 2079298221000&#45;&gt;2079298451608 -->\n",
       "<g class=\"edge\" id=\"edge4\"><title>2079298221000-&gt;2079298451608</title>\n",
       "<path d=\"M624.5,-657.313C624.5,-649.289 624.5,-639.547 624.5,-630.569\" fill=\"none\" stroke=\"black\"/>\n",
       "<polygon fill=\"black\" points=\"628,-630.529 624.5,-620.529 621,-630.529 628,-630.529\" stroke=\"black\"/>\n",
       "</g>\n",
       "<!-- 2079298451216 -->\n",
       "<g class=\"node\" id=\"node5\"><title>2079298451216</title>\n",
       "<polygon fill=\"none\" points=\"751.5,-657.5 751.5,-693.5 859.5,-693.5 859.5,-657.5 751.5,-657.5\" stroke=\"black\"/>\n",
       "<text font-family=\"Times New Roman,serif\" font-size=\"14.00\" text-anchor=\"middle\" x=\"805.5\" y=\"-671.8\">var5: InputLayer</text>\n",
       "</g>\n",
       "<!-- 2079298606864 -->\n",
       "<g class=\"node\" id=\"node22\"><title>2079298606864</title>\n",
       "<polygon fill=\"none\" points=\"724,-584.5 724,-620.5 887,-620.5 887,-584.5 724,-584.5\" stroke=\"black\"/>\n",
       "<text font-family=\"Times New Roman,serif\" font-size=\"14.00\" text-anchor=\"middle\" x=\"805.5\" y=\"-598.8\">embedding_5: Embedding</text>\n",
       "</g>\n",
       "<!-- 2079298451216&#45;&gt;2079298606864 -->\n",
       "<g class=\"edge\" id=\"edge5\"><title>2079298451216-&gt;2079298606864</title>\n",
       "<path d=\"M805.5,-657.313C805.5,-649.289 805.5,-639.547 805.5,-630.569\" fill=\"none\" stroke=\"black\"/>\n",
       "<polygon fill=\"black\" points=\"809,-630.529 805.5,-620.529 802,-630.529 809,-630.529\" stroke=\"black\"/>\n",
       "</g>\n",
       "<!-- 2079298605744 -->\n",
       "<g class=\"node\" id=\"node6\"><title>2079298605744</title>\n",
       "<polygon fill=\"none\" points=\"932.5,-657.5 932.5,-693.5 1040.5,-693.5 1040.5,-657.5 932.5,-657.5\" stroke=\"black\"/>\n",
       "<text font-family=\"Times New Roman,serif\" font-size=\"14.00\" text-anchor=\"middle\" x=\"986.5\" y=\"-671.8\">var6: InputLayer</text>\n",
       "</g>\n",
       "<!-- 2079298665048 -->\n",
       "<g class=\"node\" id=\"node23\"><title>2079298665048</title>\n",
       "<polygon fill=\"none\" points=\"905,-584.5 905,-620.5 1068,-620.5 1068,-584.5 905,-584.5\" stroke=\"black\"/>\n",
       "<text font-family=\"Times New Roman,serif\" font-size=\"14.00\" text-anchor=\"middle\" x=\"986.5\" y=\"-598.8\">embedding_6: Embedding</text>\n",
       "</g>\n",
       "<!-- 2079298605744&#45;&gt;2079298665048 -->\n",
       "<g class=\"edge\" id=\"edge6\"><title>2079298605744-&gt;2079298665048</title>\n",
       "<path d=\"M986.5,-657.313C986.5,-649.289 986.5,-639.547 986.5,-630.569\" fill=\"none\" stroke=\"black\"/>\n",
       "<polygon fill=\"black\" points=\"990,-630.529 986.5,-620.529 983,-630.529 990,-630.529\" stroke=\"black\"/>\n",
       "</g>\n",
       "<!-- 2079298755328 -->\n",
       "<g class=\"node\" id=\"node7\"><title>2079298755328</title>\n",
       "<polygon fill=\"none\" points=\"1113.5,-657.5 1113.5,-693.5 1221.5,-693.5 1221.5,-657.5 1113.5,-657.5\" stroke=\"black\"/>\n",
       "<text font-family=\"Times New Roman,serif\" font-size=\"14.00\" text-anchor=\"middle\" x=\"1167.5\" y=\"-671.8\">var7: InputLayer</text>\n",
       "</g>\n",
       "<!-- 2079298753760 -->\n",
       "<g class=\"node\" id=\"node24\"><title>2079298753760</title>\n",
       "<polygon fill=\"none\" points=\"1086,-584.5 1086,-620.5 1249,-620.5 1249,-584.5 1086,-584.5\" stroke=\"black\"/>\n",
       "<text font-family=\"Times New Roman,serif\" font-size=\"14.00\" text-anchor=\"middle\" x=\"1167.5\" y=\"-598.8\">embedding_7: Embedding</text>\n",
       "</g>\n",
       "<!-- 2079298755328&#45;&gt;2079298753760 -->\n",
       "<g class=\"edge\" id=\"edge7\"><title>2079298755328-&gt;2079298753760</title>\n",
       "<path d=\"M1167.5,-657.313C1167.5,-649.289 1167.5,-639.547 1167.5,-630.569\" fill=\"none\" stroke=\"black\"/>\n",
       "<polygon fill=\"black\" points=\"1171,-630.529 1167.5,-620.529 1164,-630.529 1171,-630.529\" stroke=\"black\"/>\n",
       "</g>\n",
       "<!-- 2079298051208 -->\n",
       "<g class=\"node\" id=\"node8\"><title>2079298051208</title>\n",
       "<polygon fill=\"none\" points=\"1294.5,-657.5 1294.5,-693.5 1402.5,-693.5 1402.5,-657.5 1294.5,-657.5\" stroke=\"black\"/>\n",
       "<text font-family=\"Times New Roman,serif\" font-size=\"14.00\" text-anchor=\"middle\" x=\"1348.5\" y=\"-671.8\">var8: InputLayer</text>\n",
       "</g>\n",
       "<!-- 2079298907440 -->\n",
       "<g class=\"node\" id=\"node25\"><title>2079298907440</title>\n",
       "<polygon fill=\"none\" points=\"1267,-584.5 1267,-620.5 1430,-620.5 1430,-584.5 1267,-584.5\" stroke=\"black\"/>\n",
       "<text font-family=\"Times New Roman,serif\" font-size=\"14.00\" text-anchor=\"middle\" x=\"1348.5\" y=\"-598.8\">embedding_8: Embedding</text>\n",
       "</g>\n",
       "<!-- 2079298051208&#45;&gt;2079298907440 -->\n",
       "<g class=\"edge\" id=\"edge8\"><title>2079298051208-&gt;2079298907440</title>\n",
       "<path d=\"M1348.5,-657.313C1348.5,-649.289 1348.5,-639.547 1348.5,-630.569\" fill=\"none\" stroke=\"black\"/>\n",
       "<polygon fill=\"black\" points=\"1352,-630.529 1348.5,-620.529 1345,-630.529 1352,-630.529\" stroke=\"black\"/>\n",
       "</g>\n",
       "<!-- 2079298907720 -->\n",
       "<g class=\"node\" id=\"node9\"><title>2079298907720</title>\n",
       "<polygon fill=\"none\" points=\"1475.5,-657.5 1475.5,-693.5 1583.5,-693.5 1583.5,-657.5 1475.5,-657.5\" stroke=\"black\"/>\n",
       "<text font-family=\"Times New Roman,serif\" font-size=\"14.00\" text-anchor=\"middle\" x=\"1529.5\" y=\"-671.8\">var9: InputLayer</text>\n",
       "</g>\n",
       "<!-- 2079299136592 -->\n",
       "<g class=\"node\" id=\"node26\"><title>2079299136592</title>\n",
       "<polygon fill=\"none\" points=\"1448,-584.5 1448,-620.5 1611,-620.5 1611,-584.5 1448,-584.5\" stroke=\"black\"/>\n",
       "<text font-family=\"Times New Roman,serif\" font-size=\"14.00\" text-anchor=\"middle\" x=\"1529.5\" y=\"-598.8\">embedding_9: Embedding</text>\n",
       "</g>\n",
       "<!-- 2079298907720&#45;&gt;2079299136592 -->\n",
       "<g class=\"edge\" id=\"edge9\"><title>2079298907720-&gt;2079299136592</title>\n",
       "<path d=\"M1529.5,-657.313C1529.5,-649.289 1529.5,-639.547 1529.5,-630.569\" fill=\"none\" stroke=\"black\"/>\n",
       "<polygon fill=\"black\" points=\"1533,-630.529 1529.5,-620.529 1526,-630.529 1533,-630.529\" stroke=\"black\"/>\n",
       "</g>\n",
       "<!-- 2079299137488 -->\n",
       "<g class=\"node\" id=\"node10\"><title>2079299137488</title>\n",
       "<polygon fill=\"none\" points=\"1657,-657.5 1657,-693.5 1772,-693.5 1772,-657.5 1657,-657.5\" stroke=\"black\"/>\n",
       "<text font-family=\"Times New Roman,serif\" font-size=\"14.00\" text-anchor=\"middle\" x=\"1714.5\" y=\"-671.8\">var10: InputLayer</text>\n",
       "</g>\n",
       "<!-- 2079299221712 -->\n",
       "<g class=\"node\" id=\"node27\"><title>2079299221712</title>\n",
       "<polygon fill=\"none\" points=\"1629.5,-584.5 1629.5,-620.5 1799.5,-620.5 1799.5,-584.5 1629.5,-584.5\" stroke=\"black\"/>\n",
       "<text font-family=\"Times New Roman,serif\" font-size=\"14.00\" text-anchor=\"middle\" x=\"1714.5\" y=\"-598.8\">embedding_10: Embedding</text>\n",
       "</g>\n",
       "<!-- 2079299137488&#45;&gt;2079299221712 -->\n",
       "<g class=\"edge\" id=\"edge10\"><title>2079299137488-&gt;2079299221712</title>\n",
       "<path d=\"M1714.5,-657.313C1714.5,-649.289 1714.5,-639.547 1714.5,-630.569\" fill=\"none\" stroke=\"black\"/>\n",
       "<polygon fill=\"black\" points=\"1718,-630.529 1714.5,-620.529 1711,-630.529 1718,-630.529\" stroke=\"black\"/>\n",
       "</g>\n",
       "<!-- 2079299222496 -->\n",
       "<g class=\"node\" id=\"node11\"><title>2079299222496</title>\n",
       "<polygon fill=\"none\" points=\"1845,-657.5 1845,-693.5 1960,-693.5 1960,-657.5 1845,-657.5\" stroke=\"black\"/>\n",
       "<text font-family=\"Times New Roman,serif\" font-size=\"14.00\" text-anchor=\"middle\" x=\"1902.5\" y=\"-671.8\">var11: InputLayer</text>\n",
       "</g>\n",
       "<!-- 2079299534016 -->\n",
       "<g class=\"node\" id=\"node28\"><title>2079299534016</title>\n",
       "<polygon fill=\"none\" points=\"1817.5,-584.5 1817.5,-620.5 1987.5,-620.5 1987.5,-584.5 1817.5,-584.5\" stroke=\"black\"/>\n",
       "<text font-family=\"Times New Roman,serif\" font-size=\"14.00\" text-anchor=\"middle\" x=\"1902.5\" y=\"-598.8\">embedding_11: Embedding</text>\n",
       "</g>\n",
       "<!-- 2079299222496&#45;&gt;2079299534016 -->\n",
       "<g class=\"edge\" id=\"edge11\"><title>2079299222496-&gt;2079299534016</title>\n",
       "<path d=\"M1902.5,-657.313C1902.5,-649.289 1902.5,-639.547 1902.5,-630.569\" fill=\"none\" stroke=\"black\"/>\n",
       "<polygon fill=\"black\" points=\"1906,-630.529 1902.5,-620.529 1899,-630.529 1906,-630.529\" stroke=\"black\"/>\n",
       "</g>\n",
       "<!-- 2079299533344 -->\n",
       "<g class=\"node\" id=\"node12\"><title>2079299533344</title>\n",
       "<polygon fill=\"none\" points=\"2033,-657.5 2033,-693.5 2148,-693.5 2148,-657.5 2033,-657.5\" stroke=\"black\"/>\n",
       "<text font-family=\"Times New Roman,serif\" font-size=\"14.00\" text-anchor=\"middle\" x=\"2090.5\" y=\"-671.8\">var12: InputLayer</text>\n",
       "</g>\n",
       "<!-- 2079299669072 -->\n",
       "<g class=\"node\" id=\"node29\"><title>2079299669072</title>\n",
       "<polygon fill=\"none\" points=\"2005.5,-584.5 2005.5,-620.5 2175.5,-620.5 2175.5,-584.5 2005.5,-584.5\" stroke=\"black\"/>\n",
       "<text font-family=\"Times New Roman,serif\" font-size=\"14.00\" text-anchor=\"middle\" x=\"2090.5\" y=\"-598.8\">embedding_12: Embedding</text>\n",
       "</g>\n",
       "<!-- 2079299533344&#45;&gt;2079299669072 -->\n",
       "<g class=\"edge\" id=\"edge12\"><title>2079299533344-&gt;2079299669072</title>\n",
       "<path d=\"M2090.5,-657.313C2090.5,-649.289 2090.5,-639.547 2090.5,-630.569\" fill=\"none\" stroke=\"black\"/>\n",
       "<polygon fill=\"black\" points=\"2094,-630.529 2090.5,-620.529 2087,-630.529 2094,-630.529\" stroke=\"black\"/>\n",
       "</g>\n",
       "<!-- 2079299754472 -->\n",
       "<g class=\"node\" id=\"node13\"><title>2079299754472</title>\n",
       "<polygon fill=\"none\" points=\"2221,-657.5 2221,-693.5 2336,-693.5 2336,-657.5 2221,-657.5\" stroke=\"black\"/>\n",
       "<text font-family=\"Times New Roman,serif\" font-size=\"14.00\" text-anchor=\"middle\" x=\"2278.5\" y=\"-671.8\">var13: InputLayer</text>\n",
       "</g>\n",
       "<!-- 2079299753576 -->\n",
       "<g class=\"node\" id=\"node30\"><title>2079299753576</title>\n",
       "<polygon fill=\"none\" points=\"2193.5,-584.5 2193.5,-620.5 2363.5,-620.5 2363.5,-584.5 2193.5,-584.5\" stroke=\"black\"/>\n",
       "<text font-family=\"Times New Roman,serif\" font-size=\"14.00\" text-anchor=\"middle\" x=\"2278.5\" y=\"-598.8\">embedding_13: Embedding</text>\n",
       "</g>\n",
       "<!-- 2079299754472&#45;&gt;2079299753576 -->\n",
       "<g class=\"edge\" id=\"edge13\"><title>2079299754472-&gt;2079299753576</title>\n",
       "<path d=\"M2278.5,-657.313C2278.5,-649.289 2278.5,-639.547 2278.5,-630.569\" fill=\"none\" stroke=\"black\"/>\n",
       "<polygon fill=\"black\" points=\"2282,-630.529 2278.5,-620.529 2275,-630.529 2282,-630.529\" stroke=\"black\"/>\n",
       "</g>\n",
       "<!-- 2079299368944 -->\n",
       "<g class=\"node\" id=\"node14\"><title>2079299368944</title>\n",
       "<polygon fill=\"none\" points=\"2409,-657.5 2409,-693.5 2524,-693.5 2524,-657.5 2409,-657.5\" stroke=\"black\"/>\n",
       "<text font-family=\"Times New Roman,serif\" font-size=\"14.00\" text-anchor=\"middle\" x=\"2466.5\" y=\"-671.8\">var14: InputLayer</text>\n",
       "</g>\n",
       "<!-- 2079299900752 -->\n",
       "<g class=\"node\" id=\"node31\"><title>2079299900752</title>\n",
       "<polygon fill=\"none\" points=\"2381.5,-584.5 2381.5,-620.5 2551.5,-620.5 2551.5,-584.5 2381.5,-584.5\" stroke=\"black\"/>\n",
       "<text font-family=\"Times New Roman,serif\" font-size=\"14.00\" text-anchor=\"middle\" x=\"2466.5\" y=\"-598.8\">embedding_14: Embedding</text>\n",
       "</g>\n",
       "<!-- 2079299368944&#45;&gt;2079299900752 -->\n",
       "<g class=\"edge\" id=\"edge14\"><title>2079299368944-&gt;2079299900752</title>\n",
       "<path d=\"M2466.5,-657.313C2466.5,-649.289 2466.5,-639.547 2466.5,-630.569\" fill=\"none\" stroke=\"black\"/>\n",
       "<polygon fill=\"black\" points=\"2470,-630.529 2466.5,-620.529 2463,-630.529 2470,-630.529\" stroke=\"black\"/>\n",
       "</g>\n",
       "<!-- 2079299902488 -->\n",
       "<g class=\"node\" id=\"node15\"><title>2079299902488</title>\n",
       "<polygon fill=\"none\" points=\"2597,-657.5 2597,-693.5 2712,-693.5 2712,-657.5 2597,-657.5\" stroke=\"black\"/>\n",
       "<text font-family=\"Times New Roman,serif\" font-size=\"14.00\" text-anchor=\"middle\" x=\"2654.5\" y=\"-671.8\">var15: InputLayer</text>\n",
       "</g>\n",
       "<!-- 2079299901816 -->\n",
       "<g class=\"node\" id=\"node32\"><title>2079299901816</title>\n",
       "<polygon fill=\"none\" points=\"2569.5,-584.5 2569.5,-620.5 2739.5,-620.5 2739.5,-584.5 2569.5,-584.5\" stroke=\"black\"/>\n",
       "<text font-family=\"Times New Roman,serif\" font-size=\"14.00\" text-anchor=\"middle\" x=\"2654.5\" y=\"-598.8\">embedding_15: Embedding</text>\n",
       "</g>\n",
       "<!-- 2079299902488&#45;&gt;2079299901816 -->\n",
       "<g class=\"edge\" id=\"edge15\"><title>2079299902488-&gt;2079299901816</title>\n",
       "<path d=\"M2654.5,-657.313C2654.5,-649.289 2654.5,-639.547 2654.5,-630.569\" fill=\"none\" stroke=\"black\"/>\n",
       "<polygon fill=\"black\" points=\"2658,-630.529 2654.5,-620.529 2651,-630.529 2658,-630.529\" stroke=\"black\"/>\n",
       "</g>\n",
       "<!-- 2079300048432 -->\n",
       "<g class=\"node\" id=\"node16\"><title>2079300048432</title>\n",
       "<polygon fill=\"none\" points=\"2785,-657.5 2785,-693.5 2900,-693.5 2900,-657.5 2785,-657.5\" stroke=\"black\"/>\n",
       "<text font-family=\"Times New Roman,serif\" font-size=\"14.00\" text-anchor=\"middle\" x=\"2842.5\" y=\"-671.8\">var16: InputLayer</text>\n",
       "</g>\n",
       "<!-- 2079300370104 -->\n",
       "<g class=\"node\" id=\"node33\"><title>2079300370104</title>\n",
       "<polygon fill=\"none\" points=\"2757.5,-584.5 2757.5,-620.5 2927.5,-620.5 2927.5,-584.5 2757.5,-584.5\" stroke=\"black\"/>\n",
       "<text font-family=\"Times New Roman,serif\" font-size=\"14.00\" text-anchor=\"middle\" x=\"2842.5\" y=\"-598.8\">embedding_16: Embedding</text>\n",
       "</g>\n",
       "<!-- 2079300048432&#45;&gt;2079300370104 -->\n",
       "<g class=\"edge\" id=\"edge16\"><title>2079300048432-&gt;2079300370104</title>\n",
       "<path d=\"M2842.5,-657.313C2842.5,-649.289 2842.5,-639.547 2842.5,-630.569\" fill=\"none\" stroke=\"black\"/>\n",
       "<polygon fill=\"black\" points=\"2846,-630.529 2842.5,-620.529 2839,-630.529 2846,-630.529\" stroke=\"black\"/>\n",
       "</g>\n",
       "<!-- 2079300050392 -->\n",
       "<g class=\"node\" id=\"node17\"><title>2079300050392</title>\n",
       "<polygon fill=\"none\" points=\"2973,-657.5 2973,-693.5 3088,-693.5 3088,-657.5 2973,-657.5\" stroke=\"black\"/>\n",
       "<text font-family=\"Times New Roman,serif\" font-size=\"14.00\" text-anchor=\"middle\" x=\"3030.5\" y=\"-671.8\">var17: InputLayer</text>\n",
       "</g>\n",
       "<!-- 2079300214624 -->\n",
       "<g class=\"node\" id=\"node34\"><title>2079300214624</title>\n",
       "<polygon fill=\"none\" points=\"2945.5,-584.5 2945.5,-620.5 3115.5,-620.5 3115.5,-584.5 2945.5,-584.5\" stroke=\"black\"/>\n",
       "<text font-family=\"Times New Roman,serif\" font-size=\"14.00\" text-anchor=\"middle\" x=\"3030.5\" y=\"-598.8\">embedding_17: Embedding</text>\n",
       "</g>\n",
       "<!-- 2079300050392&#45;&gt;2079300214624 -->\n",
       "<g class=\"edge\" id=\"edge17\"><title>2079300050392-&gt;2079300214624</title>\n",
       "<path d=\"M3030.5,-657.313C3030.5,-649.289 3030.5,-639.547 3030.5,-630.569\" fill=\"none\" stroke=\"black\"/>\n",
       "<polygon fill=\"black\" points=\"3034,-630.529 3030.5,-620.529 3027,-630.529 3034,-630.529\" stroke=\"black\"/>\n",
       "</g>\n",
       "<!-- 2079283925512 -->\n",
       "<g class=\"node\" id=\"node35\"><title>2079283925512</title>\n",
       "<polygon fill=\"none\" points=\"1443,-511.5 1443,-547.5 1616,-547.5 1616,-511.5 1443,-511.5\" stroke=\"black\"/>\n",
       "<text font-family=\"Times New Roman,serif\" font-size=\"14.00\" text-anchor=\"middle\" x=\"1529.5\" y=\"-525.8\">concatenate_1: Concatenate</text>\n",
       "</g>\n",
       "<!-- 2079283967200&#45;&gt;2079283925512 -->\n",
       "<g class=\"edge\" id=\"edge18\"><title>2079283967200-&gt;2079283925512</title>\n",
       "<path d=\"M163.334,-585.038C166.084,-584.661 168.812,-584.312 171.5,-584 416.054,-555.575 1164.35,-537.941 1432.57,-532.394\" fill=\"none\" stroke=\"black\"/>\n",
       "<polygon fill=\"black\" points=\"1432.75,-535.891 1442.67,-532.186 1432.6,-528.892 1432.75,-535.891\" stroke=\"black\"/>\n",
       "</g>\n",
       "<!-- 2079298123704&#45;&gt;2079283925512 -->\n",
       "<g class=\"edge\" id=\"edge19\"><title>2079298123704-&gt;2079283925512</title>\n",
       "<path d=\"M344.336,-585.059C347.086,-584.676 349.813,-584.321 352.5,-584 751.281,-536.427 1230.69,-530.357 1432.49,-530.111\" fill=\"none\" stroke=\"black\"/>\n",
       "<polygon fill=\"black\" points=\"1432.76,-533.611 1442.76,-530.104 1432.76,-526.611 1432.76,-533.611\" stroke=\"black\"/>\n",
       "</g>\n",
       "<!-- 2079298295008&#45;&gt;2079283925512 -->\n",
       "<g class=\"edge\" id=\"edge20\"><title>2079298295008-&gt;2079283925512</title>\n",
       "<path d=\"M525.34,-585.088C528.089,-584.696 530.814,-584.332 533.5,-584 861.614,-543.485 1254.29,-533.645 1432.73,-531.26\" fill=\"none\" stroke=\"black\"/>\n",
       "<polygon fill=\"black\" points=\"1432.93,-534.758 1442.88,-531.129 1432.84,-527.758 1432.93,-534.758\" stroke=\"black\"/>\n",
       "</g>\n",
       "<!-- 2079298451608&#45;&gt;2079283925512 -->\n",
       "<g class=\"edge\" id=\"edge21\"><title>2079298451608-&gt;2079283925512</title>\n",
       "<path d=\"M706.345,-585.13C709.092,-584.726 711.816,-584.348 714.5,-584 972.59,-550.573 1279.51,-537.577 1432.6,-532.898\" fill=\"none\" stroke=\"black\"/>\n",
       "<polygon fill=\"black\" points=\"1433.01,-536.388 1442.9,-532.589 1432.8,-529.391 1433.01,-536.388\" stroke=\"black\"/>\n",
       "</g>\n",
       "<!-- 2079298606864&#45;&gt;2079283925512 -->\n",
       "<g class=\"edge\" id=\"edge22\"><title>2079298606864-&gt;2079283925512</title>\n",
       "<path d=\"M887.354,-585.195C890.099,-584.773 892.82,-584.373 895.5,-584 1084.79,-557.688 1307.8,-542.505 1432.49,-535.426\" fill=\"none\" stroke=\"black\"/>\n",
       "<polygon fill=\"black\" points=\"1432.99,-538.904 1442.77,-534.849 1432.59,-531.915 1432.99,-538.904\" stroke=\"black\"/>\n",
       "</g>\n",
       "<!-- 2079298665048&#45;&gt;2079283925512 -->\n",
       "<g class=\"edge\" id=\"edge23\"><title>2079298665048-&gt;2079283925512</title>\n",
       "<path d=\"M1068.37,-585.312C1071.11,-584.856 1073.83,-584.417 1076.5,-584 1198.87,-564.905 1340.78,-549.174 1432.69,-539.824\" fill=\"none\" stroke=\"black\"/>\n",
       "<polygon fill=\"black\" points=\"1433.22,-543.288 1442.82,-538.799 1432.52,-536.324 1433.22,-543.288\" stroke=\"black\"/>\n",
       "</g>\n",
       "<!-- 2079298753760&#45;&gt;2079283925512 -->\n",
       "<g class=\"edge\" id=\"edge24\"><title>2079298753760-&gt;2079283925512</title>\n",
       "<path d=\"M1249.19,-585.478C1303.58,-574.809 1375.31,-560.742 1432.59,-549.508\" fill=\"none\" stroke=\"black\"/>\n",
       "<polygon fill=\"black\" points=\"1433.6,-552.876 1442.74,-547.516 1432.25,-546.007 1433.6,-552.876\" stroke=\"black\"/>\n",
       "</g>\n",
       "<!-- 2079298907440&#45;&gt;2079283925512 -->\n",
       "<g class=\"edge\" id=\"edge25\"><title>2079298907440-&gt;2079283925512</title>\n",
       "<path d=\"M1391.85,-584.494C1417.19,-574.555 1449.36,-561.934 1476.24,-551.394\" fill=\"none\" stroke=\"black\"/>\n",
       "<polygon fill=\"black\" points=\"1477.84,-554.524 1485.87,-547.614 1475.28,-548.007 1477.84,-554.524\" stroke=\"black\"/>\n",
       "</g>\n",
       "<!-- 2079299136592&#45;&gt;2079283925512 -->\n",
       "<g class=\"edge\" id=\"edge26\"><title>2079299136592-&gt;2079283925512</title>\n",
       "<path d=\"M1529.5,-584.313C1529.5,-576.289 1529.5,-566.547 1529.5,-557.569\" fill=\"none\" stroke=\"black\"/>\n",
       "<polygon fill=\"black\" points=\"1533,-557.529 1529.5,-547.529 1526,-557.529 1533,-557.529\" stroke=\"black\"/>\n",
       "</g>\n",
       "<!-- 2079299221712&#45;&gt;2079283925512 -->\n",
       "<g class=\"edge\" id=\"edge27\"><title>2079299221712-&gt;2079283925512</title>\n",
       "<path d=\"M1670.19,-584.494C1644.18,-574.512 1611.12,-561.824 1583.58,-551.255\" fill=\"none\" stroke=\"black\"/>\n",
       "<polygon fill=\"black\" points=\"1584.68,-547.929 1574.09,-547.614 1582.17,-554.464 1584.68,-547.929\" stroke=\"black\"/>\n",
       "</g>\n",
       "<!-- 2079299534016&#45;&gt;2079283925512 -->\n",
       "<g class=\"edge\" id=\"edge28\"><title>2079299534016-&gt;2079283925512</title>\n",
       "<path d=\"M1817.39,-585.3C1760.48,-574.467 1685.47,-560.189 1626.29,-548.923\" fill=\"none\" stroke=\"black\"/>\n",
       "<polygon fill=\"black\" points=\"1626.66,-545.431 1616.18,-546.999 1625.35,-552.308 1626.66,-545.431\" stroke=\"black\"/>\n",
       "</g>\n",
       "<!-- 2079299669072&#45;&gt;2079283925512 -->\n",
       "<g class=\"edge\" id=\"edge29\"><title>2079299669072-&gt;2079283925512</title>\n",
       "<path d=\"M2005.49,-585.398C2002.46,-584.912 1999.45,-584.444 1996.5,-584 1869,-564.852 1721,-548.961 1626.37,-539.601\" fill=\"none\" stroke=\"black\"/>\n",
       "<polygon fill=\"black\" points=\"1626.53,-536.1 1616.24,-538.603 1625.85,-543.066 1626.53,-536.1\" stroke=\"black\"/>\n",
       "</g>\n",
       "<!-- 2079299753576&#45;&gt;2079283925512 -->\n",
       "<g class=\"edge\" id=\"edge30\"><title>2079299753576-&gt;2079283925512</title>\n",
       "<path d=\"M2193.26,-585.236C2190.3,-584.798 2187.38,-584.385 2184.5,-584 1987.13,-557.638 1754.45,-542.355 1626.33,-535.297\" fill=\"none\" stroke=\"black\"/>\n",
       "<polygon fill=\"black\" points=\"1626.33,-531.792 1616.16,-534.742 1625.95,-538.782 1626.33,-531.792\" stroke=\"black\"/>\n",
       "</g>\n",
       "<!-- 2079299900752&#45;&gt;2079283925512 -->\n",
       "<g class=\"edge\" id=\"edge31\"><title>2079299900752-&gt;2079283925512</title>\n",
       "<path d=\"M2381.26,-585.168C2378.31,-584.75 2375.38,-584.358 2372.5,-584 2103.54,-550.553 1783.56,-537.515 1626.4,-532.851\" fill=\"none\" stroke=\"black\"/>\n",
       "<polygon fill=\"black\" points=\"1626.39,-529.349 1616.29,-532.556 1626.18,-536.346 1626.39,-529.349\" stroke=\"black\"/>\n",
       "</g>\n",
       "<!-- 2079299901816&#45;&gt;2079283925512 -->\n",
       "<g class=\"edge\" id=\"edge32\"><title>2079299901816-&gt;2079283925512</title>\n",
       "<path d=\"M2569.27,-585.124C2566.31,-584.719 2563.38,-584.342 2560.5,-584 2218.55,-543.478 1809.19,-533.646 1626.18,-531.262\" fill=\"none\" stroke=\"black\"/>\n",
       "<polygon fill=\"black\" points=\"1626.09,-527.76 1616.05,-531.134 1626,-534.76 1626.09,-527.76\" stroke=\"black\"/>\n",
       "</g>\n",
       "<!-- 2079300370104&#45;&gt;2079283925512 -->\n",
       "<g class=\"edge\" id=\"edge33\"><title>2079300370104-&gt;2079283925512</title>\n",
       "<path d=\"M2757.27,-585.094C2754.32,-584.697 2751.39,-584.33 2748.5,-584 2333.01,-536.444 1833.41,-530.419 1626.52,-530.152\" fill=\"none\" stroke=\"black\"/>\n",
       "<polygon fill=\"black\" points=\"1626.29,-526.652 1616.29,-530.143 1626.29,-533.652 1626.29,-526.652\" stroke=\"black\"/>\n",
       "</g>\n",
       "<!-- 2079300214624&#45;&gt;2079283925512 -->\n",
       "<g class=\"edge\" id=\"edge34\"><title>2079300214624-&gt;2079283925512</title>\n",
       "<path d=\"M2945.28,-585.072C2942.32,-584.682 2939.39,-584.322 2936.5,-584 2681.95,-555.62 1901.35,-537.854 1626.49,-532.341\" fill=\"none\" stroke=\"black\"/>\n",
       "<polygon fill=\"black\" points=\"1626.21,-528.835 1616.14,-532.135 1626.07,-535.834 1626.21,-528.835\" stroke=\"black\"/>\n",
       "</g>\n",
       "<!-- 2079300213840 -->\n",
       "<g class=\"node\" id=\"node37\"><title>2079300213840</title>\n",
       "<polygon fill=\"none\" points=\"1475,-438.5 1475,-474.5 1584,-474.5 1584,-438.5 1475,-438.5\" stroke=\"black\"/>\n",
       "<text font-family=\"Times New Roman,serif\" font-size=\"14.00\" text-anchor=\"middle\" x=\"1529.5\" y=\"-452.8\">flatten_1: Flatten</text>\n",
       "</g>\n",
       "<!-- 2079283925512&#45;&gt;2079300213840 -->\n",
       "<g class=\"edge\" id=\"edge35\"><title>2079283925512-&gt;2079300213840</title>\n",
       "<path d=\"M1529.5,-511.313C1529.5,-503.289 1529.5,-493.547 1529.5,-484.569\" fill=\"none\" stroke=\"black\"/>\n",
       "<polygon fill=\"black\" points=\"1533,-484.529 1529.5,-474.529 1526,-484.529 1533,-484.529\" stroke=\"black\"/>\n",
       "</g>\n",
       "<!-- 2079283966080 -->\n",
       "<g class=\"node\" id=\"node36\"><title>2079283966080</title>\n",
       "<polygon fill=\"none\" points=\"1604.5,-438.5 1604.5,-474.5 1712.5,-474.5 1712.5,-438.5 1604.5,-438.5\" stroke=\"black\"/>\n",
       "<text font-family=\"Times New Roman,serif\" font-size=\"14.00\" text-anchor=\"middle\" x=\"1658.5\" y=\"-452.8\">var0: InputLayer</text>\n",
       "</g>\n",
       "<!-- 2079283967648 -->\n",
       "<g class=\"node\" id=\"node38\"><title>2079283967648</title>\n",
       "<polygon fill=\"none\" points=\"1613,-365.5 1613,-401.5 1704,-401.5 1704,-365.5 1613,-365.5\" stroke=\"black\"/>\n",
       "<text font-family=\"Times New Roman,serif\" font-size=\"14.00\" text-anchor=\"middle\" x=\"1658.5\" y=\"-379.8\">layer1: Dense</text>\n",
       "</g>\n",
       "<!-- 2079283966080&#45;&gt;2079283967648 -->\n",
       "<g class=\"edge\" id=\"edge36\"><title>2079283966080-&gt;2079283967648</title>\n",
       "<path d=\"M1658.5,-438.313C1658.5,-430.289 1658.5,-420.547 1658.5,-411.569\" fill=\"none\" stroke=\"black\"/>\n",
       "<polygon fill=\"black\" points=\"1662,-411.529 1658.5,-401.529 1655,-411.529 1662,-411.529\" stroke=\"black\"/>\n",
       "</g>\n",
       "<!-- 2079301327280 -->\n",
       "<g class=\"node\" id=\"node39\"><title>2079301327280</title>\n",
       "<polygon fill=\"none\" points=\"1464.5,-365.5 1464.5,-401.5 1594.5,-401.5 1594.5,-365.5 1464.5,-365.5\" stroke=\"black\"/>\n",
       "<text font-family=\"Times New Roman,serif\" font-size=\"14.00\" text-anchor=\"middle\" x=\"1529.5\" y=\"-379.8\">dropout_1: Dropout</text>\n",
       "</g>\n",
       "<!-- 2079300213840&#45;&gt;2079301327280 -->\n",
       "<g class=\"edge\" id=\"edge37\"><title>2079300213840-&gt;2079301327280</title>\n",
       "<path d=\"M1529.5,-438.313C1529.5,-430.289 1529.5,-420.547 1529.5,-411.569\" fill=\"none\" stroke=\"black\"/>\n",
       "<polygon fill=\"black\" points=\"1533,-411.529 1529.5,-401.529 1526,-411.529 1533,-411.529\" stroke=\"black\"/>\n",
       "</g>\n",
       "<!-- 2079301408192 -->\n",
       "<g class=\"node\" id=\"node40\"><title>2079301408192</title>\n",
       "<polygon fill=\"none\" points=\"1507,-292.5 1507,-328.5 1680,-328.5 1680,-292.5 1507,-292.5\" stroke=\"black\"/>\n",
       "<text font-family=\"Times New Roman,serif\" font-size=\"14.00\" text-anchor=\"middle\" x=\"1593.5\" y=\"-306.8\">concatenate_2: Concatenate</text>\n",
       "</g>\n",
       "<!-- 2079283967648&#45;&gt;2079301408192 -->\n",
       "<g class=\"edge\" id=\"edge38\"><title>2079283967648-&gt;2079301408192</title>\n",
       "<path d=\"M1642.77,-365.313C1634.7,-356.505 1624.74,-345.625 1615.89,-335.958\" fill=\"none\" stroke=\"black\"/>\n",
       "<polygon fill=\"black\" points=\"1618.42,-333.541 1609.09,-328.529 1613.26,-338.268 1618.42,-333.541\" stroke=\"black\"/>\n",
       "</g>\n",
       "<!-- 2079301327280&#45;&gt;2079301408192 -->\n",
       "<g class=\"edge\" id=\"edge39\"><title>2079301327280-&gt;2079301408192</title>\n",
       "<path d=\"M1544.99,-365.313C1552.93,-356.505 1562.74,-345.625 1571.45,-335.958\" fill=\"none\" stroke=\"black\"/>\n",
       "<polygon fill=\"black\" points=\"1574.05,-338.3 1578.15,-328.529 1568.85,-333.613 1574.05,-338.3\" stroke=\"black\"/>\n",
       "</g>\n",
       "<!-- 2079301175168 -->\n",
       "<g class=\"node\" id=\"node41\"><title>2079301175168</title>\n",
       "<polygon fill=\"none\" points=\"1548,-219.5 1548,-255.5 1639,-255.5 1639,-219.5 1548,-219.5\" stroke=\"black\"/>\n",
       "<text font-family=\"Times New Roman,serif\" font-size=\"14.00\" text-anchor=\"middle\" x=\"1593.5\" y=\"-233.8\">layer2: Dense</text>\n",
       "</g>\n",
       "<!-- 2079301408192&#45;&gt;2079301175168 -->\n",
       "<g class=\"edge\" id=\"edge40\"><title>2079301408192-&gt;2079301175168</title>\n",
       "<path d=\"M1593.5,-292.313C1593.5,-284.289 1593.5,-274.547 1593.5,-265.569\" fill=\"none\" stroke=\"black\"/>\n",
       "<polygon fill=\"black\" points=\"1597,-265.529 1593.5,-255.529 1590,-265.529 1597,-265.529\" stroke=\"black\"/>\n",
       "</g>\n",
       "<!-- 2079302010024 -->\n",
       "<g class=\"node\" id=\"node42\"><title>2079302010024</title>\n",
       "<polygon fill=\"none\" points=\"1548,-146.5 1548,-182.5 1639,-182.5 1639,-146.5 1548,-146.5\" stroke=\"black\"/>\n",
       "<text font-family=\"Times New Roman,serif\" font-size=\"14.00\" text-anchor=\"middle\" x=\"1593.5\" y=\"-160.8\">layer3: Dense</text>\n",
       "</g>\n",
       "<!-- 2079301175168&#45;&gt;2079302010024 -->\n",
       "<g class=\"edge\" id=\"edge41\"><title>2079301175168-&gt;2079302010024</title>\n",
       "<path d=\"M1593.5,-219.313C1593.5,-211.289 1593.5,-201.547 1593.5,-192.569\" fill=\"none\" stroke=\"black\"/>\n",
       "<polygon fill=\"black\" points=\"1597,-192.529 1593.5,-182.529 1590,-192.529 1597,-192.529\" stroke=\"black\"/>\n",
       "</g>\n",
       "<!-- 2079302282768 -->\n",
       "<g class=\"node\" id=\"node43\"><title>2079302282768</title>\n",
       "<polygon fill=\"none\" points=\"1548,-73.5 1548,-109.5 1639,-109.5 1639,-73.5 1548,-73.5\" stroke=\"black\"/>\n",
       "<text font-family=\"Times New Roman,serif\" font-size=\"14.00\" text-anchor=\"middle\" x=\"1593.5\" y=\"-87.8\">layer4: Dense</text>\n",
       "</g>\n",
       "<!-- 2079302010024&#45;&gt;2079302282768 -->\n",
       "<g class=\"edge\" id=\"edge42\"><title>2079302010024-&gt;2079302282768</title>\n",
       "<path d=\"M1593.5,-146.313C1593.5,-138.289 1593.5,-128.547 1593.5,-119.569\" fill=\"none\" stroke=\"black\"/>\n",
       "<polygon fill=\"black\" points=\"1597,-119.529 1593.5,-109.529 1590,-119.529 1597,-119.529\" stroke=\"black\"/>\n",
       "</g>\n",
       "<!-- 2079302494024 -->\n",
       "<g class=\"node\" id=\"node44\"><title>2079302494024</title>\n",
       "<polygon fill=\"none\" points=\"1546.5,-0.5 1546.5,-36.5 1640.5,-36.5 1640.5,-0.5 1546.5,-0.5\" stroke=\"black\"/>\n",
       "<text font-family=\"Times New Roman,serif\" font-size=\"14.00\" text-anchor=\"middle\" x=\"1593.5\" y=\"-14.8\">output: Dense</text>\n",
       "</g>\n",
       "<!-- 2079302282768&#45;&gt;2079302494024 -->\n",
       "<g class=\"edge\" id=\"edge43\"><title>2079302282768-&gt;2079302494024</title>\n",
       "<path d=\"M1593.5,-73.3129C1593.5,-65.2895 1593.5,-55.5475 1593.5,-46.5691\" fill=\"none\" stroke=\"black\"/>\n",
       "<polygon fill=\"black\" points=\"1597,-46.5288 1593.5,-36.5288 1590,-46.5289 1597,-46.5288\" stroke=\"black\"/>\n",
       "</g>\n",
       "</g>\n",
       "</svg>"
      ],
      "text/plain": [
       "<IPython.core.display.SVG object>"
      ]
     },
     "execution_count": 17,
     "metadata": {},
     "output_type": "execute_result"
    }
   ],
   "source": [
    "plot_model(model, to_file='model_plot.png', show_shapes=True, show_layer_names=True)\n",
    "SVG(model_to_dot(model).create(prog='dot', format='svg'))"
   ]
  },
  {
   "cell_type": "markdown",
   "metadata": {},
   "source": [
    "## Fit the Keras model"
   ]
  },
  {
   "cell_type": "code",
   "execution_count": 18,
   "metadata": {
    "collapsed": true
   },
   "outputs": [],
   "source": [
    "# Set the batchsize and number of epochs\n",
    "my_batch_size = 64\n",
    "epochs = 25"
   ]
  },
  {
   "cell_type": "code",
   "execution_count": 19,
   "metadata": {
    "collapsed": true
   },
   "outputs": [],
   "source": [
    "# Set Adam as the optimizer\n",
    "Adam_opt = Adam(lr=0.0001, beta_1=0.9, beta_2=0.999, epsilon=1e-08, decay=0.000001)"
   ]
  },
  {
   "cell_type": "code",
   "execution_count": 20,
   "metadata": {
    "collapsed": true
   },
   "outputs": [],
   "source": [
    "# Set the callbacks\n",
    "filepath=\"weights_base.best.hdf5\"\n",
    "save_best = ModelCheckpoint(filepath, monitor='val_loss', verbose=1, save_best_only=True, mode='auto')\n",
    "early_stopping = EarlyStopping(monitor='val_loss', patience=4, mode='auto',min_delta=0.00001)\n",
    "callbacks_list = [save_best, early_stopping]"
   ]
  },
  {
   "cell_type": "code",
   "execution_count": 21,
   "metadata": {
    "collapsed": true
   },
   "outputs": [],
   "source": [
    "# Compile the model\n",
    "model.compile(loss='binary_crossentropy', optimizer=Adam_opt, metrics=['accuracy'])"
   ]
  },
  {
   "cell_type": "code",
   "execution_count": 22,
   "metadata": {},
   "outputs": [
    {
     "name": "stdout",
     "output_type": "stream",
     "text": [
      "Train on 3101500 samples, validate on 344612 samples\n",
      "Epoch 1/25\n",
      "3100672/3101500 [============================>.] - ETA: 0s - loss: 0.2775 - acc: 0.8826\n",
      "Epoch 00001: val_loss improved from inf to 0.19111, saving model to weights_base.best.hdf5\n",
      "3101500/3101500 [==============================] - 146s 47us/step - loss: 0.2775 - acc: 0.8826 - val_loss: 0.1911 - val_acc: 0.9288\n",
      "Epoch 2/25\n",
      "3100480/3101500 [============================>.] - ETA: 0s - loss: 0.1564 - acc: 0.9429\n",
      "Epoch 00002: val_loss improved from 0.19111 to 0.08934, saving model to weights_base.best.hdf5\n",
      "3101500/3101500 [==============================] - 143s 46us/step - loss: 0.1564 - acc: 0.9429 - val_loss: 0.0893 - val_acc: 0.9712\n",
      "Epoch 3/25\n",
      "3100672/3101500 [============================>.] - ETA: 0s - loss: 0.0743 - acc: 0.9746\n",
      "Epoch 00003: val_loss improved from 0.08934 to 0.03517, saving model to weights_base.best.hdf5\n",
      "3101500/3101500 [==============================] - 143s 46us/step - loss: 0.0743 - acc: 0.9746 - val_loss: 0.0352 - val_acc: 0.9905\n",
      "Epoch 4/25\n",
      "3100544/3101500 [============================>.] - ETA: 0s - loss: 0.0446 - acc: 0.9855\n",
      "Epoch 00004: val_loss improved from 0.03517 to 0.02740, saving model to weights_base.best.hdf5\n",
      "3101500/3101500 [==============================] - 144s 46us/step - loss: 0.0446 - acc: 0.9855 - val_loss: 0.0274 - val_acc: 0.9923\n",
      "Epoch 5/25\n",
      "3100864/3101500 [============================>.] - ETA: 0s - loss: 0.0349 - acc: 0.9887\n",
      "Epoch 00005: val_loss improved from 0.02740 to 0.01966, saving model to weights_base.best.hdf5\n",
      "3101500/3101500 [==============================] - 145s 47us/step - loss: 0.0349 - acc: 0.9887 - val_loss: 0.0197 - val_acc: 0.9947\n",
      "Epoch 6/25\n",
      "3100480/3101500 [============================>.] - ETA: 0s - loss: 0.0275 - acc: 0.9910\n",
      "Epoch 00006: val_loss improved from 0.01966 to 0.01462, saving model to weights_base.best.hdf5\n",
      "3101500/3101500 [==============================] - 146s 47us/step - loss: 0.0275 - acc: 0.9910 - val_loss: 0.0146 - val_acc: 0.9959\n",
      "Epoch 7/25\n",
      "3099840/3101500 [============================>.] - ETA: 0s - loss: 0.0229 - acc: 0.9925\n",
      "Epoch 00007: val_loss improved from 0.01462 to 0.01189, saving model to weights_base.best.hdf5\n",
      "3101500/3101500 [==============================] - 145s 47us/step - loss: 0.0229 - acc: 0.9925 - val_loss: 0.0119 - val_acc: 0.9967\n",
      "Epoch 8/25\n",
      "3101056/3101500 [============================>.] - ETA: 0s - loss: 0.0200 - acc: 0.9934\n",
      "Epoch 00008: val_loss improved from 0.01189 to 0.00979, saving model to weights_base.best.hdf5\n",
      "3101500/3101500 [==============================] - 146s 47us/step - loss: 0.0200 - acc: 0.9934 - val_loss: 0.0098 - val_acc: 0.9973\n",
      "Epoch 9/25\n",
      "3101312/3101500 [============================>.] - ETA: 0s - loss: 0.0181 - acc: 0.9940\n",
      "Epoch 00009: val_loss improved from 0.00979 to 0.00896, saving model to weights_base.best.hdf5\n",
      "3101500/3101500 [==============================] - 154s 50us/step - loss: 0.0181 - acc: 0.9940 - val_loss: 0.0090 - val_acc: 0.9976\n",
      "Epoch 10/25\n",
      "3100608/3101500 [============================>.] - ETA: 0s - loss: 0.0167 - acc: 0.9945\n",
      "Epoch 00010: val_loss improved from 0.00896 to 0.00818, saving model to weights_base.best.hdf5\n",
      "3101500/3101500 [==============================] - 160s 51us/step - loss: 0.0167 - acc: 0.9945 - val_loss: 0.0082 - val_acc: 0.9979\n",
      "Epoch 11/25\n",
      "3100608/3101500 [============================>.] - ETA: 0s - loss: 0.0156 - acc: 0.9949\n",
      "Epoch 00011: val_loss improved from 0.00818 to 0.00779, saving model to weights_base.best.hdf5\n",
      "3101500/3101500 [==============================] - 145s 47us/step - loss: 0.0156 - acc: 0.9949 - val_loss: 0.0078 - val_acc: 0.9978\n",
      "Epoch 12/25\n",
      "3101056/3101500 [============================>.] - ETA: 0s - loss: 0.0147 - acc: 0.9951\n",
      "Epoch 00012: val_loss improved from 0.00779 to 0.00732, saving model to weights_base.best.hdf5\n",
      "3101500/3101500 [==============================] - 141s 46us/step - loss: 0.0147 - acc: 0.9951 - val_loss: 0.0073 - val_acc: 0.9980\n",
      "Epoch 13/25\n",
      "3100480/3101500 [============================>.] - ETA: 0s - loss: 0.0141 - acc: 0.9954\n",
      "Epoch 00013: val_loss improved from 0.00732 to 0.00689, saving model to weights_base.best.hdf5\n",
      "3101500/3101500 [==============================] - 140s 45us/step - loss: 0.0141 - acc: 0.9954 - val_loss: 0.0069 - val_acc: 0.9980\n",
      "Epoch 14/25\n",
      "3100608/3101500 [============================>.] - ETA: 0s - loss: 0.0133 - acc: 0.9956\n",
      "Epoch 00014: val_loss improved from 0.00689 to 0.00642, saving model to weights_base.best.hdf5\n",
      "3101500/3101500 [==============================] - 139s 45us/step - loss: 0.0134 - acc: 0.9956 - val_loss: 0.0064 - val_acc: 0.9982\n",
      "Epoch 15/25\n",
      "3101248/3101500 [============================>.] - ETA: 0s - loss: 0.0128 - acc: 0.9958\n",
      "Epoch 00015: val_loss improved from 0.00642 to 0.00601, saving model to weights_base.best.hdf5\n",
      "3101500/3101500 [==============================] - 141s 45us/step - loss: 0.0128 - acc: 0.9958 - val_loss: 0.0060 - val_acc: 0.9983\n",
      "Epoch 16/25\n",
      "3100480/3101500 [============================>.] - ETA: 0s - loss: 0.0123 - acc: 0.9960\n",
      "Epoch 00016: val_loss improved from 0.00601 to 0.00600, saving model to weights_base.best.hdf5\n",
      "3101500/3101500 [==============================] - 140s 45us/step - loss: 0.0123 - acc: 0.9960 - val_loss: 0.0060 - val_acc: 0.9982\n",
      "Epoch 17/25\n",
      "3101312/3101500 [============================>.] - ETA: 0s - loss: 0.0118 - acc: 0.9961\n",
      "Epoch 00017: val_loss improved from 0.00600 to 0.00573, saving model to weights_base.best.hdf5\n",
      "3101500/3101500 [==============================] - 140s 45us/step - loss: 0.0118 - acc: 0.9961 - val_loss: 0.0057 - val_acc: 0.9984\n",
      "Epoch 18/25\n",
      "3101440/3101500 [============================>.] - ETA: 0s - loss: 0.0116 - acc: 0.9962\n",
      "Epoch 00018: val_loss improved from 0.00573 to 0.00549, saving model to weights_base.best.hdf5\n",
      "3101500/3101500 [==============================] - 140s 45us/step - loss: 0.0116 - acc: 0.9962 - val_loss: 0.0055 - val_acc: 0.9985\n",
      "Epoch 19/25\n",
      "3101312/3101500 [============================>.] - ETA: 0s - loss: 0.0112 - acc: 0.9963\n",
      "Epoch 00019: val_loss improved from 0.00549 to 0.00532, saving model to weights_base.best.hdf5\n",
      "3101500/3101500 [==============================] - 140s 45us/step - loss: 0.0112 - acc: 0.9963 - val_loss: 0.0053 - val_acc: 0.9985\n",
      "Epoch 20/25\n",
      "3100544/3101500 [============================>.] - ETA: 0s - loss: 0.0108 - acc: 0.9965\n",
      "Epoch 00020: val_loss improved from 0.00532 to 0.00499, saving model to weights_base.best.hdf5\n",
      "3101500/3101500 [==============================] - 140s 45us/step - loss: 0.0108 - acc: 0.9965 - val_loss: 0.0050 - val_acc: 0.9986\n",
      "Epoch 21/25\n",
      "3100160/3101500 [============================>.] - ETA: 0s - loss: 0.0105 - acc: 0.9966\n",
      "Epoch 00021: val_loss did not improve\n",
      "3101500/3101500 [==============================] - 143s 46us/step - loss: 0.0105 - acc: 0.9966 - val_loss: 0.0050 - val_acc: 0.9987\n",
      "Epoch 22/25\n",
      "3101248/3101500 [============================>.] - ETA: 0s - loss: 0.0103 - acc: 0.9966\n",
      "Epoch 00022: val_loss improved from 0.00499 to 0.00498, saving model to weights_base.best.hdf5\n",
      "3101500/3101500 [==============================] - 161s 52us/step - loss: 0.0103 - acc: 0.9966 - val_loss: 0.0050 - val_acc: 0.9986\n",
      "Epoch 23/25\n",
      "3101376/3101500 [============================>.] - ETA: 0s - loss: 0.0099 - acc: 0.9967\n",
      "Epoch 00023: val_loss improved from 0.00498 to 0.00472, saving model to weights_base.best.hdf5\n",
      "3101500/3101500 [==============================] - 153s 49us/step - loss: 0.0099 - acc: 0.9967 - val_loss: 0.0047 - val_acc: 0.9987\n",
      "Epoch 24/25\n",
      "3100480/3101500 [============================>.] - ETA: 0s - loss: 0.0098 - acc: 0.9968\n",
      "Epoch 00024: val_loss improved from 0.00472 to 0.00448, saving model to weights_base.best.hdf5\n",
      "3101500/3101500 [==============================] - 140s 45us/step - loss: 0.0098 - acc: 0.9968 - val_loss: 0.0045 - val_acc: 0.9987\n",
      "Epoch 25/25\n",
      "3101440/3101500 [============================>.] - ETA: 0s - loss: 0.0097 - acc: 0.9969\n",
      "Epoch 00025: val_loss improved from 0.00448 to 0.00442, saving model to weights_base.best.hdf5\n",
      "3101500/3101500 [==============================] - 143s 46us/step - loss: 0.0097 - acc: 0.9969 - val_loss: 0.0044 - val_acc: 0.9987\n",
      "model fit\n"
     ]
    }
   ],
   "source": [
    "# Fit the model\n",
    "hist = model.fit(train_data, y_train, batch_size=my_batch_size, epochs=epochs, validation_data=(valid_data, y_valid), callbacks=callbacks_list, verbose=1)\n",
    "print('model fit')"
   ]
  },
  {
   "cell_type": "code",
   "execution_count": 23,
   "metadata": {
    "collapsed": true
   },
   "outputs": [],
   "source": [
    "# Save the model after nepochs epochs\n",
    "model.save('final_model.hdf5')"
   ]
  },
  {
   "cell_type": "code",
   "execution_count": 24,
   "metadata": {},
   "outputs": [],
   "source": [
    "# Load model with best performace so far\n",
    "model = load_model(filepath)"
   ]
  },
  {
   "cell_type": "markdown",
   "metadata": {},
   "source": [
    "The model seems to fit the data quite well. "
   ]
  },
  {
   "cell_type": "markdown",
   "metadata": {},
   "source": [
    "## Evaluate metrics during training"
   ]
  },
  {
   "cell_type": "markdown",
   "metadata": {},
   "source": [
    "First lets look at the loss and accuracy for the training and validation datasets over the course of model training"
   ]
  },
  {
   "cell_type": "code",
   "execution_count": 25,
   "metadata": {},
   "outputs": [
    {
     "data": {
      "text/plain": [
       "([<matplotlib.axis.XTick at 0x1e4c5a5fcc0>,\n",
       "  <matplotlib.axis.XTick at 0x1e4c5a5f438>,\n",
       "  <matplotlib.axis.XTick at 0x1e4c5b089e8>,\n",
       "  <matplotlib.axis.XTick at 0x1e4c5dd8e48>,\n",
       "  <matplotlib.axis.XTick at 0x1e4c5ddf7b8>,\n",
       "  <matplotlib.axis.XTick at 0x1e4c5ddfc88>,\n",
       "  <matplotlib.axis.XTick at 0x1e4c600a208>,\n",
       "  <matplotlib.axis.XTick at 0x1e4c600a6a0>,\n",
       "  <matplotlib.axis.XTick at 0x1e4c600abe0>,\n",
       "  <matplotlib.axis.XTick at 0x1e4c600aa20>,\n",
       "  <matplotlib.axis.XTick at 0x1e4c60116a0>,\n",
       "  <matplotlib.axis.XTick at 0x1e4c600a278>,\n",
       "  <matplotlib.axis.XTick at 0x1e4c600ae10>,\n",
       "  <matplotlib.axis.XTick at 0x1e4c6011be0>,\n",
       "  <matplotlib.axis.XTick at 0x1e4c6011a20>,\n",
       "  <matplotlib.axis.XTick at 0x1e4c60186a0>,\n",
       "  <matplotlib.axis.XTick at 0x1e4c6018be0>,\n",
       "  <matplotlib.axis.XTick at 0x1e4c6018a20>,\n",
       "  <matplotlib.axis.XTick at 0x1e4c601f6a0>,\n",
       "  <matplotlib.axis.XTick at 0x1e4c601fbe0>,\n",
       "  <matplotlib.axis.XTick at 0x1e4c601fb00>,\n",
       "  <matplotlib.axis.XTick at 0x1e4c6018630>,\n",
       "  <matplotlib.axis.XTick at 0x1e4c5ddf908>,\n",
       "  <matplotlib.axis.XTick at 0x1e4c60292e8>,\n",
       "  <matplotlib.axis.XTick at 0x1e4c60297f0>],\n",
       " <a list of 25 Text xticklabel objects>)"
      ]
     },
     "execution_count": 25,
     "metadata": {},
     "output_type": "execute_result"
    },
    {
     "data": {
      "image/png": "[encoded data removed]",
      "text/plain": [
       "<Figure size 720x720 with 2 Axes>"
      ]
     },
     "metadata": {},
     "output_type": "display_data"
    }
   ],
   "source": [
    "sns.set_style(\"whitegrid\")\n",
    "sns.set_context(\"notebook\", font_scale=1.5, rc={\"lines.linewidth\": 0.75})\n",
    "fig,ax = plt.subplots(nrows=2, ncols=1, figsize=(10, 10), sharex=True)\n",
    "\n",
    "sns.pointplot(hist.epoch, hist.history['loss'], color=\"m\",ax=ax[0])\n",
    "sns.pointplot(hist.epoch, hist.history['val_loss'], color='g', ax=ax[0])\n",
    "ax[0].legend(handles=ax[0].lines[::len(hist.epoch)+1], labels=[\"Training data\",\"Validation data\"])\n",
    "\n",
    "ax[0].set_title('Log-loss training history')\n",
    "ax[0].set_xlabel('Epochs')\n",
    "ax[0].set_ylabel('Log-loss')\n",
    "\n",
    "sns.pointplot(hist.epoch, hist.history['acc'], color=\"m\",ax=ax[1])\n",
    "sns.pointplot(hist.epoch, hist.history['val_acc'], color='g', ax=ax[1])\n",
    "ax[1].legend(handles=ax[1].lines[::len(hist.epoch)+1], labels=[\"Training data\",\"Validation data\"])\n",
    "\n",
    "ax[1].set_title('Accuracy training history')\n",
    "ax[1].set_xlabel('Epochs')\n",
    "ax[1].set_ylabel('Accuracy')\n",
    "plt.xticks(np.arange(0,np.max(hist.epoch)+1,1))\n",
    "#plt.xticks(np.arange(0,,1)/2)"
   ]
  },
  {
   "cell_type": "markdown",
   "metadata": {},
   "source": [
    "The model does appear to converge rapidly over the first 5 epochs after which it slowly converges to loss values close to 0.01 and accuracy of 0.99. Since the log-loss value is larger for the training data than the validation data, and the accuracy for the training data is smaller than the the validation data, the model appears to slightly underfit the data. Perhaps training the model for more epochs or increasing the number of neurons in the dense layers could improve the predictions."
   ]
  },
  {
   "cell_type": "markdown",
   "metadata": {},
   "source": [
    "## Model performance on Training data"
   ]
  },
  {
   "cell_type": "markdown",
   "metadata": {},
   "source": [
    "Now let us analyze the performace of the model by predicting the probability that a certain example belongs to class 1 i.e probability that a bike rider will travel less than 2 miles."
   ]
  },
  {
   "cell_type": "code",
   "execution_count": 26,
   "metadata": {},
   "outputs": [
    {
     "name": "stdout",
     "output_type": "stream",
     "text": [
      "3101500/3101500 [==============================] - 15s 5us/step\n"
     ]
    }
   ],
   "source": [
    "# Make predictions on the training data\n",
    "y_train_pred = model.predict(train_data, batch_size=1024, verbose=1)"
   ]
  },
  {
   "cell_type": "markdown",
   "metadata": {},
   "source": [
    "In order to go from probabilities to class assignment, one has to select a probability threshold above which we assign class 1 to the sample. In binary classification it is often common to select 0.5 as the cutoff. If probability exceeds 0.5, the example is assigned to class 1. However, the cutoff may have a different value based on the dataset at hand. To identify a good cutoff, lets calculate the precision and recall for each threshold value in the range [0:1] and from this evaluate the F1-score as well."
   ]
  },
  {
   "cell_type": "code",
   "execution_count": 27,
   "metadata": {
    "collapsed": true
   },
   "outputs": [],
   "source": [
    "# Make a precision-recall curve for training data\n",
    "precisions, recalls, thresholds = precision_recall_curve(y_train, y_train_pred)\n",
    "tmp1 = precisions[:-1]\n",
    "tmp2 = recalls[:-1]\n",
    "tmp_dict = { 'thresholds':thresholds, 'precisions':tmp1, 'recalls':tmp2}\n",
    "train_metrics = pd.DataFrame.from_dict(tmp_dict)\n",
    "train_metrics=train_metrics.assign(f1_score = lambda x: 2.0*x.precisions*x.recalls/(x.precisions+x.recalls))"
   ]
  },
  {
   "cell_type": "code",
   "execution_count": 28,
   "metadata": {},
   "outputs": [
    {
     "data": {
      "image/png": "[encoded data removed]",
      "text/plain": [
       "<Figure size 432x288 with 1 Axes>"
      ]
     },
     "metadata": {},
     "output_type": "display_data"
    }
   ],
   "source": [
    "def plot_precision_recall_vs_threshold(precisions, recalls, thresholds):\n",
    "    plt.plot(train_metrics['thresholds'], train_metrics['precisions'], \"b--\", label=\"Precision\")\n",
    "    plt.plot(train_metrics['thresholds'], train_metrics['recalls'], \"g--\", label=\"Recall\")\n",
    "    plt.plot(train_metrics['thresholds'], train_metrics['f1_score'],\"r--\",label='F1-score')\n",
    "    plt.xlabel(\"Threshold\")\n",
    "    plt.legend(loc=8)\n",
    "    plt.ylim([0.3,1])\n",
    "    plt.savefig('metrics.png', bbox_inches='tight')\n",
    "\n",
    "plot_precision_recall_vs_threshold(precisions, recalls, thresholds)"
   ]
  },
  {
   "cell_type": "markdown",
   "metadata": {},
   "source": [
    "Both precision, recall, and F1 score reach values close to 1 for a broad range of threshold values. Lets identify the optimal threshold value as one for which the F1 score has the largest value."
   ]
  },
  {
   "cell_type": "code",
   "execution_count": 29,
   "metadata": {},
   "outputs": [
    {
     "data": {
      "text/plain": [
       "thresholds    0.502916\n",
       "precisions    0.999318\n",
       "recalls       0.999553\n",
       "f1_score      0.999435\n",
       "Name: 465094, dtype: float64"
      ]
     },
     "execution_count": 29,
     "metadata": {},
     "output_type": "execute_result"
    }
   ],
   "source": [
    "train_metrics.iloc[train_metrics['f1_score'].idxmax()]"
   ]
  },
  {
   "cell_type": "markdown",
   "metadata": {},
   "source": [
    "A threshold value of 0.502916 is optimal as the F1-score value of 0.999435 is almost 1. Note that this optimal threshold is close to 0.5, the default binary classification threshold. For this threshold value, lets assign each sample a class depending on the comparison of predicted value with the threshold."
   ]
  },
  {
   "cell_type": "code",
   "execution_count": 30,
   "metadata": {},
   "outputs": [
    {
     "name": "stdout",
     "output_type": "stream",
     "text": [
      "0.5029156804084778\n"
     ]
    }
   ],
   "source": [
    "y_train_pred2 = y_train_pred.reshape(-1)\n",
    "opt_thresh = train_metrics.iloc[train_metrics['f1_score'].idxmax()][0]\n",
    "print(opt_thresh)"
   ]
  },
  {
   "cell_type": "markdown",
   "metadata": {},
   "source": [
    "Now lets assign the class to each sample if the predicted probability exceeds the threshold. Based on the assigned classes, lets generate the confusion matrix to assess the performance of the model for each class."
   ]
  },
  {
   "cell_type": "code",
   "execution_count": 31,
   "metadata": {},
   "outputs": [
    {
     "data": {
      "text/plain": [
       "array([[ 781456,    1581],\n",
       "       [   1038, 2317425]], dtype=int64)"
      ]
     },
     "execution_count": 31,
     "metadata": {},
     "output_type": "execute_result"
    }
   ],
   "source": [
    "train_pred_class = (y_train_pred2> opt_thresh).astype(int)\n",
    "train_cm = confusion_matrix(y_train, train_pred_class)\n",
    "train_cm"
   ]
  },
  {
   "cell_type": "markdown",
   "metadata": {},
   "source": [
    "The model fits the data very well. Class assignment for the majority of the samples is correct. The prediction accuracy for the validation dataset is"
   ]
  },
  {
   "cell_type": "code",
   "execution_count": 32,
   "metadata": {},
   "outputs": [
    {
     "data": {
      "text/plain": [
       "0.9991555698855392"
      ]
     },
     "execution_count": 32,
     "metadata": {},
     "output_type": "execute_result"
    }
   ],
   "source": [
    "(train_cm[0,0]+train_cm[1,1])/np.sum(train_cm)"
   ]
  },
  {
   "cell_type": "markdown",
   "metadata": {},
   "source": [
    "The percentage error for Class 0 assignment is"
   ]
  },
  {
   "cell_type": "code",
   "execution_count": 33,
   "metadata": {},
   "outputs": [
    {
     "data": {
      "text/plain": [
       "0.1326527743343719"
      ]
     },
     "execution_count": 33,
     "metadata": {},
     "output_type": "execute_result"
    }
   ],
   "source": [
    "100.0*(train_cm[1,0])/(train_cm[0,0]+train_cm[1,0])"
   ]
  },
  {
   "cell_type": "markdown",
   "metadata": {},
   "source": [
    "and the percentage error for Class 1 assignment is"
   ]
  },
  {
   "cell_type": "code",
   "execution_count": 34,
   "metadata": {},
   "outputs": [
    {
     "data": {
      "text/plain": [
       "0.06817576151161317"
      ]
     },
     "execution_count": 34,
     "metadata": {},
     "output_type": "execute_result"
    }
   ],
   "source": [
    "100.0*(train_cm[0,1])/(train_cm[0,1]+train_cm[1,1])"
   ]
  },
  {
   "cell_type": "markdown",
   "metadata": {},
   "source": [
    "The model does a great job for the majority class and a very good job for the minority class. Perhaps using class_weights to address the slight class imbalance in the dataset will improve the performance."
   ]
  },
  {
   "cell_type": "markdown",
   "metadata": {},
   "source": [
    "The majority of Class 0 and Class 1 samples are assigned probabilities consistent with their Class assignment. The"
   ]
  },
  {
   "cell_type": "markdown",
   "metadata": {},
   "source": [
    "## Model performance on Validation data"
   ]
  },
  {
   "cell_type": "markdown",
   "metadata": {},
   "source": [
    "The real test of the model is of course how well it performs on the validation data and test data. Lets first look at the validation data here. Lets make predictions for the probability that each validation data sample belongs to Class 1. Using the optimal threshold identified based on the training data, lets assign each sample to a class and calculate the confusion matrix."
   ]
  },
  {
   "cell_type": "code",
   "execution_count": 35,
   "metadata": {},
   "outputs": [
    {
     "name": "stdout",
     "output_type": "stream",
     "text": [
      "344612/344612 [==============================] - 2s 5us/step\n"
     ]
    },
    {
     "data": {
      "text/plain": [
       "array([[ 86741,    263],\n",
       "       [   174, 257434]], dtype=int64)"
      ]
     },
     "execution_count": 35,
     "metadata": {},
     "output_type": "execute_result"
    }
   ],
   "source": [
    "# Make predictions for probability that a validation data sample belongs to class 1.\n",
    "y_valid_pred = model.predict(valid_data, batch_size=1024, verbose=1)\n",
    "y_valid_pred2 = y_valid_pred.reshape(-1)\n",
    "valid_pred_class = (y_valid_pred2> opt_thresh).astype(int)\n",
    "valid_cm = confusion_matrix(y_valid, valid_pred_class)\n",
    "valid_cm"
   ]
  },
  {
   "cell_type": "markdown",
   "metadata": {},
   "source": [
    "Class assignment for the majority of the samples is correct. The prediction accuracy for the validation dataset is"
   ]
  },
  {
   "cell_type": "code",
   "execution_count": 36,
   "metadata": {},
   "outputs": [
    {
     "data": {
      "text/plain": [
       "0.9987319071883741"
      ]
     },
     "execution_count": 36,
     "metadata": {},
     "output_type": "execute_result"
    }
   ],
   "source": [
    "(valid_cm[0,0]+valid_cm[1,1])/np.sum(valid_cm)"
   ]
  },
  {
   "cell_type": "markdown",
   "metadata": {},
   "source": [
    "The percentage error for Class 0 assignment is"
   ]
  },
  {
   "cell_type": "code",
   "execution_count": 37,
   "metadata": {},
   "outputs": [
    {
     "data": {
      "text/plain": [
       "0.20019559339584653"
      ]
     },
     "execution_count": 37,
     "metadata": {},
     "output_type": "execute_result"
    }
   ],
   "source": [
    "100.0*(valid_cm[1,0])/(valid_cm[0,0]+valid_cm[1,0])"
   ]
  },
  {
   "cell_type": "markdown",
   "metadata": {},
   "source": [
    "and the percentage error for Class 1 assignment is"
   ]
  },
  {
   "cell_type": "code",
   "execution_count": 38,
   "metadata": {},
   "outputs": [
    {
     "data": {
      "text/plain": [
       "0.10205784312584158"
      ]
     },
     "execution_count": 38,
     "metadata": {},
     "output_type": "execute_result"
    }
   ],
   "source": [
    "100.0*(valid_cm[0,1])/(valid_cm[0,1]+valid_cm[1,1])"
   ]
  },
  {
   "cell_type": "markdown",
   "metadata": {},
   "source": [
    "Even for the validation dataset, the model does a great job for the majority class and a very good job for the minority class."
   ]
  },
  {
   "cell_type": "markdown",
   "metadata": {},
   "source": [
    "## Model performance on Test data"
   ]
  },
  {
   "cell_type": "markdown",
   "metadata": {},
   "source": [
    "Since the model appears to perform well on the training and validation data, lets do a final test to see how it performs on the test data. The following steps are involved\n",
    "1. Read in the test data\n",
    "2. Extract the class column and features into separate containers\n",
    "3. Split the data into numeric and categorical groups\n",
    "4. Scale the numeric data\n",
    "5. Prepare the dataset for use with keras"
   ]
  },
  {
   "cell_type": "code",
   "execution_count": 39,
   "metadata": {
    "collapsed": true
   },
   "outputs": [],
   "source": [
    "# 1. Read in the test data\n",
    "test_df = pd.read_csv(\"../data_splits/test.csv\")"
   ]
  },
  {
   "cell_type": "code",
   "execution_count": 40,
   "metadata": {
    "collapsed": true
   },
   "outputs": [],
   "source": [
    "# 2. Extract the class columns\n",
    "y_test = test_df['class'].values\n",
    "\n",
    "# Drop class columns from the test_df\n",
    "test_df = test_df.drop(['class'], axis=1)"
   ]
  },
  {
   "cell_type": "code",
   "execution_count": 41,
   "metadata": {},
   "outputs": [
    {
     "data": {
      "text/plain": [
       "21020"
      ]
     },
     "execution_count": 41,
     "metadata": {},
     "output_type": "execute_result"
    }
   ],
   "source": [
    "# 3. Split training and validation dataframe into numeric and categorical variables\n",
    "test_df1 = test_df[numer_attrs]\n",
    "test_df2 = test_df.drop(numer_attrs, axis=1)\n",
    "\n",
    "# 4.Transform the numeric part of train_df1\n",
    "scaled3 = scaler.transform(test_df1)\n",
    "test_df1 = pd.DataFrame(scaled3,columns=numer_attrs)\n",
    "\n",
    "# Remove scaled3\n",
    "del scaled3\n",
    "gc.collect()"
   ]
  },
  {
   "cell_type": "code",
   "execution_count": 42,
   "metadata": {
    "collapsed": true
   },
   "outputs": [],
   "source": [
    "# 5.Return named dataset used for input into keras fit\n",
    "test_data, _, _ = get_keras_data(test_df1, test_df2, cat_vars)"
   ]
  },
  {
   "cell_type": "code",
   "execution_count": 43,
   "metadata": {},
   "outputs": [
    {
     "name": "stdout",
     "output_type": "stream",
     "text": [
      "382902/382902 [==============================] - 2s 5us/step\n"
     ]
    },
    {
     "data": {
      "text/plain": [
       "array([[ 96415,    256],\n",
       "       [   197, 286034]], dtype=int64)"
      ]
     },
     "execution_count": 43,
     "metadata": {},
     "output_type": "execute_result"
    }
   ],
   "source": [
    "# Make predictions for probability that a validation data sample belongs to class 1.\n",
    "y_test_pred = model.predict(test_data, batch_size=1024, verbose=1)\n",
    "y_test_pred2 = y_test_pred.reshape(-1)\n",
    "test_pred_class = (y_test_pred2> opt_thresh).astype(int)\n",
    "test_cm = confusion_matrix(y_test, test_pred_class)\n",
    "test_cm"
   ]
  },
  {
   "cell_type": "markdown",
   "metadata": {},
   "source": [
    "Class assignment for the majority of the samples is correct. The prediction accuracy for the test dataset is"
   ]
  },
  {
   "cell_type": "code",
   "execution_count": 44,
   "metadata": {},
   "outputs": [
    {
     "data": {
      "text/plain": [
       "0.9988169296582415"
      ]
     },
     "execution_count": 44,
     "metadata": {},
     "output_type": "execute_result"
    }
   ],
   "source": [
    "(test_cm[0,0]+test_cm[1,1])/np.sum(test_cm)"
   ]
  },
  {
   "cell_type": "markdown",
   "metadata": {},
   "source": [
    "The percentage error for Class 0 assignment is"
   ]
  },
  {
   "cell_type": "code",
   "execution_count": 45,
   "metadata": {},
   "outputs": [
    {
     "data": {
      "text/plain": [
       "0.20390841717385003"
      ]
     },
     "execution_count": 45,
     "metadata": {},
     "output_type": "execute_result"
    }
   ],
   "source": [
    "100.0*(test_cm[1,0])/(test_cm[0,0]+test_cm[1,0])"
   ]
  },
  {
   "cell_type": "markdown",
   "metadata": {},
   "source": [
    "and the percentage error for Class 1 assignment is"
   ]
  },
  {
   "cell_type": "code",
   "execution_count": 46,
   "metadata": {},
   "outputs": [
    {
     "data": {
      "text/plain": [
       "0.08941981906458486"
      ]
     },
     "execution_count": 46,
     "metadata": {},
     "output_type": "execute_result"
    }
   ],
   "source": [
    "100.0*(test_cm[0,1])/(test_cm[0,1]+test_cm[1,1])"
   ]
  },
  {
   "cell_type": "markdown",
   "metadata": {},
   "source": [
    "Even for the unseen (not known to the model) test data, the model performs very well."
   ]
  },
  {
   "cell_type": "markdown",
   "metadata": {},
   "source": [
    "## Summary"
   ]
  },
  {
   "cell_type": "markdown",
   "metadata": {},
   "source": [
    "Based on the Divvy dataset for the year 2017, I have optimized a model that accurately predicts whether a bike trip will be short (less than 2 km) or not. No features other than those already present in Divvy dataset were included. Of course, features such as weather, crime, events in the city, etc will be additonal features to include in the dataset and will be in further analysis. However, the model appears to do quite well even without these additional features."
   ]
  }
 ],
 "metadata": {
  "kernelspec": {
   "display_name": "Python(Tensorflow3.6)",
   "language": "python",
   "name": "tensorflow3.6"
  },
  "language_info": {
   "codemirror_mode": {
    "name": "ipython",
    "version": 3
   },
   "file_extension": ".py",
   "mimetype": "text/x-python",
   "name": "python",
   "nbconvert_exporter": "python",
   "pygments_lexer": "ipython3",
   "version": "3.6.5"
  }
 },
 "nbformat": 4,
 "nbformat_minor": 2
}
