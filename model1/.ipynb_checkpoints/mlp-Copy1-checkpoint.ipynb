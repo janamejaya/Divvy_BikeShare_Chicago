{
 "cells": [
  {
   "cell_type": "markdown",
   "metadata": {},
   "source": [
    "# Objective"
   ]
  },
  {
   "cell_type": "markdown",
   "metadata": {},
   "source": [
    "Using the data prepared in the EDA notebook and the predefined splits of the data into training, validation and test sets, train a model for predicting whether the trip distance is less than 2 km (class 1) or not (class 0)."
   ]
  },
  {
   "cell_type": "markdown",
   "metadata": {},
   "source": [
    "## Import Libraries"
   ]
  },
  {
   "cell_type": "code",
   "execution_count": 1,
   "metadata": {},
   "outputs": [
    {
     "name": "stderr",
     "output_type": "stream",
     "text": [
      "C:\\Users\\JC\\Anaconda3\\envs\\tensorflow3.6\\lib\\site-packages\\h5py\\__init__.py:36: FutureWarning: Conversion of the second argument of issubdtype from `float` to `np.floating` is deprecated. In future, it will be treated as `np.float64 == np.dtype(float).type`.\n",
      "  from ._conv import register_converters as _register_converters\n",
      "Using TensorFlow backend.\n"
     ]
    }
   ],
   "source": [
    "# Import libraries\n",
    "import pandas as pd\n",
    "import numpy as np\n",
    "import pickle\n",
    "from sklearn.linear_model import LogisticRegression\n",
    "from sklearn.preprocessing import MinMaxScaler\n",
    "from sklearn.metrics import confusion_matrix, precision_score, recall_score, f1_score, precision_recall_curve, roc_curve\n",
    "import gc\n",
    "from sklearn.utils import compute_class_weight\n",
    "%matplotlib inline\n",
    "import matplotlib\n",
    "import matplotlib.pyplot as plt\n",
    "from sklearn.model_selection import GridSearchCV, ParameterGrid\n",
    "from keras.models import Model\n",
    "from keras.layers import Input, Dense, Embedding, SpatialDropout1D, concatenate, Dropout, Flatten\n",
    "from keras.layers import GRU, Bidirectional, GlobalAveragePooling1D, GlobalMaxPooling1D\n",
    "from keras.callbacks import Callback\n",
    "from keras.callbacks import EarlyStopping,ModelCheckpoint\n",
    "from keras.optimizers import Adam\n",
    "\n",
    "from keras.utils.vis_utils import plot_model\n",
    "import os\n",
    "os.environ[\"PATH\"] += os.pathsep + 'C:/Program Files (x86)/Graphviz2.38/bin/'\n",
    "from IPython.display import SVG\n",
    "from keras.utils.vis_utils import model_to_dot"
   ]
  },
  {
   "cell_type": "markdown",
   "metadata": {},
   "source": [
    "## Import data split into train/validation sets"
   ]
  },
  {
   "cell_type": "code",
   "execution_count": 2,
   "metadata": {
    "collapsed": true
   },
   "outputs": [],
   "source": [
    "# Read in the training data\n",
    "df = pd.read_csv(\"../data_splits/train.csv\")"
   ]
  },
  {
   "cell_type": "code",
   "execution_count": 3,
   "metadata": {},
   "outputs": [
    {
     "data": {
      "text/plain": [
       "3446112"
      ]
     },
     "execution_count": 3,
     "metadata": {},
     "output_type": "execute_result"
    }
   ],
   "source": [
    "len(df)"
   ]
  },
  {
   "cell_type": "code",
   "execution_count": 4,
   "metadata": {
    "collapsed": true
   },
   "outputs": [],
   "source": [
    "# Select one train-validation split\n",
    "splitnum = 1\n",
    "train_file = \"../data_splits/training_\"+str(splitnum)+'.pkl'\n",
    "val_file = \"../data_splits/validation_\"+str(splitnum)+'.pkl'"
   ]
  },
  {
   "cell_type": "code",
   "execution_count": 5,
   "metadata": {
    "collapsed": true
   },
   "outputs": [],
   "source": [
    "# Read in the indices for this split\n",
    "train_index = pickle.load( open(train_file,\"rb\") )\n",
    "validation_index = pickle.load( open(val_file,\"rb\"))"
   ]
  },
  {
   "cell_type": "code",
   "execution_count": 6,
   "metadata": {},
   "outputs": [
    {
     "name": "stdout",
     "output_type": "stream",
     "text": [
      "3101500 344612 3446112 3446112\n"
     ]
    }
   ],
   "source": [
    "# Split df into a training dataframe and a validation dataframe\n",
    "train_df = df.iloc[train_index]\n",
    "valid_df = df.iloc[validation_index]\n",
    "print(len(train_df), len(valid_df),len(train_df)+len(valid_df),len(df))"
   ]
  },
  {
   "cell_type": "code",
   "execution_count": 7,
   "metadata": {},
   "outputs": [
    {
     "data": {
      "text/plain": [
       "11"
      ]
     },
     "execution_count": 7,
     "metadata": {},
     "output_type": "execute_result"
    }
   ],
   "source": [
    "# Delete df and garbage collect\n",
    "del df\n",
    "gc.collect()"
   ]
  },
  {
   "cell_type": "markdown",
   "metadata": {},
   "source": [
    "## Extract Class variable"
   ]
  },
  {
   "cell_type": "code",
   "execution_count": 8,
   "metadata": {},
   "outputs": [],
   "source": [
    "# Extract the class columns\n",
    "y_train = train_df['class'].values\n",
    "y_valid = valid_df['class'].values\n",
    "\n",
    "# Drop class columns from train_df and valid_df\n",
    "train_df = train_df.drop(['class'], axis=1)\n",
    "valid_df = valid_df.drop(['class'], axis=1)"
   ]
  },
  {
   "cell_type": "markdown",
   "metadata": {},
   "source": [
    "## Split data into Numeric/Non-numeric and Perform MinMax scaling for Numeric Attributes"
   ]
  },
  {
   "cell_type": "code",
   "execution_count": 9,
   "metadata": {
    "collapsed": true
   },
   "outputs": [],
   "source": [
    "# Construct a list of numeric column names\n",
    "numer_attrs = ['tripduration','from_latitude','to_latitude','from_longitude','to_longitude','group_count']"
   ]
  },
  {
   "cell_type": "code",
   "execution_count": 10,
   "metadata": {},
   "outputs": [
    {
     "data": {
      "text/plain": [
       "21"
      ]
     },
     "execution_count": 10,
     "metadata": {},
     "output_type": "execute_result"
    }
   ],
   "source": [
    "# Apply min-max scaling to the training and validation dataframes numeric values\n",
    "# Initialize the min-max scaler\n",
    "scaler = MinMaxScaler()\n",
    "\n",
    "# Split training and validation dataframe into numeric and categorical variables\n",
    "train_df1 = train_df[numer_attrs]\n",
    "valid_df1 = valid_df[numer_attrs]\n",
    "\n",
    "train_df2 = train_df.drop(numer_attrs, axis=1)\n",
    "valid_df2 = valid_df.drop(numer_attrs, axis=1)\n",
    "\n",
    "# Fit and transform the numerica part of train_df i.e train_df1\n",
    "scaled1 = scaler.fit_transform(train_df1)\n",
    "train_df1 = pd.DataFrame(scaled1,columns=numer_attrs)\n",
    "\n",
    "# Transform the numeric part of valid_df, i.e., valid_df2\n",
    "scaled2 = scaler.transform(valid_df1)\n",
    "valid_df1 = pd.DataFrame(scaled2,columns=numer_attrs)\n",
    "\n",
    "# Remove scaled1, scaled2\n",
    "del scaled1, scaled2\n",
    "gc.collect()"
   ]
  },
  {
   "cell_type": "code",
   "execution_count": 11,
   "metadata": {},
   "outputs": [
    {
     "data": {
      "text/html": [
       "<div>\n",
       "<style scoped>\n",
       "    .dataframe tbody tr th:only-of-type {\n",
       "        vertical-align: middle;\n",
       "    }\n",
       "\n",
       "    .dataframe tbody tr th {\n",
       "        vertical-align: top;\n",
       "    }\n",
       "\n",
       "    .dataframe thead th {\n",
       "        text-align: right;\n",
       "    }\n",
       "</style>\n",
       "<table border=\"1\" class=\"dataframe\">\n",
       "  <thead>\n",
       "    <tr style=\"text-align: right;\">\n",
       "      <th></th>\n",
       "      <th>tripduration</th>\n",
       "      <th>from_latitude</th>\n",
       "      <th>to_latitude</th>\n",
       "      <th>from_longitude</th>\n",
       "      <th>to_longitude</th>\n",
       "      <th>group_count</th>\n",
       "    </tr>\n",
       "  </thead>\n",
       "  <tbody>\n",
       "    <tr>\n",
       "      <th>min</th>\n",
       "      <td>0.0</td>\n",
       "      <td>0.0</td>\n",
       "      <td>0.0</td>\n",
       "      <td>0.0</td>\n",
       "      <td>0.0</td>\n",
       "      <td>0.0</td>\n",
       "    </tr>\n",
       "    <tr>\n",
       "      <th>max</th>\n",
       "      <td>1.0</td>\n",
       "      <td>1.0</td>\n",
       "      <td>1.0</td>\n",
       "      <td>1.0</td>\n",
       "      <td>1.0</td>\n",
       "      <td>1.0</td>\n",
       "    </tr>\n",
       "  </tbody>\n",
       "</table>\n",
       "</div>"
      ],
      "text/plain": [
       "     tripduration  from_latitude  to_latitude  from_longitude  to_longitude  \\\n",
       "min           0.0            0.0          0.0             0.0           0.0   \n",
       "max           1.0            1.0          1.0             1.0           1.0   \n",
       "\n",
       "     group_count  \n",
       "min          0.0  \n",
       "max          1.0  "
      ]
     },
     "execution_count": 11,
     "metadata": {},
     "output_type": "execute_result"
    }
   ],
   "source": [
    "# Check if scaling of train_df1 worked\n",
    "train_df1.describe().loc[['min','max']]"
   ]
  },
  {
   "cell_type": "code",
   "execution_count": 12,
   "metadata": {},
   "outputs": [
    {
     "data": {
      "text/html": [
       "<div>\n",
       "<style scoped>\n",
       "    .dataframe tbody tr th:only-of-type {\n",
       "        vertical-align: middle;\n",
       "    }\n",
       "\n",
       "    .dataframe tbody tr th {\n",
       "        vertical-align: top;\n",
       "    }\n",
       "\n",
       "    .dataframe thead th {\n",
       "        text-align: right;\n",
       "    }\n",
       "</style>\n",
       "<table border=\"1\" class=\"dataframe\">\n",
       "  <thead>\n",
       "    <tr style=\"text-align: right;\">\n",
       "      <th></th>\n",
       "      <th>tripduration</th>\n",
       "      <th>from_latitude</th>\n",
       "      <th>to_latitude</th>\n",
       "      <th>from_longitude</th>\n",
       "      <th>to_longitude</th>\n",
       "      <th>group_count</th>\n",
       "    </tr>\n",
       "  </thead>\n",
       "  <tbody>\n",
       "    <tr>\n",
       "      <th>min</th>\n",
       "      <td>0.000000</td>\n",
       "      <td>0.0</td>\n",
       "      <td>0.0</td>\n",
       "      <td>0.0</td>\n",
       "      <td>0.0</td>\n",
       "      <td>0.0</td>\n",
       "    </tr>\n",
       "    <tr>\n",
       "      <th>max</th>\n",
       "      <td>0.996245</td>\n",
       "      <td>1.0</td>\n",
       "      <td>1.0</td>\n",
       "      <td>1.0</td>\n",
       "      <td>1.0</td>\n",
       "      <td>0.7</td>\n",
       "    </tr>\n",
       "  </tbody>\n",
       "</table>\n",
       "</div>"
      ],
      "text/plain": [
       "     tripduration  from_latitude  to_latitude  from_longitude  to_longitude  \\\n",
       "min      0.000000            0.0          0.0             0.0           0.0   \n",
       "max      0.996245            1.0          1.0             1.0           1.0   \n",
       "\n",
       "     group_count  \n",
       "min          0.0  \n",
       "max          0.7  "
      ]
     },
     "execution_count": 12,
     "metadata": {},
     "output_type": "execute_result"
    }
   ],
   "source": [
    "# Check how good the scaling of valid_df1 is\n",
    "valid_df1.describe().loc[['min','max']]"
   ]
  },
  {
   "cell_type": "markdown",
   "metadata": {},
   "source": [
    "MinMax scaling brings the range of numeric values to the correct range [0,1] for the training data. For the validation data, the minimum values are zero for each feature, however, the maximum values are not 1 for two features, tripduration and group_count. This indicates that the validation data does not contain the whole range of values seen in the training data. "
   ]
  },
  {
   "cell_type": "markdown",
   "metadata": {},
   "source": [
    "## Prepare data for processing with keras"
   ]
  },
  {
   "cell_type": "markdown",
   "metadata": {},
   "source": [
    "Lets extract the column names for non-numeric data"
   ]
  },
  {
   "cell_type": "code",
   "execution_count": 13,
   "metadata": {},
   "outputs": [
    {
     "name": "stdout",
     "output_type": "stream",
     "text": [
      "['from_station_id', 'to_station_id', 'usertype', 'gender', 'age_cats', 'start_hour', 'start_day', 'start_wday', 'start_minute', 'start_doy', 'start_woy', 'end_hour', 'end_day', 'end_wday', 'end_minute', 'end_doy', 'end_woy']\n"
     ]
    }
   ],
   "source": [
    "cat_vars = list(train_df2)\n",
    "print(cat_vars)"
   ]
  },
  {
   "cell_type": "code",
   "execution_count": 24,
   "metadata": {},
   "outputs": [],
   "source": [
    "# Construct a dictionary of named variable keys and array values pairs\n",
    "def get_keras_data(dataset1, dataset2, cat_vars):\n",
    "    # Initialize a dictionary where the keys are the variables (1d or matrix)\n",
    "    # and the values are the data arrays\n",
    "    X = {}\n",
    "    \n",
    "    # Initialize a dictionary for storing maximum values for categorical variables\n",
    "    maxvals = {}\n",
    "    \n",
    "    # Initialize a dictionary for storing the embedding size for each categorical variable\n",
    "    embed_dims = {}\n",
    "    \n",
    "    # 1. The numeric data as a 2-d array\n",
    "    count = 0\n",
    "    X['var'+str(count)] = dataset1.values\n",
    "    maxvals['var'+str(count)] = dataset1.shape[1]\n",
    "    count += 1\n",
    "    \n",
    "    # 2. The categorical data as an 1-d array\n",
    "    for lvars in cat_vars:\n",
    "        lvar_name = 'var'+str(count)\n",
    "        X[lvar_name] = np.array(dataset2[lvars])\n",
    "        \n",
    "        lmax = dataset2[lvars].max()\n",
    "        maxvals[lvar_name] = int(lmax)\n",
    "        \n",
    "        #lmaxby2 = int((lmax+1)/2)\n",
    "        lmin = np.min([20, 1+(int)(lmax/2)])\n",
    "        embed_dims[lvar_name] = lmin\n",
    "        count += 1\n",
    "\n",
    "    return X, maxvals, embed_dims\n",
    "\n",
    "# Return named dataset used for input into keras fit\n",
    "train_data, maxvals, embed_dims = get_keras_data(train_df1, train_df2, cat_vars)\n",
    "valid_data, _, _ = get_keras_data(valid_df1, valid_df2, cat_vars)"
   ]
  },
  {
   "cell_type": "code",
   "execution_count": 25,
   "metadata": {},
   "outputs": [
    {
     "name": "stdout",
     "output_type": "stream",
     "text": [
      "{'var0': 6, 'var1': 584, 'var2': 584, 'var3': 1, 'var4': 2, 'var5': 23, 'var6': 23, 'var7': 30, 'var8': 6, 'var9': 59, 'var10': 364, 'var11': 51, 'var12': 23, 'var13': 30, 'var14': 6, 'var15': 59, 'var16': 364, 'var17': 51}\n",
      "{'var1': 20, 'var2': 20, 'var3': 1, 'var4': 2, 'var5': 12, 'var6': 12, 'var7': 16, 'var8': 4, 'var9': 20, 'var10': 20, 'var11': 20, 'var12': 12, 'var13': 16, 'var14': 4, 'var15': 20, 'var16': 20, 'var17': 20}\n"
     ]
    }
   ],
   "source": [
    "print(maxvals)\n",
    "print(embed_dims)"
   ]
  },
  {
   "cell_type": "markdown",
   "metadata": {},
   "source": [
    "## Define the keras model"
   ]
  },
  {
   "cell_type": "code",
   "execution_count": 26,
   "metadata": {
    "collapsed": true
   },
   "outputs": [],
   "source": [
    "def return_embedded_lvar(lvarname):\n",
    "    inp = Input(shape = [1], name=lvarname)\n",
    "    emb = Embedding(maxvals[lvarname], embed_dims[lvarname])(inp)\n",
    "    return inp, emb\n",
    "\n",
    "def get_model(actfn='elu', imode = 'glorot_normal', dr_rate = 0.1, nnodes = 1):\n",
    "    # Initialize a list for storing the input layers\n",
    "    inps = []\n",
    "    \n",
    "    # Input layer for the numeric variables\n",
    "    inp0 = Input(shape = (maxvals['var0'],), name='var0')\n",
    "    inps.append(inp0)\n",
    "    \n",
    "    # Pass inp0 to a Dense layer\n",
    "    layer1 = Dense(maxvals['var0'],activation=actfn, kernel_initializer=imode, name='layer1')(inp0)\n",
    "\n",
    "    # For each categorical variable\n",
    "    emblist = []\n",
    "    count = 1\n",
    "    for lvars in cat_vars:\n",
    "        lvarname = 'var'+str(count)\n",
    "        inp = Input(shape=[1], name=lvarname)\n",
    "        emb =  Embedding(maxvals[lvarname], embed_dims[lvarname])(inp)\n",
    "        #tmpinps, tmpembs = return_embedded_lvar(lvarname)\n",
    "        #inps.append( tmpinps )\n",
    "        #emblist.append( tmpembs )\n",
    "        inps.append(inp)\n",
    "        emblist.append(emb)\n",
    "        count += 1\n",
    "        \n",
    "    # Concatename tmplist\n",
    "    merged_out1 = concatenate(emblist)\n",
    "    \n",
    "    # Flatten merged_out1\n",
    "    flat_merged1 = Flatten()(merged_out1)\n",
    "    \n",
    "    # Apply dropout to flat_merged1\n",
    "    dropout_out1 = Dropout(dr_rate)(flat_merged1)\n",
    "    \n",
    "    # Concate layer1 with dropout_embeds\n",
    "    merged_out2 = concatenate([layer1, dropout_out1])\n",
    "    \n",
    "    # Add a dense layer\n",
    "    layer2 = Dense(64, activation=actfn, kernel_initializer=imode, name='layer2')(merged_out2)\n",
    "    \n",
    "    # Add another dense layer\n",
    "    layer3 = Dense(64, activation=actfn, kernel_initializer=imode, name='layer3')(layer2)\n",
    "    \n",
    "    # Add a final dense layer before output\n",
    "    layer4 = Dense(32, activation=actfn, kernel_initializer=imode, name='layer4')(layer3)\n",
    "\n",
    "    # Output\n",
    "    outp = Dense(1, activation = \"sigmoid\", name='output')(layer4)\n",
    "    \n",
    "    # Define the model in terms of inputs and outputs\n",
    "    model = Model(inputs = inps, outputs = outp)\n",
    "\n",
    "    return model"
   ]
  },
  {
   "cell_type": "code",
   "execution_count": 27,
   "metadata": {
    "collapsed": true
   },
   "outputs": [],
   "source": [
    "# Set the batchsize and number of epochs\n",
    "my_batch_size = 64\n",
    "epochs = 25"
   ]
  },
  {
   "cell_type": "code",
   "execution_count": 28,
   "metadata": {
    "collapsed": true
   },
   "outputs": [],
   "source": [
    "Adam_opt = Adam(lr=0.0001, beta_1=0.9, beta_2=0.999, epsilon=1e-08, decay=0.000001)"
   ]
  },
  {
   "cell_type": "code",
   "execution_count": 29,
   "metadata": {
    "collapsed": true
   },
   "outputs": [],
   "source": [
    "# filepath=\"../input/best-model/best.hdf5\"\n",
    "filepath=\"weights_base.best.hdf5\"\n",
    "#filepath=\"new_weights_base.best.hdf5\"\n",
    "save_best = ModelCheckpoint(filepath, monitor='val_loss', verbose=1, save_best_only=True, mode='auto')\n",
    "early_stopping = EarlyStopping(monitor='val_loss', patience=4, mode='auto',min_delta=0.00001)\n",
    "callbacks_list = [save_best, early_stopping]"
   ]
  },
  {
   "cell_type": "code",
   "execution_count": 30,
   "metadata": {},
   "outputs": [
    {
     "name": "stdout",
     "output_type": "stream",
     "text": [
      "__________________________________________________________________________________________________\n",
      "Layer (type)                    Output Shape         Param #     Connected to                     \n",
      "==================================================================================================\n",
      "var1 (InputLayer)               (None, 1)            0                                            \n",
      "__________________________________________________________________________________________________\n",
      "var2 (InputLayer)               (None, 1)            0                                            \n",
      "__________________________________________________________________________________________________\n",
      "var3 (InputLayer)               (None, 1)            0                                            \n",
      "__________________________________________________________________________________________________\n",
      "var4 (InputLayer)               (None, 1)            0                                            \n",
      "__________________________________________________________________________________________________\n",
      "var5 (InputLayer)               (None, 1)            0                                            \n",
      "__________________________________________________________________________________________________\n",
      "var6 (InputLayer)               (None, 1)            0                                            \n",
      "__________________________________________________________________________________________________\n",
      "var7 (InputLayer)               (None, 1)            0                                            \n",
      "__________________________________________________________________________________________________\n",
      "var8 (InputLayer)               (None, 1)            0                                            \n",
      "__________________________________________________________________________________________________\n",
      "var9 (InputLayer)               (None, 1)            0                                            \n",
      "__________________________________________________________________________________________________\n",
      "var10 (InputLayer)              (None, 1)            0                                            \n",
      "__________________________________________________________________________________________________\n",
      "var11 (InputLayer)              (None, 1)            0                                            \n",
      "__________________________________________________________________________________________________\n",
      "var12 (InputLayer)              (None, 1)            0                                            \n",
      "__________________________________________________________________________________________________\n",
      "var13 (InputLayer)              (None, 1)            0                                            \n",
      "__________________________________________________________________________________________________\n",
      "var14 (InputLayer)              (None, 1)            0                                            \n",
      "__________________________________________________________________________________________________\n",
      "var15 (InputLayer)              (None, 1)            0                                            \n",
      "__________________________________________________________________________________________________\n",
      "var16 (InputLayer)              (None, 1)            0                                            \n",
      "__________________________________________________________________________________________________\n",
      "var17 (InputLayer)              (None, 1)            0                                            \n",
      "__________________________________________________________________________________________________\n",
      "embedding_18 (Embedding)        (None, 1, 20)        11680       var1[0][0]                       \n",
      "__________________________________________________________________________________________________\n",
      "embedding_19 (Embedding)        (None, 1, 20)        11680       var2[0][0]                       \n",
      "__________________________________________________________________________________________________\n",
      "embedding_20 (Embedding)        (None, 1, 1)         1           var3[0][0]                       \n",
      "__________________________________________________________________________________________________\n",
      "embedding_21 (Embedding)        (None, 1, 2)         4           var4[0][0]                       \n",
      "__________________________________________________________________________________________________\n",
      "embedding_22 (Embedding)        (None, 1, 12)        276         var5[0][0]                       \n",
      "__________________________________________________________________________________________________\n",
      "embedding_23 (Embedding)        (None, 1, 12)        276         var6[0][0]                       \n",
      "__________________________________________________________________________________________________\n",
      "embedding_24 (Embedding)        (None, 1, 16)        480         var7[0][0]                       \n",
      "__________________________________________________________________________________________________\n",
      "embedding_25 (Embedding)        (None, 1, 4)         24          var8[0][0]                       \n",
      "__________________________________________________________________________________________________\n",
      "embedding_26 (Embedding)        (None, 1, 20)        1180        var9[0][0]                       \n",
      "__________________________________________________________________________________________________\n",
      "embedding_27 (Embedding)        (None, 1, 20)        7280        var10[0][0]                      \n",
      "__________________________________________________________________________________________________\n",
      "embedding_28 (Embedding)        (None, 1, 20)        1020        var11[0][0]                      \n",
      "__________________________________________________________________________________________________\n",
      "embedding_29 (Embedding)        (None, 1, 12)        276         var12[0][0]                      \n",
      "__________________________________________________________________________________________________\n",
      "embedding_30 (Embedding)        (None, 1, 16)        480         var13[0][0]                      \n",
      "__________________________________________________________________________________________________\n",
      "embedding_31 (Embedding)        (None, 1, 4)         24          var14[0][0]                      \n",
      "__________________________________________________________________________________________________\n",
      "embedding_32 (Embedding)        (None, 1, 20)        1180        var15[0][0]                      \n",
      "__________________________________________________________________________________________________\n",
      "embedding_33 (Embedding)        (None, 1, 20)        7280        var16[0][0]                      \n",
      "__________________________________________________________________________________________________\n",
      "embedding_34 (Embedding)        (None, 1, 20)        1020        var17[0][0]                      \n",
      "__________________________________________________________________________________________________\n",
      "concatenate_3 (Concatenate)     (None, 1, 239)       0           embedding_18[0][0]               \n",
      "                                                                 embedding_19[0][0]               \n",
      "                                                                 embedding_20[0][0]               \n",
      "                                                                 embedding_21[0][0]               \n",
      "                                                                 embedding_22[0][0]               \n",
      "                                                                 embedding_23[0][0]               \n",
      "                                                                 embedding_24[0][0]               \n",
      "                                                                 embedding_25[0][0]               \n",
      "                                                                 embedding_26[0][0]               \n",
      "                                                                 embedding_27[0][0]               \n",
      "                                                                 embedding_28[0][0]               \n",
      "                                                                 embedding_29[0][0]               \n",
      "                                                                 embedding_30[0][0]               \n",
      "                                                                 embedding_31[0][0]               \n",
      "                                                                 embedding_32[0][0]               \n",
      "                                                                 embedding_33[0][0]               \n",
      "                                                                 embedding_34[0][0]               \n",
      "__________________________________________________________________________________________________\n",
      "var0 (InputLayer)               (None, 6)            0                                            \n",
      "__________________________________________________________________________________________________\n",
      "flatten_2 (Flatten)             (None, 239)          0           concatenate_3[0][0]              \n",
      "__________________________________________________________________________________________________\n",
      "layer1 (Dense)                  (None, 6)            42          var0[0][0]                       \n",
      "__________________________________________________________________________________________________\n",
      "dropout_2 (Dropout)             (None, 239)          0           flatten_2[0][0]                  \n",
      "__________________________________________________________________________________________________\n",
      "concatenate_4 (Concatenate)     (None, 245)          0           layer1[0][0]                     \n",
      "                                                                 dropout_2[0][0]                  \n",
      "__________________________________________________________________________________________________\n",
      "layer2 (Dense)                  (None, 64)           15744       concatenate_4[0][0]              \n",
      "__________________________________________________________________________________________________\n",
      "layer3 (Dense)                  (None, 64)           4160        layer2[0][0]                     \n",
      "__________________________________________________________________________________________________\n",
      "layer4 (Dense)                  (None, 32)           2080        layer3[0][0]                     \n",
      "__________________________________________________________________________________________________\n",
      "output (Dense)                  (None, 1)            33          layer4[0][0]                     \n",
      "==================================================================================================\n",
      "Total params: 66,220\n",
      "Trainable params: 66,220\n",
      "Non-trainable params: 0\n",
      "__________________________________________________________________________________________________\n"
     ]
    }
   ],
   "source": [
    "# Get the model for this grid point\n",
    "model = get_model(actfn = 'elu', imode='glorot_normal', dr_rate=0.1, nnodes=21)\n",
    "\n",
    "# Print summary of model architecture\n",
    "model.summary()"
   ]
  },
  {
   "cell_type": "code",
   "execution_count": 31,
   "metadata": {},
   "outputs": [
    {
     "data": {
      "image/svg+xml": [
       "<svg height=\"702pt\" viewBox=\"0.00 0.00 3186.00 702.00\" width=\"3186pt\" xmlns=\"http://www.w3.org/2000/svg\" xmlns:xlink=\"http://www.w3.org/1999/xlink\">\n",
       "<g class=\"graph\" id=\"graph0\" transform=\"scale(1 1) rotate(0) translate(4 698)\">\n",
       "<title>G</title>\n",
       "<polygon fill=\"white\" points=\"-4,4 -4,-698 3182,-698 3182,4 -4,4\" stroke=\"none\"/>\n",
       "<!-- 2027510991224 -->\n",
       "<g class=\"node\" id=\"node1\"><title>2027510991224</title>\n",
       "<polygon fill=\"none\" points=\"31,-657.5 31,-693.5 139,-693.5 139,-657.5 31,-657.5\" stroke=\"black\"/>\n",
       "<text font-family=\"Times New Roman,serif\" font-size=\"14.00\" text-anchor=\"middle\" x=\"85\" y=\"-671.8\">var1: InputLayer</text>\n",
       "</g>\n",
       "<!-- 2027510991168 -->\n",
       "<g class=\"node\" id=\"node18\"><title>2027510991168</title>\n",
       "<polygon fill=\"none\" points=\"0,-584.5 0,-620.5 170,-620.5 170,-584.5 0,-584.5\" stroke=\"black\"/>\n",
       "<text font-family=\"Times New Roman,serif\" font-size=\"14.00\" text-anchor=\"middle\" x=\"85\" y=\"-598.8\">embedding_18: Embedding</text>\n",
       "</g>\n",
       "<!-- 2027510991224&#45;&gt;2027510991168 -->\n",
       "<g class=\"edge\" id=\"edge1\"><title>2027510991224-&gt;2027510991168</title>\n",
       "<path d=\"M85,-657.313C85,-649.289 85,-639.547 85,-630.569\" fill=\"none\" stroke=\"black\"/>\n",
       "<polygon fill=\"black\" points=\"88.5001,-630.529 85,-620.529 81.5001,-630.529 88.5001,-630.529\" stroke=\"black\"/>\n",
       "</g>\n",
       "<!-- 2027511295056 -->\n",
       "<g class=\"node\" id=\"node2\"><title>2027511295056</title>\n",
       "<polygon fill=\"none\" points=\"219,-657.5 219,-693.5 327,-693.5 327,-657.5 219,-657.5\" stroke=\"black\"/>\n",
       "<text font-family=\"Times New Roman,serif\" font-size=\"14.00\" text-anchor=\"middle\" x=\"273\" y=\"-671.8\">var2: InputLayer</text>\n",
       "</g>\n",
       "<!-- 2027511836512 -->\n",
       "<g class=\"node\" id=\"node19\"><title>2027511836512</title>\n",
       "<polygon fill=\"none\" points=\"188,-584.5 188,-620.5 358,-620.5 358,-584.5 188,-584.5\" stroke=\"black\"/>\n",
       "<text font-family=\"Times New Roman,serif\" font-size=\"14.00\" text-anchor=\"middle\" x=\"273\" y=\"-598.8\">embedding_19: Embedding</text>\n",
       "</g>\n",
       "<!-- 2027511295056&#45;&gt;2027511836512 -->\n",
       "<g class=\"edge\" id=\"edge2\"><title>2027511295056-&gt;2027511836512</title>\n",
       "<path d=\"M273,-657.313C273,-649.289 273,-639.547 273,-630.569\" fill=\"none\" stroke=\"black\"/>\n",
       "<polygon fill=\"black\" points=\"276.5,-630.529 273,-620.529 269.5,-630.529 276.5,-630.529\" stroke=\"black\"/>\n",
       "</g>\n",
       "<!-- 2027511758800 -->\n",
       "<g class=\"node\" id=\"node3\"><title>2027511758800</title>\n",
       "<polygon fill=\"none\" points=\"407,-657.5 407,-693.5 515,-693.5 515,-657.5 407,-657.5\" stroke=\"black\"/>\n",
       "<text font-family=\"Times New Roman,serif\" font-size=\"14.00\" text-anchor=\"middle\" x=\"461\" y=\"-671.8\">var3: InputLayer</text>\n",
       "</g>\n",
       "<!-- 2027511756224 -->\n",
       "<g class=\"node\" id=\"node20\"><title>2027511756224</title>\n",
       "<polygon fill=\"none\" points=\"376,-584.5 376,-620.5 546,-620.5 546,-584.5 376,-584.5\" stroke=\"black\"/>\n",
       "<text font-family=\"Times New Roman,serif\" font-size=\"14.00\" text-anchor=\"middle\" x=\"461\" y=\"-598.8\">embedding_20: Embedding</text>\n",
       "</g>\n",
       "<!-- 2027511758800&#45;&gt;2027511756224 -->\n",
       "<g class=\"edge\" id=\"edge3\"><title>2027511758800-&gt;2027511756224</title>\n",
       "<path d=\"M461,-657.313C461,-649.289 461,-639.547 461,-630.569\" fill=\"none\" stroke=\"black\"/>\n",
       "<polygon fill=\"black\" points=\"464.5,-630.529 461,-620.529 457.5,-630.529 464.5,-630.529\" stroke=\"black\"/>\n",
       "</g>\n",
       "<!-- 2027511757512 -->\n",
       "<g class=\"node\" id=\"node4\"><title>2027511757512</title>\n",
       "<polygon fill=\"none\" points=\"595,-657.5 595,-693.5 703,-693.5 703,-657.5 595,-657.5\" stroke=\"black\"/>\n",
       "<text font-family=\"Times New Roman,serif\" font-size=\"14.00\" text-anchor=\"middle\" x=\"649\" y=\"-671.8\">var4: InputLayer</text>\n",
       "</g>\n",
       "<!-- 2027514258544 -->\n",
       "<g class=\"node\" id=\"node21\"><title>2027514258544</title>\n",
       "<polygon fill=\"none\" points=\"564,-584.5 564,-620.5 734,-620.5 734,-584.5 564,-584.5\" stroke=\"black\"/>\n",
       "<text font-family=\"Times New Roman,serif\" font-size=\"14.00\" text-anchor=\"middle\" x=\"649\" y=\"-598.8\">embedding_21: Embedding</text>\n",
       "</g>\n",
       "<!-- 2027511757512&#45;&gt;2027514258544 -->\n",
       "<g class=\"edge\" id=\"edge4\"><title>2027511757512-&gt;2027514258544</title>\n",
       "<path d=\"M649,-657.313C649,-649.289 649,-639.547 649,-630.569\" fill=\"none\" stroke=\"black\"/>\n",
       "<polygon fill=\"black\" points=\"652.5,-630.529 649,-620.529 645.5,-630.529 652.5,-630.529\" stroke=\"black\"/>\n",
       "</g>\n",
       "<!-- 2027513838952 -->\n",
       "<g class=\"node\" id=\"node5\"><title>2027513838952</title>\n",
       "<polygon fill=\"none\" points=\"783,-657.5 783,-693.5 891,-693.5 891,-657.5 783,-657.5\" stroke=\"black\"/>\n",
       "<text font-family=\"Times New Roman,serif\" font-size=\"14.00\" text-anchor=\"middle\" x=\"837\" y=\"-671.8\">var5: InputLayer</text>\n",
       "</g>\n",
       "<!-- 2027514418512 -->\n",
       "<g class=\"node\" id=\"node22\"><title>2027514418512</title>\n",
       "<polygon fill=\"none\" points=\"752,-584.5 752,-620.5 922,-620.5 922,-584.5 752,-584.5\" stroke=\"black\"/>\n",
       "<text font-family=\"Times New Roman,serif\" font-size=\"14.00\" text-anchor=\"middle\" x=\"837\" y=\"-598.8\">embedding_22: Embedding</text>\n",
       "</g>\n",
       "<!-- 2027513838952&#45;&gt;2027514418512 -->\n",
       "<g class=\"edge\" id=\"edge5\"><title>2027513838952-&gt;2027514418512</title>\n",
       "<path d=\"M837,-657.313C837,-649.289 837,-639.547 837,-630.569\" fill=\"none\" stroke=\"black\"/>\n",
       "<polygon fill=\"black\" points=\"840.5,-630.529 837,-620.529 833.5,-630.529 840.5,-630.529\" stroke=\"black\"/>\n",
       "</g>\n",
       "<!-- 2027514342424 -->\n",
       "<g class=\"node\" id=\"node6\"><title>2027514342424</title>\n",
       "<polygon fill=\"none\" points=\"971,-657.5 971,-693.5 1079,-693.5 1079,-657.5 971,-657.5\" stroke=\"black\"/>\n",
       "<text font-family=\"Times New Roman,serif\" font-size=\"14.00\" text-anchor=\"middle\" x=\"1025\" y=\"-671.8\">var6: InputLayer</text>\n",
       "</g>\n",
       "<!-- 2027515170600 -->\n",
       "<g class=\"node\" id=\"node23\"><title>2027515170600</title>\n",
       "<polygon fill=\"none\" points=\"940,-584.5 940,-620.5 1110,-620.5 1110,-584.5 940,-584.5\" stroke=\"black\"/>\n",
       "<text font-family=\"Times New Roman,serif\" font-size=\"14.00\" text-anchor=\"middle\" x=\"1025\" y=\"-598.8\">embedding_23: Embedding</text>\n",
       "</g>\n",
       "<!-- 2027514342424&#45;&gt;2027515170600 -->\n",
       "<g class=\"edge\" id=\"edge6\"><title>2027514342424-&gt;2027515170600</title>\n",
       "<path d=\"M1025,-657.313C1025,-649.289 1025,-639.547 1025,-630.569\" fill=\"none\" stroke=\"black\"/>\n",
       "<polygon fill=\"black\" points=\"1028.5,-630.529 1025,-620.529 1021.5,-630.529 1028.5,-630.529\" stroke=\"black\"/>\n",
       "</g>\n",
       "<!-- 2027514484440 -->\n",
       "<g class=\"node\" id=\"node7\"><title>2027514484440</title>\n",
       "<polygon fill=\"none\" points=\"1159,-657.5 1159,-693.5 1267,-693.5 1267,-657.5 1159,-657.5\" stroke=\"black\"/>\n",
       "<text font-family=\"Times New Roman,serif\" font-size=\"14.00\" text-anchor=\"middle\" x=\"1213\" y=\"-671.8\">var7: InputLayer</text>\n",
       "</g>\n",
       "<!-- 2027513920760 -->\n",
       "<g class=\"node\" id=\"node24\"><title>2027513920760</title>\n",
       "<polygon fill=\"none\" points=\"1128,-584.5 1128,-620.5 1298,-620.5 1298,-584.5 1128,-584.5\" stroke=\"black\"/>\n",
       "<text font-family=\"Times New Roman,serif\" font-size=\"14.00\" text-anchor=\"middle\" x=\"1213\" y=\"-598.8\">embedding_24: Embedding</text>\n",
       "</g>\n",
       "<!-- 2027514484440&#45;&gt;2027513920760 -->\n",
       "<g class=\"edge\" id=\"edge7\"><title>2027514484440-&gt;2027513920760</title>\n",
       "<path d=\"M1213,-657.313C1213,-649.289 1213,-639.547 1213,-630.569\" fill=\"none\" stroke=\"black\"/>\n",
       "<polygon fill=\"black\" points=\"1216.5,-630.529 1213,-620.529 1209.5,-630.529 1216.5,-630.529\" stroke=\"black\"/>\n",
       "</g>\n",
       "<!-- 2027515857832 -->\n",
       "<g class=\"node\" id=\"node8\"><title>2027515857832</title>\n",
       "<polygon fill=\"none\" points=\"1347,-657.5 1347,-693.5 1455,-693.5 1455,-657.5 1347,-657.5\" stroke=\"black\"/>\n",
       "<text font-family=\"Times New Roman,serif\" font-size=\"14.00\" text-anchor=\"middle\" x=\"1401\" y=\"-671.8\">var8: InputLayer</text>\n",
       "</g>\n",
       "<!-- 2027513920704 -->\n",
       "<g class=\"node\" id=\"node25\"><title>2027513920704</title>\n",
       "<polygon fill=\"none\" points=\"1316,-584.5 1316,-620.5 1486,-620.5 1486,-584.5 1316,-584.5\" stroke=\"black\"/>\n",
       "<text font-family=\"Times New Roman,serif\" font-size=\"14.00\" text-anchor=\"middle\" x=\"1401\" y=\"-598.8\">embedding_25: Embedding</text>\n",
       "</g>\n",
       "<!-- 2027515857832&#45;&gt;2027513920704 -->\n",
       "<g class=\"edge\" id=\"edge8\"><title>2027515857832-&gt;2027513920704</title>\n",
       "<path d=\"M1401,-657.313C1401,-649.289 1401,-639.547 1401,-630.569\" fill=\"none\" stroke=\"black\"/>\n",
       "<polygon fill=\"black\" points=\"1404.5,-630.529 1401,-620.529 1397.5,-630.529 1404.5,-630.529\" stroke=\"black\"/>\n",
       "</g>\n",
       "<!-- 2027515259424 -->\n",
       "<g class=\"node\" id=\"node9\"><title>2027515259424</title>\n",
       "<polygon fill=\"none\" points=\"1535,-657.5 1535,-693.5 1643,-693.5 1643,-657.5 1535,-657.5\" stroke=\"black\"/>\n",
       "<text font-family=\"Times New Roman,serif\" font-size=\"14.00\" text-anchor=\"middle\" x=\"1589\" y=\"-671.8\">var9: InputLayer</text>\n",
       "</g>\n",
       "<!-- 2027515934928 -->\n",
       "<g class=\"node\" id=\"node26\"><title>2027515934928</title>\n",
       "<polygon fill=\"none\" points=\"1504,-584.5 1504,-620.5 1674,-620.5 1674,-584.5 1504,-584.5\" stroke=\"black\"/>\n",
       "<text font-family=\"Times New Roman,serif\" font-size=\"14.00\" text-anchor=\"middle\" x=\"1589\" y=\"-598.8\">embedding_26: Embedding</text>\n",
       "</g>\n",
       "<!-- 2027515259424&#45;&gt;2027515934928 -->\n",
       "<g class=\"edge\" id=\"edge9\"><title>2027515259424-&gt;2027515934928</title>\n",
       "<path d=\"M1589,-657.313C1589,-649.289 1589,-639.547 1589,-630.569\" fill=\"none\" stroke=\"black\"/>\n",
       "<polygon fill=\"black\" points=\"1592.5,-630.529 1589,-620.529 1585.5,-630.529 1592.5,-630.529\" stroke=\"black\"/>\n",
       "</g>\n",
       "<!-- 2027515936384 -->\n",
       "<g class=\"node\" id=\"node10\"><title>2027515936384</title>\n",
       "<polygon fill=\"none\" points=\"1719.5,-657.5 1719.5,-693.5 1834.5,-693.5 1834.5,-657.5 1719.5,-657.5\" stroke=\"black\"/>\n",
       "<text font-family=\"Times New Roman,serif\" font-size=\"14.00\" text-anchor=\"middle\" x=\"1777\" y=\"-671.8\">var10: InputLayer</text>\n",
       "</g>\n",
       "<!-- 2027516861856 -->\n",
       "<g class=\"node\" id=\"node27\"><title>2027516861856</title>\n",
       "<polygon fill=\"none\" points=\"1692,-584.5 1692,-620.5 1862,-620.5 1862,-584.5 1692,-584.5\" stroke=\"black\"/>\n",
       "<text font-family=\"Times New Roman,serif\" font-size=\"14.00\" text-anchor=\"middle\" x=\"1777\" y=\"-598.8\">embedding_27: Embedding</text>\n",
       "</g>\n",
       "<!-- 2027515936384&#45;&gt;2027516861856 -->\n",
       "<g class=\"edge\" id=\"edge10\"><title>2027515936384-&gt;2027516861856</title>\n",
       "<path d=\"M1777,-657.313C1777,-649.289 1777,-639.547 1777,-630.569\" fill=\"none\" stroke=\"black\"/>\n",
       "<polygon fill=\"black\" points=\"1780.5,-630.529 1777,-620.529 1773.5,-630.529 1780.5,-630.529\" stroke=\"black\"/>\n",
       "</g>\n",
       "<!-- 2027516862024 -->\n",
       "<g class=\"node\" id=\"node11\"><title>2027516862024</title>\n",
       "<polygon fill=\"none\" points=\"1907.5,-657.5 1907.5,-693.5 2022.5,-693.5 2022.5,-657.5 1907.5,-657.5\" stroke=\"black\"/>\n",
       "<text font-family=\"Times New Roman,serif\" font-size=\"14.00\" text-anchor=\"middle\" x=\"1965\" y=\"-671.8\">var11: InputLayer</text>\n",
       "</g>\n",
       "<!-- 2027516788408 -->\n",
       "<g class=\"node\" id=\"node28\"><title>2027516788408</title>\n",
       "<polygon fill=\"none\" points=\"1880,-584.5 1880,-620.5 2050,-620.5 2050,-584.5 1880,-584.5\" stroke=\"black\"/>\n",
       "<text font-family=\"Times New Roman,serif\" font-size=\"14.00\" text-anchor=\"middle\" x=\"1965\" y=\"-598.8\">embedding_28: Embedding</text>\n",
       "</g>\n",
       "<!-- 2027516862024&#45;&gt;2027516788408 -->\n",
       "<g class=\"edge\" id=\"edge11\"><title>2027516862024-&gt;2027516788408</title>\n",
       "<path d=\"M1965,-657.313C1965,-649.289 1965,-639.547 1965,-630.569\" fill=\"none\" stroke=\"black\"/>\n",
       "<polygon fill=\"black\" points=\"1968.5,-630.529 1965,-620.529 1961.5,-630.529 1968.5,-630.529\" stroke=\"black\"/>\n",
       "</g>\n",
       "<!-- 2027516636632 -->\n",
       "<g class=\"node\" id=\"node12\"><title>2027516636632</title>\n",
       "<polygon fill=\"none\" points=\"2095.5,-657.5 2095.5,-693.5 2210.5,-693.5 2210.5,-657.5 2095.5,-657.5\" stroke=\"black\"/>\n",
       "<text font-family=\"Times New Roman,serif\" font-size=\"14.00\" text-anchor=\"middle\" x=\"2153\" y=\"-671.8\">var12: InputLayer</text>\n",
       "</g>\n",
       "<!-- 2025082850496 -->\n",
       "<g class=\"node\" id=\"node29\"><title>2025082850496</title>\n",
       "<polygon fill=\"none\" points=\"2068,-584.5 2068,-620.5 2238,-620.5 2238,-584.5 2068,-584.5\" stroke=\"black\"/>\n",
       "<text font-family=\"Times New Roman,serif\" font-size=\"14.00\" text-anchor=\"middle\" x=\"2153\" y=\"-598.8\">embedding_29: Embedding</text>\n",
       "</g>\n",
       "<!-- 2027516636632&#45;&gt;2025082850496 -->\n",
       "<g class=\"edge\" id=\"edge12\"><title>2027516636632-&gt;2025082850496</title>\n",
       "<path d=\"M2153,-657.313C2153,-649.289 2153,-639.547 2153,-630.569\" fill=\"none\" stroke=\"black\"/>\n",
       "<polygon fill=\"black\" points=\"2156.5,-630.529 2153,-620.529 2149.5,-630.529 2156.5,-630.529\" stroke=\"black\"/>\n",
       "</g>\n",
       "<!-- 2025082906216 -->\n",
       "<g class=\"node\" id=\"node13\"><title>2025082906216</title>\n",
       "<polygon fill=\"none\" points=\"2283.5,-657.5 2283.5,-693.5 2398.5,-693.5 2398.5,-657.5 2283.5,-657.5\" stroke=\"black\"/>\n",
       "<text font-family=\"Times New Roman,serif\" font-size=\"14.00\" text-anchor=\"middle\" x=\"2341\" y=\"-671.8\">var13: InputLayer</text>\n",
       "</g>\n",
       "<!-- 2025083061584 -->\n",
       "<g class=\"node\" id=\"node30\"><title>2025083061584</title>\n",
       "<polygon fill=\"none\" points=\"2256,-584.5 2256,-620.5 2426,-620.5 2426,-584.5 2256,-584.5\" stroke=\"black\"/>\n",
       "<text font-family=\"Times New Roman,serif\" font-size=\"14.00\" text-anchor=\"middle\" x=\"2341\" y=\"-598.8\">embedding_30: Embedding</text>\n",
       "</g>\n",
       "<!-- 2025082906216&#45;&gt;2025083061584 -->\n",
       "<g class=\"edge\" id=\"edge13\"><title>2025082906216-&gt;2025083061584</title>\n",
       "<path d=\"M2341,-657.313C2341,-649.289 2341,-639.547 2341,-630.569\" fill=\"none\" stroke=\"black\"/>\n",
       "<polygon fill=\"black\" points=\"2344.5,-630.529 2341,-620.529 2337.5,-630.529 2344.5,-630.529\" stroke=\"black\"/>\n",
       "</g>\n",
       "<!-- 2025083062928 -->\n",
       "<g class=\"node\" id=\"node14\"><title>2025083062928</title>\n",
       "<polygon fill=\"none\" points=\"2471.5,-657.5 2471.5,-693.5 2586.5,-693.5 2586.5,-657.5 2471.5,-657.5\" stroke=\"black\"/>\n",
       "<text font-family=\"Times New Roman,serif\" font-size=\"14.00\" text-anchor=\"middle\" x=\"2529\" y=\"-671.8\">var14: InputLayer</text>\n",
       "</g>\n",
       "<!-- 2027516956120 -->\n",
       "<g class=\"node\" id=\"node31\"><title>2027516956120</title>\n",
       "<polygon fill=\"none\" points=\"2444,-584.5 2444,-620.5 2614,-620.5 2614,-584.5 2444,-584.5\" stroke=\"black\"/>\n",
       "<text font-family=\"Times New Roman,serif\" font-size=\"14.00\" text-anchor=\"middle\" x=\"2529\" y=\"-598.8\">embedding_31: Embedding</text>\n",
       "</g>\n",
       "<!-- 2025083062928&#45;&gt;2027516956120 -->\n",
       "<g class=\"edge\" id=\"edge14\"><title>2025083062928-&gt;2027516956120</title>\n",
       "<path d=\"M2529,-657.313C2529,-649.289 2529,-639.547 2529,-630.569\" fill=\"none\" stroke=\"black\"/>\n",
       "<polygon fill=\"black\" points=\"2532.5,-630.529 2529,-620.529 2525.5,-630.529 2532.5,-630.529\" stroke=\"black\"/>\n",
       "</g>\n",
       "<!-- 2027516953320 -->\n",
       "<g class=\"node\" id=\"node15\"><title>2027516953320</title>\n",
       "<polygon fill=\"none\" points=\"2659.5,-657.5 2659.5,-693.5 2774.5,-693.5 2774.5,-657.5 2659.5,-657.5\" stroke=\"black\"/>\n",
       "<text font-family=\"Times New Roman,serif\" font-size=\"14.00\" text-anchor=\"middle\" x=\"2717\" y=\"-671.8\">var15: InputLayer</text>\n",
       "</g>\n",
       "<!-- 2025083217792 -->\n",
       "<g class=\"node\" id=\"node32\"><title>2025083217792</title>\n",
       "<polygon fill=\"none\" points=\"2632,-584.5 2632,-620.5 2802,-620.5 2802,-584.5 2632,-584.5\" stroke=\"black\"/>\n",
       "<text font-family=\"Times New Roman,serif\" font-size=\"14.00\" text-anchor=\"middle\" x=\"2717\" y=\"-598.8\">embedding_32: Embedding</text>\n",
       "</g>\n",
       "<!-- 2027516953320&#45;&gt;2025083217792 -->\n",
       "<g class=\"edge\" id=\"edge15\"><title>2027516953320-&gt;2025083217792</title>\n",
       "<path d=\"M2717,-657.313C2717,-649.289 2717,-639.547 2717,-630.569\" fill=\"none\" stroke=\"black\"/>\n",
       "<polygon fill=\"black\" points=\"2720.5,-630.529 2717,-620.529 2713.5,-630.529 2720.5,-630.529\" stroke=\"black\"/>\n",
       "</g>\n",
       "<!-- 2025083218632 -->\n",
       "<g class=\"node\" id=\"node16\"><title>2025083218632</title>\n",
       "<polygon fill=\"none\" points=\"2847.5,-657.5 2847.5,-693.5 2962.5,-693.5 2962.5,-657.5 2847.5,-657.5\" stroke=\"black\"/>\n",
       "<text font-family=\"Times New Roman,serif\" font-size=\"14.00\" text-anchor=\"middle\" x=\"2905\" y=\"-671.8\">var16: InputLayer</text>\n",
       "</g>\n",
       "<!-- 2025083366032 -->\n",
       "<g class=\"node\" id=\"node33\"><title>2025083366032</title>\n",
       "<polygon fill=\"none\" points=\"2820,-584.5 2820,-620.5 2990,-620.5 2990,-584.5 2820,-584.5\" stroke=\"black\"/>\n",
       "<text font-family=\"Times New Roman,serif\" font-size=\"14.00\" text-anchor=\"middle\" x=\"2905\" y=\"-598.8\">embedding_33: Embedding</text>\n",
       "</g>\n",
       "<!-- 2025083218632&#45;&gt;2025083366032 -->\n",
       "<g class=\"edge\" id=\"edge16\"><title>2025083218632-&gt;2025083366032</title>\n",
       "<path d=\"M2905,-657.313C2905,-649.289 2905,-639.547 2905,-630.569\" fill=\"none\" stroke=\"black\"/>\n",
       "<polygon fill=\"black\" points=\"2908.5,-630.529 2905,-620.529 2901.5,-630.529 2908.5,-630.529\" stroke=\"black\"/>\n",
       "</g>\n",
       "<!-- 2025083367152 -->\n",
       "<g class=\"node\" id=\"node17\"><title>2025083367152</title>\n",
       "<polygon fill=\"none\" points=\"3035.5,-657.5 3035.5,-693.5 3150.5,-693.5 3150.5,-657.5 3035.5,-657.5\" stroke=\"black\"/>\n",
       "<text font-family=\"Times New Roman,serif\" font-size=\"14.00\" text-anchor=\"middle\" x=\"3093\" y=\"-671.8\">var17: InputLayer</text>\n",
       "</g>\n",
       "<!-- 2025083617064 -->\n",
       "<g class=\"node\" id=\"node34\"><title>2025083617064</title>\n",
       "<polygon fill=\"none\" points=\"3008,-584.5 3008,-620.5 3178,-620.5 3178,-584.5 3008,-584.5\" stroke=\"black\"/>\n",
       "<text font-family=\"Times New Roman,serif\" font-size=\"14.00\" text-anchor=\"middle\" x=\"3093\" y=\"-598.8\">embedding_34: Embedding</text>\n",
       "</g>\n",
       "<!-- 2025083367152&#45;&gt;2025083617064 -->\n",
       "<g class=\"edge\" id=\"edge17\"><title>2025083367152-&gt;2025083617064</title>\n",
       "<path d=\"M3093,-657.313C3093,-649.289 3093,-639.547 3093,-630.569\" fill=\"none\" stroke=\"black\"/>\n",
       "<polygon fill=\"black\" points=\"3096.5,-630.529 3093,-620.529 3089.5,-630.529 3096.5,-630.529\" stroke=\"black\"/>\n",
       "</g>\n",
       "<!-- 2027510990552 -->\n",
       "<g class=\"node\" id=\"node35\"><title>2027510990552</title>\n",
       "<polygon fill=\"none\" points=\"1502.5,-511.5 1502.5,-547.5 1675.5,-547.5 1675.5,-511.5 1502.5,-511.5\" stroke=\"black\"/>\n",
       "<text font-family=\"Times New Roman,serif\" font-size=\"14.00\" text-anchor=\"middle\" x=\"1589\" y=\"-525.8\">concatenate_3: Concatenate</text>\n",
       "</g>\n",
       "<!-- 2027510991168&#45;&gt;2027510990552 -->\n",
       "<g class=\"edge\" id=\"edge18\"><title>2027510991168-&gt;2027510990552</title>\n",
       "<path d=\"M170.225,-585.072C173.181,-584.681 176.113,-584.322 179,-584 434.092,-555.569 1216.35,-537.835 1491.8,-532.337\" fill=\"none\" stroke=\"black\"/>\n",
       "<polygon fill=\"black\" points=\"1492.24,-535.828 1502.17,-532.13 1492.1,-528.83 1492.24,-535.828\" stroke=\"black\"/>\n",
       "</g>\n",
       "<!-- 2027511836512&#45;&gt;2027510990552 -->\n",
       "<g class=\"edge\" id=\"edge19\"><title>2027511836512-&gt;2027510990552</title>\n",
       "<path d=\"M358.227,-585.094C361.183,-584.697 364.114,-584.33 367,-584 783.77,-536.32 1284.96,-530.368 1492.13,-530.136\" fill=\"none\" stroke=\"black\"/>\n",
       "<polygon fill=\"black\" points=\"1492.37,-533.636 1502.37,-530.129 1492.37,-526.636 1492.37,-533.636\" stroke=\"black\"/>\n",
       "</g>\n",
       "<!-- 2027511756224&#45;&gt;2027510990552 -->\n",
       "<g class=\"edge\" id=\"edge20\"><title>2027511756224-&gt;2027510990552</title>\n",
       "<path d=\"M546.231,-585.124C549.186,-584.718 552.115,-584.342 555,-584 897.943,-543.386 1308.5,-533.6 1492.04,-531.245\" fill=\"none\" stroke=\"black\"/>\n",
       "<polygon fill=\"black\" points=\"1492.25,-534.742 1502.2,-531.119 1492.16,-527.743 1492.25,-534.742\" stroke=\"black\"/>\n",
       "</g>\n",
       "<!-- 2027514258544&#45;&gt;2027510990552 -->\n",
       "<g class=\"edge\" id=\"edge21\"><title>2027514258544-&gt;2027510990552</title>\n",
       "<path d=\"M734.236,-585.167C737.189,-584.749 740.117,-584.358 743,-584 1013.1,-550.443 1334.47,-537.449 1492.07,-532.821\" fill=\"none\" stroke=\"black\"/>\n",
       "<polygon fill=\"black\" points=\"1492.31,-536.316 1502.21,-532.528 1492.11,-529.319 1492.31,-536.316\" stroke=\"black\"/>\n",
       "</g>\n",
       "<!-- 2027514418512&#45;&gt;2027510990552 -->\n",
       "<g class=\"edge\" id=\"edge22\"><title>2027514418512-&gt;2027510990552</title>\n",
       "<path d=\"M922.245,-585.234C925.195,-584.797 928.121,-584.384 931,-584 1129.55,-557.518 1363.67,-542.26 1492.26,-535.243\" fill=\"none\" stroke=\"black\"/>\n",
       "<polygon fill=\"black\" points=\"1492.68,-538.725 1502.47,-534.691 1492.3,-531.736 1492.68,-538.725\" stroke=\"black\"/>\n",
       "</g>\n",
       "<!-- 2027515170600&#45;&gt;2027510990552 -->\n",
       "<g class=\"edge\" id=\"edge23\"><title>2027515170600-&gt;2027510990552</title>\n",
       "<path d=\"M1110.01,-585.395C1113.04,-584.91 1116.05,-584.443 1119,-584 1247.51,-564.747 1396.72,-548.855 1491.94,-539.525\" fill=\"none\" stroke=\"black\"/>\n",
       "<polygon fill=\"black\" points=\"1492.52,-542.985 1502.13,-538.531 1491.84,-536.018 1492.52,-542.985\" stroke=\"black\"/>\n",
       "</g>\n",
       "<!-- 2027513920760&#45;&gt;2027510990552 -->\n",
       "<g class=\"edge\" id=\"edge24\"><title>2027513920760-&gt;2027510990552</title>\n",
       "<path d=\"M1298.32,-585.389C1356.1,-574.479 1432.54,-560.045 1492.53,-548.717\" fill=\"none\" stroke=\"black\"/>\n",
       "<polygon fill=\"black\" points=\"1493.21,-552.149 1502.39,-546.855 1491.91,-545.271 1493.21,-552.149\" stroke=\"black\"/>\n",
       "</g>\n",
       "<!-- 2027513920704&#45;&gt;2027510990552 -->\n",
       "<g class=\"edge\" id=\"edge25\"><title>2027513920704-&gt;2027510990552</title>\n",
       "<path d=\"M1446.03,-584.494C1472.46,-574.512 1506.06,-561.824 1534.04,-551.255\" fill=\"none\" stroke=\"black\"/>\n",
       "<polygon fill=\"black\" points=\"1535.57,-554.421 1543.69,-547.614 1533.09,-547.872 1535.57,-554.421\" stroke=\"black\"/>\n",
       "</g>\n",
       "<!-- 2027515934928&#45;&gt;2027510990552 -->\n",
       "<g class=\"edge\" id=\"edge26\"><title>2027515934928-&gt;2027510990552</title>\n",
       "<path d=\"M1589,-584.313C1589,-576.289 1589,-566.547 1589,-557.569\" fill=\"none\" stroke=\"black\"/>\n",
       "<polygon fill=\"black\" points=\"1592.5,-557.529 1589,-547.529 1585.5,-557.529 1592.5,-557.529\" stroke=\"black\"/>\n",
       "</g>\n",
       "<!-- 2027516861856&#45;&gt;2027510990552 -->\n",
       "<g class=\"edge\" id=\"edge27\"><title>2027516861856-&gt;2027510990552</title>\n",
       "<path d=\"M1731.97,-584.494C1705.54,-574.512 1671.94,-561.824 1643.96,-551.255\" fill=\"none\" stroke=\"black\"/>\n",
       "<polygon fill=\"black\" points=\"1644.91,-547.872 1634.31,-547.614 1642.43,-554.421 1644.91,-547.872\" stroke=\"black\"/>\n",
       "</g>\n",
       "<!-- 2027516788408&#45;&gt;2027510990552 -->\n",
       "<g class=\"edge\" id=\"edge28\"><title>2027516788408-&gt;2027510990552</title>\n",
       "<path d=\"M1879.68,-585.389C1821.9,-574.479 1745.46,-560.045 1685.47,-548.717\" fill=\"none\" stroke=\"black\"/>\n",
       "<polygon fill=\"black\" points=\"1686.09,-545.271 1675.61,-546.855 1684.79,-552.149 1686.09,-545.271\" stroke=\"black\"/>\n",
       "</g>\n",
       "<!-- 2025082850496&#45;&gt;2027510990552 -->\n",
       "<g class=\"edge\" id=\"edge29\"><title>2025082850496-&gt;2027510990552</title>\n",
       "<path d=\"M2067.99,-585.395C2064.96,-584.91 2061.95,-584.443 2059,-584 1930.49,-564.747 1781.28,-548.855 1686.06,-539.525\" fill=\"none\" stroke=\"black\"/>\n",
       "<polygon fill=\"black\" points=\"1686.16,-536.018 1675.87,-538.531 1685.48,-542.985 1686.16,-536.018\" stroke=\"black\"/>\n",
       "</g>\n",
       "<!-- 2025083061584&#45;&gt;2027510990552 -->\n",
       "<g class=\"edge\" id=\"edge30\"><title>2025083061584-&gt;2027510990552</title>\n",
       "<path d=\"M2255.76,-585.234C2252.8,-584.797 2249.88,-584.384 2247,-584 2048.45,-557.518 1814.33,-542.26 1685.74,-535.243\" fill=\"none\" stroke=\"black\"/>\n",
       "<polygon fill=\"black\" points=\"1685.7,-531.736 1675.53,-534.691 1685.32,-538.725 1685.7,-531.736\" stroke=\"black\"/>\n",
       "</g>\n",
       "<!-- 2027516956120&#45;&gt;2027510990552 -->\n",
       "<g class=\"edge\" id=\"edge31\"><title>2027516956120-&gt;2027510990552</title>\n",
       "<path d=\"M2443.76,-585.167C2440.81,-584.749 2437.88,-584.358 2435,-584 2164.9,-550.443 1843.53,-537.449 1685.93,-532.821\" fill=\"none\" stroke=\"black\"/>\n",
       "<polygon fill=\"black\" points=\"1685.89,-529.319 1675.79,-532.528 1685.69,-536.316 1685.89,-529.319\" stroke=\"black\"/>\n",
       "</g>\n",
       "<!-- 2025083217792&#45;&gt;2027510990552 -->\n",
       "<g class=\"edge\" id=\"edge32\"><title>2025083217792-&gt;2027510990552</title>\n",
       "<path d=\"M2631.77,-585.124C2628.81,-584.718 2625.88,-584.342 2623,-584 2280.06,-543.386 1869.5,-533.6 1685.96,-531.245\" fill=\"none\" stroke=\"black\"/>\n",
       "<polygon fill=\"black\" points=\"1685.84,-527.743 1675.8,-531.119 1685.75,-534.742 1685.84,-527.743\" stroke=\"black\"/>\n",
       "</g>\n",
       "<!-- 2025083366032&#45;&gt;2027510990552 -->\n",
       "<g class=\"edge\" id=\"edge33\"><title>2025083366032-&gt;2027510990552</title>\n",
       "<path d=\"M2819.77,-585.094C2816.82,-584.697 2813.89,-584.33 2811,-584 2394.23,-536.32 1893.04,-530.368 1685.87,-530.136\" fill=\"none\" stroke=\"black\"/>\n",
       "<polygon fill=\"black\" points=\"1685.63,-526.636 1675.63,-530.129 1685.63,-533.636 1685.63,-526.636\" stroke=\"black\"/>\n",
       "</g>\n",
       "<!-- 2025083617064&#45;&gt;2027510990552 -->\n",
       "<g class=\"edge\" id=\"edge34\"><title>2025083617064-&gt;2027510990552</title>\n",
       "<path d=\"M3007.78,-585.072C3004.82,-584.681 3001.89,-584.322 2999,-584 2743.91,-555.569 1961.65,-537.835 1686.2,-532.337\" fill=\"none\" stroke=\"black\"/>\n",
       "<polygon fill=\"black\" points=\"1685.9,-528.83 1675.83,-532.13 1685.76,-535.828 1685.9,-528.83\" stroke=\"black\"/>\n",
       "</g>\n",
       "<!-- 2025083616224 -->\n",
       "<g class=\"node\" id=\"node37\"><title>2025083616224</title>\n",
       "<polygon fill=\"none\" points=\"1534.5,-438.5 1534.5,-474.5 1643.5,-474.5 1643.5,-438.5 1534.5,-438.5\" stroke=\"black\"/>\n",
       "<text font-family=\"Times New Roman,serif\" font-size=\"14.00\" text-anchor=\"middle\" x=\"1589\" y=\"-452.8\">flatten_2: Flatten</text>\n",
       "</g>\n",
       "<!-- 2027510990552&#45;&gt;2025083616224 -->\n",
       "<g class=\"edge\" id=\"edge35\"><title>2027510990552-&gt;2025083616224</title>\n",
       "<path d=\"M1589,-511.313C1589,-503.289 1589,-493.547 1589,-484.569\" fill=\"none\" stroke=\"black\"/>\n",
       "<polygon fill=\"black\" points=\"1592.5,-484.529 1589,-474.529 1585.5,-484.529 1592.5,-484.529\" stroke=\"black\"/>\n",
       "</g>\n",
       "<!-- 2027510991000 -->\n",
       "<g class=\"node\" id=\"node36\"><title>2027510991000</title>\n",
       "<polygon fill=\"none\" points=\"1664,-438.5 1664,-474.5 1772,-474.5 1772,-438.5 1664,-438.5\" stroke=\"black\"/>\n",
       "<text font-family=\"Times New Roman,serif\" font-size=\"14.00\" text-anchor=\"middle\" x=\"1718\" y=\"-452.8\">var0: InputLayer</text>\n",
       "</g>\n",
       "<!-- 2025097027424 -->\n",
       "<g class=\"node\" id=\"node38\"><title>2025097027424</title>\n",
       "<polygon fill=\"none\" points=\"1672.5,-365.5 1672.5,-401.5 1763.5,-401.5 1763.5,-365.5 1672.5,-365.5\" stroke=\"black\"/>\n",
       "<text font-family=\"Times New Roman,serif\" font-size=\"14.00\" text-anchor=\"middle\" x=\"1718\" y=\"-379.8\">layer1: Dense</text>\n",
       "</g>\n",
       "<!-- 2027510991000&#45;&gt;2025097027424 -->\n",
       "<g class=\"edge\" id=\"edge36\"><title>2027510991000-&gt;2025097027424</title>\n",
       "<path d=\"M1718,-438.313C1718,-430.289 1718,-420.547 1718,-411.569\" fill=\"none\" stroke=\"black\"/>\n",
       "<polygon fill=\"black\" points=\"1721.5,-411.529 1718,-401.529 1714.5,-411.529 1721.5,-411.529\" stroke=\"black\"/>\n",
       "</g>\n",
       "<!-- 2025083617176 -->\n",
       "<g class=\"node\" id=\"node39\"><title>2025083617176</title>\n",
       "<polygon fill=\"none\" points=\"1524,-365.5 1524,-401.5 1654,-401.5 1654,-365.5 1524,-365.5\" stroke=\"black\"/>\n",
       "<text font-family=\"Times New Roman,serif\" font-size=\"14.00\" text-anchor=\"middle\" x=\"1589\" y=\"-379.8\">dropout_2: Dropout</text>\n",
       "</g>\n",
       "<!-- 2025083616224&#45;&gt;2025083617176 -->\n",
       "<g class=\"edge\" id=\"edge37\"><title>2025083616224-&gt;2025083617176</title>\n",
       "<path d=\"M1589,-438.313C1589,-430.289 1589,-420.547 1589,-411.569\" fill=\"none\" stroke=\"black\"/>\n",
       "<polygon fill=\"black\" points=\"1592.5,-411.529 1589,-401.529 1585.5,-411.529 1592.5,-411.529\" stroke=\"black\"/>\n",
       "</g>\n",
       "<!-- 2025083685016 -->\n",
       "<g class=\"node\" id=\"node40\"><title>2025083685016</title>\n",
       "<polygon fill=\"none\" points=\"1566.5,-292.5 1566.5,-328.5 1739.5,-328.5 1739.5,-292.5 1566.5,-292.5\" stroke=\"black\"/>\n",
       "<text font-family=\"Times New Roman,serif\" font-size=\"14.00\" text-anchor=\"middle\" x=\"1653\" y=\"-306.8\">concatenate_4: Concatenate</text>\n",
       "</g>\n",
       "<!-- 2025097027424&#45;&gt;2025083685016 -->\n",
       "<g class=\"edge\" id=\"edge38\"><title>2025097027424-&gt;2025083685016</title>\n",
       "<path d=\"M1702.27,-365.313C1694.2,-356.505 1684.24,-345.625 1675.39,-335.958\" fill=\"none\" stroke=\"black\"/>\n",
       "<polygon fill=\"black\" points=\"1677.92,-333.541 1668.59,-328.529 1672.76,-338.268 1677.92,-333.541\" stroke=\"black\"/>\n",
       "</g>\n",
       "<!-- 2025083617176&#45;&gt;2025083685016 -->\n",
       "<g class=\"edge\" id=\"edge39\"><title>2025083617176-&gt;2025083685016</title>\n",
       "<path d=\"M1604.49,-365.313C1612.43,-356.505 1622.24,-345.625 1630.95,-335.958\" fill=\"none\" stroke=\"black\"/>\n",
       "<polygon fill=\"black\" points=\"1633.55,-338.3 1637.65,-328.529 1628.35,-333.613 1633.55,-338.3\" stroke=\"black\"/>\n",
       "</g>\n",
       "<!-- 2025083999736 -->\n",
       "<g class=\"node\" id=\"node41\"><title>2025083999736</title>\n",
       "<polygon fill=\"none\" points=\"1607.5,-219.5 1607.5,-255.5 1698.5,-255.5 1698.5,-219.5 1607.5,-219.5\" stroke=\"black\"/>\n",
       "<text font-family=\"Times New Roman,serif\" font-size=\"14.00\" text-anchor=\"middle\" x=\"1653\" y=\"-233.8\">layer2: Dense</text>\n",
       "</g>\n",
       "<!-- 2025083685016&#45;&gt;2025083999736 -->\n",
       "<g class=\"edge\" id=\"edge40\"><title>2025083685016-&gt;2025083999736</title>\n",
       "<path d=\"M1653,-292.313C1653,-284.289 1653,-274.547 1653,-265.569\" fill=\"none\" stroke=\"black\"/>\n",
       "<polygon fill=\"black\" points=\"1656.5,-265.529 1653,-255.529 1649.5,-265.529 1656.5,-265.529\" stroke=\"black\"/>\n",
       "</g>\n",
       "<!-- 2025084249928 -->\n",
       "<g class=\"node\" id=\"node42\"><title>2025084249928</title>\n",
       "<polygon fill=\"none\" points=\"1607.5,-146.5 1607.5,-182.5 1698.5,-182.5 1698.5,-146.5 1607.5,-146.5\" stroke=\"black\"/>\n",
       "<text font-family=\"Times New Roman,serif\" font-size=\"14.00\" text-anchor=\"middle\" x=\"1653\" y=\"-160.8\">layer3: Dense</text>\n",
       "</g>\n",
       "<!-- 2025083999736&#45;&gt;2025084249928 -->\n",
       "<g class=\"edge\" id=\"edge41\"><title>2025083999736-&gt;2025084249928</title>\n",
       "<path d=\"M1653,-219.313C1653,-211.289 1653,-201.547 1653,-192.569\" fill=\"none\" stroke=\"black\"/>\n",
       "<polygon fill=\"black\" points=\"1656.5,-192.529 1653,-182.529 1649.5,-192.529 1656.5,-192.529\" stroke=\"black\"/>\n",
       "</g>\n",
       "<!-- 2025084570144 -->\n",
       "<g class=\"node\" id=\"node43\"><title>2025084570144</title>\n",
       "<polygon fill=\"none\" points=\"1607.5,-73.5 1607.5,-109.5 1698.5,-109.5 1698.5,-73.5 1607.5,-73.5\" stroke=\"black\"/>\n",
       "<text font-family=\"Times New Roman,serif\" font-size=\"14.00\" text-anchor=\"middle\" x=\"1653\" y=\"-87.8\">layer4: Dense</text>\n",
       "</g>\n",
       "<!-- 2025084249928&#45;&gt;2025084570144 -->\n",
       "<g class=\"edge\" id=\"edge42\"><title>2025084249928-&gt;2025084570144</title>\n",
       "<path d=\"M1653,-146.313C1653,-138.289 1653,-128.547 1653,-119.569\" fill=\"none\" stroke=\"black\"/>\n",
       "<polygon fill=\"black\" points=\"1656.5,-119.529 1653,-109.529 1649.5,-119.529 1656.5,-119.529\" stroke=\"black\"/>\n",
       "</g>\n",
       "<!-- 2025084732528 -->\n",
       "<g class=\"node\" id=\"node44\"><title>2025084732528</title>\n",
       "<polygon fill=\"none\" points=\"1606,-0.5 1606,-36.5 1700,-36.5 1700,-0.5 1606,-0.5\" stroke=\"black\"/>\n",
       "<text font-family=\"Times New Roman,serif\" font-size=\"14.00\" text-anchor=\"middle\" x=\"1653\" y=\"-14.8\">output: Dense</text>\n",
       "</g>\n",
       "<!-- 2025084570144&#45;&gt;2025084732528 -->\n",
       "<g class=\"edge\" id=\"edge43\"><title>2025084570144-&gt;2025084732528</title>\n",
       "<path d=\"M1653,-73.3129C1653,-65.2895 1653,-55.5475 1653,-46.5691\" fill=\"none\" stroke=\"black\"/>\n",
       "<polygon fill=\"black\" points=\"1656.5,-46.5288 1653,-36.5288 1649.5,-46.5289 1656.5,-46.5288\" stroke=\"black\"/>\n",
       "</g>\n",
       "</g>\n",
       "</svg>"
      ],
      "text/plain": [
       "<IPython.core.display.SVG object>"
      ]
     },
     "execution_count": 31,
     "metadata": {},
     "output_type": "execute_result"
    }
   ],
   "source": [
    "plot_model(model, to_file='model_plot.png', show_shapes=True, show_layer_names=True)\n",
    "SVG(model_to_dot(model).create(prog='dot', format='svg'))"
   ]
  },
  {
   "cell_type": "code",
   "execution_count": 32,
   "metadata": {
    "collapsed": true
   },
   "outputs": [],
   "source": [
    "# Compile the model\n",
    "model.compile(loss='binary_crossentropy', optimizer=Adam_opt, metrics=['accuracy'])"
   ]
  },
  {
   "cell_type": "code",
   "execution_count": 33,
   "metadata": {},
   "outputs": [
    {
     "name": "stdout",
     "output_type": "stream",
     "text": [
      "Epoch 1/25\n"
     ]
    },
    {
     "ename": "InvalidArgumentError",
     "evalue": "indices[2,0] = 23 is not in [0, 23)\n\t [[Node: embedding_22/Gather = Gather[Tindices=DT_INT32, Tparams=DT_FLOAT, validate_indices=true, _device=\"/job:localhost/replica:0/task:0/device:CPU:0\"](embedding_22/embeddings/read, embedding_22/Cast)]]\n\nCaused by op 'embedding_22/Gather', defined at:\n  File \"C:\\Users\\JC\\Anaconda3\\envs\\tensorflow3.6\\lib\\runpy.py\", line 193, in _run_module_as_main\n    \"__main__\", mod_spec)\n  File \"C:\\Users\\JC\\Anaconda3\\envs\\tensorflow3.6\\lib\\runpy.py\", line 85, in _run_code\n    exec(code, run_globals)\n  File \"C:\\Users\\JC\\Anaconda3\\envs\\tensorflow3.6\\lib\\site-packages\\ipykernel_launcher.py\", line 16, in <module>\n    app.launch_new_instance()\n  File \"C:\\Users\\JC\\Anaconda3\\envs\\tensorflow3.6\\lib\\site-packages\\traitlets\\config\\application.py\", line 658, in launch_instance\n    app.start()\n  File \"C:\\Users\\JC\\Anaconda3\\envs\\tensorflow3.6\\lib\\site-packages\\ipykernel\\kernelapp.py\", line 486, in start\n    self.io_loop.start()\n  File \"C:\\Users\\JC\\Anaconda3\\envs\\tensorflow3.6\\lib\\site-packages\\tornado\\platform\\asyncio.py\", line 112, in start\n    self.asyncio_loop.run_forever()\n  File \"C:\\Users\\JC\\Anaconda3\\envs\\tensorflow3.6\\lib\\asyncio\\base_events.py\", line 422, in run_forever\n    self._run_once()\n  File \"C:\\Users\\JC\\Anaconda3\\envs\\tensorflow3.6\\lib\\asyncio\\base_events.py\", line 1432, in _run_once\n    handle._run()\n  File \"C:\\Users\\JC\\Anaconda3\\envs\\tensorflow3.6\\lib\\asyncio\\events.py\", line 145, in _run\n    self._callback(*self._args)\n  File \"C:\\Users\\JC\\Anaconda3\\envs\\tensorflow3.6\\lib\\site-packages\\tornado\\ioloop.py\", line 760, in _run_callback\n    ret = callback()\n  File \"C:\\Users\\JC\\Anaconda3\\envs\\tensorflow3.6\\lib\\site-packages\\tornado\\stack_context.py\", line 276, in null_wrapper\n    return fn(*args, **kwargs)\n  File \"C:\\Users\\JC\\Anaconda3\\envs\\tensorflow3.6\\lib\\site-packages\\zmq\\eventloop\\zmqstream.py\", line 536, in <lambda>\n    self.io_loop.add_callback(lambda : self._handle_events(self.socket, 0))\n  File \"C:\\Users\\JC\\Anaconda3\\envs\\tensorflow3.6\\lib\\site-packages\\zmq\\eventloop\\zmqstream.py\", line 450, in _handle_events\n    self._handle_recv()\n  File \"C:\\Users\\JC\\Anaconda3\\envs\\tensorflow3.6\\lib\\site-packages\\zmq\\eventloop\\zmqstream.py\", line 480, in _handle_recv\n    self._run_callback(callback, msg)\n  File \"C:\\Users\\JC\\Anaconda3\\envs\\tensorflow3.6\\lib\\site-packages\\zmq\\eventloop\\zmqstream.py\", line 432, in _run_callback\n    callback(*args, **kwargs)\n  File \"C:\\Users\\JC\\Anaconda3\\envs\\tensorflow3.6\\lib\\site-packages\\tornado\\stack_context.py\", line 276, in null_wrapper\n    return fn(*args, **kwargs)\n  File \"C:\\Users\\JC\\Anaconda3\\envs\\tensorflow3.6\\lib\\site-packages\\ipykernel\\kernelbase.py\", line 283, in dispatcher\n    return self.dispatch_shell(stream, msg)\n  File \"C:\\Users\\JC\\Anaconda3\\envs\\tensorflow3.6\\lib\\site-packages\\ipykernel\\kernelbase.py\", line 233, in dispatch_shell\n    handler(stream, idents, msg)\n  File \"C:\\Users\\JC\\Anaconda3\\envs\\tensorflow3.6\\lib\\site-packages\\ipykernel\\kernelbase.py\", line 399, in execute_request\n    user_expressions, allow_stdin)\n  File \"C:\\Users\\JC\\Anaconda3\\envs\\tensorflow3.6\\lib\\site-packages\\ipykernel\\ipkernel.py\", line 208, in do_execute\n    res = shell.run_cell(code, store_history=store_history, silent=silent)\n  File \"C:\\Users\\JC\\Anaconda3\\envs\\tensorflow3.6\\lib\\site-packages\\ipykernel\\zmqshell.py\", line 537, in run_cell\n    return super(ZMQInteractiveShell, self).run_cell(*args, **kwargs)\n  File \"C:\\Users\\JC\\Anaconda3\\envs\\tensorflow3.6\\lib\\site-packages\\IPython\\core\\interactiveshell.py\", line 2662, in run_cell\n    raw_cell, store_history, silent, shell_futures)\n  File \"C:\\Users\\JC\\Anaconda3\\envs\\tensorflow3.6\\lib\\site-packages\\IPython\\core\\interactiveshell.py\", line 2785, in _run_cell\n    interactivity=interactivity, compiler=compiler, result=result)\n  File \"C:\\Users\\JC\\Anaconda3\\envs\\tensorflow3.6\\lib\\site-packages\\IPython\\core\\interactiveshell.py\", line 2903, in run_ast_nodes\n    if self.run_code(code, result):\n  File \"C:\\Users\\JC\\Anaconda3\\envs\\tensorflow3.6\\lib\\site-packages\\IPython\\core\\interactiveshell.py\", line 2963, in run_code\n    exec(code_obj, self.user_global_ns, self.user_ns)\n  File \"<ipython-input-30-7ca6d212081e>\", line 2, in <module>\n    model = get_model(actfn = 'elu', imode='glorot_normal', dr_rate=0.1, nnodes=21)\n  File \"<ipython-input-26-7489b1d4dfc3>\", line 23, in get_model\n    emb =  Embedding(maxvals[lvarname], embed_dims[lvarname])(inp)\n  File \"C:\\Users\\JC\\Anaconda3\\envs\\tensorflow3.6\\lib\\site-packages\\keras\\engine\\topology.py\", line 617, in __call__\n    output = self.call(inputs, **kwargs)\n  File \"C:\\Users\\JC\\Anaconda3\\envs\\tensorflow3.6\\lib\\site-packages\\keras\\layers\\embeddings.py\", line 138, in call\n    out = K.gather(self.embeddings, inputs)\n  File \"C:\\Users\\JC\\Anaconda3\\envs\\tensorflow3.6\\lib\\site-packages\\keras\\backend\\tensorflow_backend.py\", line 1208, in gather\n    return tf.gather(reference, indices)\n  File \"C:\\Users\\JC\\Anaconda3\\envs\\tensorflow3.6\\lib\\site-packages\\tensorflow\\python\\ops\\array_ops.py\", line 2585, in gather\n    params, indices, validate_indices=validate_indices, name=name)\n  File \"C:\\Users\\JC\\Anaconda3\\envs\\tensorflow3.6\\lib\\site-packages\\tensorflow\\python\\ops\\gen_array_ops.py\", line 2334, in gather\n    validate_indices=validate_indices, name=name)\n  File \"C:\\Users\\JC\\Anaconda3\\envs\\tensorflow3.6\\lib\\site-packages\\tensorflow\\python\\framework\\op_def_library.py\", line 787, in _apply_op_helper\n    op_def=op_def)\n  File \"C:\\Users\\JC\\Anaconda3\\envs\\tensorflow3.6\\lib\\site-packages\\tensorflow\\python\\framework\\ops.py\", line 3160, in create_op\n    op_def=op_def)\n  File \"C:\\Users\\JC\\Anaconda3\\envs\\tensorflow3.6\\lib\\site-packages\\tensorflow\\python\\framework\\ops.py\", line 1625, in __init__\n    self._traceback = self._graph._extract_stack()  # pylint: disable=protected-access\n\nInvalidArgumentError (see above for traceback): indices[2,0] = 23 is not in [0, 23)\n\t [[Node: embedding_22/Gather = Gather[Tindices=DT_INT32, Tparams=DT_FLOAT, validate_indices=true, _device=\"/job:localhost/replica:0/task:0/device:CPU:0\"](embedding_22/embeddings/read, embedding_22/Cast)]]\n",
     "output_type": "error",
     "traceback": [
      "\u001b[1;31m---------------------------------------------------------------------------\u001b[0m",
      "\u001b[1;31mInvalidArgumentError\u001b[0m                      Traceback (most recent call last)",
      "\u001b[1;32m~\\Anaconda3\\envs\\tensorflow3.6\\lib\\site-packages\\tensorflow\\python\\client\\session.py\u001b[0m in \u001b[0;36m_do_call\u001b[1;34m(self, fn, *args)\u001b[0m\n\u001b[0;32m   1349\u001b[0m     \u001b[1;32mtry\u001b[0m\u001b[1;33m:\u001b[0m\u001b[1;33m\u001b[0m\u001b[0m\n\u001b[1;32m-> 1350\u001b[1;33m       \u001b[1;32mreturn\u001b[0m \u001b[0mfn\u001b[0m\u001b[1;33m(\u001b[0m\u001b[1;33m*\u001b[0m\u001b[0margs\u001b[0m\u001b[1;33m)\u001b[0m\u001b[1;33m\u001b[0m\u001b[0m\n\u001b[0m\u001b[0;32m   1351\u001b[0m     \u001b[1;32mexcept\u001b[0m \u001b[0merrors\u001b[0m\u001b[1;33m.\u001b[0m\u001b[0mOpError\u001b[0m \u001b[1;32mas\u001b[0m \u001b[0me\u001b[0m\u001b[1;33m:\u001b[0m\u001b[1;33m\u001b[0m\u001b[0m\n",
      "\u001b[1;32m~\\Anaconda3\\envs\\tensorflow3.6\\lib\\site-packages\\tensorflow\\python\\client\\session.py\u001b[0m in \u001b[0;36m_run_fn\u001b[1;34m(session, feed_dict, fetch_list, target_list, options, run_metadata)\u001b[0m\n\u001b[0;32m   1328\u001b[0m                                    \u001b[0mfeed_dict\u001b[0m\u001b[1;33m,\u001b[0m \u001b[0mfetch_list\u001b[0m\u001b[1;33m,\u001b[0m \u001b[0mtarget_list\u001b[0m\u001b[1;33m,\u001b[0m\u001b[1;33m\u001b[0m\u001b[0m\n\u001b[1;32m-> 1329\u001b[1;33m                                    status, run_metadata)\n\u001b[0m\u001b[0;32m   1330\u001b[0m \u001b[1;33m\u001b[0m\u001b[0m\n",
      "\u001b[1;32m~\\Anaconda3\\envs\\tensorflow3.6\\lib\\site-packages\\tensorflow\\python\\framework\\errors_impl.py\u001b[0m in \u001b[0;36m__exit__\u001b[1;34m(self, type_arg, value_arg, traceback_arg)\u001b[0m\n\u001b[0;32m    472\u001b[0m             \u001b[0mcompat\u001b[0m\u001b[1;33m.\u001b[0m\u001b[0mas_text\u001b[0m\u001b[1;33m(\u001b[0m\u001b[0mc_api\u001b[0m\u001b[1;33m.\u001b[0m\u001b[0mTF_Message\u001b[0m\u001b[1;33m(\u001b[0m\u001b[0mself\u001b[0m\u001b[1;33m.\u001b[0m\u001b[0mstatus\u001b[0m\u001b[1;33m.\u001b[0m\u001b[0mstatus\u001b[0m\u001b[1;33m)\u001b[0m\u001b[1;33m)\u001b[0m\u001b[1;33m,\u001b[0m\u001b[1;33m\u001b[0m\u001b[0m\n\u001b[1;32m--> 473\u001b[1;33m             c_api.TF_GetCode(self.status.status))\n\u001b[0m\u001b[0;32m    474\u001b[0m     \u001b[1;31m# Delete the underlying status object from memory otherwise it stays alive\u001b[0m\u001b[1;33m\u001b[0m\u001b[1;33m\u001b[0m\u001b[0m\n",
      "\u001b[1;31mInvalidArgumentError\u001b[0m: indices[2,0] = 23 is not in [0, 23)\n\t [[Node: embedding_22/Gather = Gather[Tindices=DT_INT32, Tparams=DT_FLOAT, validate_indices=true, _device=\"/job:localhost/replica:0/task:0/device:CPU:0\"](embedding_22/embeddings/read, embedding_22/Cast)]]",
      "\nDuring handling of the above exception, another exception occurred:\n",
      "\u001b[1;31mInvalidArgumentError\u001b[0m                      Traceback (most recent call last)",
      "\u001b[1;32m<ipython-input-33-510384bcf768>\u001b[0m in \u001b[0;36m<module>\u001b[1;34m()\u001b[0m\n\u001b[0;32m      1\u001b[0m \u001b[1;31m# Fit the model\u001b[0m\u001b[1;33m\u001b[0m\u001b[1;33m\u001b[0m\u001b[0m\n\u001b[1;32m----> 2\u001b[1;33m \u001b[0mhist\u001b[0m \u001b[1;33m=\u001b[0m \u001b[0mmodel\u001b[0m\u001b[1;33m.\u001b[0m\u001b[0mfit\u001b[0m\u001b[1;33m(\u001b[0m\u001b[0mtrain_data\u001b[0m\u001b[1;33m,\u001b[0m \u001b[0my_train\u001b[0m\u001b[1;33m,\u001b[0m \u001b[0mbatch_size\u001b[0m\u001b[1;33m=\u001b[0m\u001b[0mmy_batch_size\u001b[0m\u001b[1;33m,\u001b[0m \u001b[0mepochs\u001b[0m\u001b[1;33m=\u001b[0m\u001b[0mepochs\u001b[0m\u001b[1;33m,\u001b[0m \u001b[0mverbose\u001b[0m\u001b[1;33m=\u001b[0m\u001b[1;36m1\u001b[0m\u001b[1;33m)\u001b[0m\u001b[1;33m\u001b[0m\u001b[0m\n\u001b[0m\u001b[0;32m      3\u001b[0m \u001b[1;33m\u001b[0m\u001b[0m\n\u001b[0;32m      4\u001b[0m \u001b[0mprint\u001b[0m\u001b[1;33m(\u001b[0m\u001b[1;34m'model fit'\u001b[0m\u001b[1;33m)\u001b[0m\u001b[1;33m\u001b[0m\u001b[0m\n",
      "\u001b[1;32m~\\Anaconda3\\envs\\tensorflow3.6\\lib\\site-packages\\keras\\engine\\training.py\u001b[0m in \u001b[0;36mfit\u001b[1;34m(self, x, y, batch_size, epochs, verbose, callbacks, validation_split, validation_data, shuffle, class_weight, sample_weight, initial_epoch, steps_per_epoch, validation_steps, **kwargs)\u001b[0m\n\u001b[0;32m   1667\u001b[0m                               \u001b[0minitial_epoch\u001b[0m\u001b[1;33m=\u001b[0m\u001b[0minitial_epoch\u001b[0m\u001b[1;33m,\u001b[0m\u001b[1;33m\u001b[0m\u001b[0m\n\u001b[0;32m   1668\u001b[0m                               \u001b[0msteps_per_epoch\u001b[0m\u001b[1;33m=\u001b[0m\u001b[0msteps_per_epoch\u001b[0m\u001b[1;33m,\u001b[0m\u001b[1;33m\u001b[0m\u001b[0m\n\u001b[1;32m-> 1669\u001b[1;33m                               validation_steps=validation_steps)\n\u001b[0m\u001b[0;32m   1670\u001b[0m \u001b[1;33m\u001b[0m\u001b[0m\n\u001b[0;32m   1671\u001b[0m     def evaluate(self, x=None, y=None,\n",
      "\u001b[1;32m~\\Anaconda3\\envs\\tensorflow3.6\\lib\\site-packages\\keras\\engine\\training.py\u001b[0m in \u001b[0;36m_fit_loop\u001b[1;34m(self, f, ins, out_labels, batch_size, epochs, verbose, callbacks, val_f, val_ins, shuffle, callback_metrics, initial_epoch, steps_per_epoch, validation_steps)\u001b[0m\n\u001b[0;32m   1204\u001b[0m                         \u001b[0mins_batch\u001b[0m\u001b[1;33m[\u001b[0m\u001b[0mi\u001b[0m\u001b[1;33m]\u001b[0m \u001b[1;33m=\u001b[0m \u001b[0mins_batch\u001b[0m\u001b[1;33m[\u001b[0m\u001b[0mi\u001b[0m\u001b[1;33m]\u001b[0m\u001b[1;33m.\u001b[0m\u001b[0mtoarray\u001b[0m\u001b[1;33m(\u001b[0m\u001b[1;33m)\u001b[0m\u001b[1;33m\u001b[0m\u001b[0m\n\u001b[0;32m   1205\u001b[0m \u001b[1;33m\u001b[0m\u001b[0m\n\u001b[1;32m-> 1206\u001b[1;33m                     \u001b[0mouts\u001b[0m \u001b[1;33m=\u001b[0m \u001b[0mf\u001b[0m\u001b[1;33m(\u001b[0m\u001b[0mins_batch\u001b[0m\u001b[1;33m)\u001b[0m\u001b[1;33m\u001b[0m\u001b[0m\n\u001b[0m\u001b[0;32m   1207\u001b[0m                     \u001b[1;32mif\u001b[0m \u001b[1;32mnot\u001b[0m \u001b[0misinstance\u001b[0m\u001b[1;33m(\u001b[0m\u001b[0mouts\u001b[0m\u001b[1;33m,\u001b[0m \u001b[0mlist\u001b[0m\u001b[1;33m)\u001b[0m\u001b[1;33m:\u001b[0m\u001b[1;33m\u001b[0m\u001b[0m\n\u001b[0;32m   1208\u001b[0m                         \u001b[0mouts\u001b[0m \u001b[1;33m=\u001b[0m \u001b[1;33m[\u001b[0m\u001b[0mouts\u001b[0m\u001b[1;33m]\u001b[0m\u001b[1;33m\u001b[0m\u001b[0m\n",
      "\u001b[1;32m~\\Anaconda3\\envs\\tensorflow3.6\\lib\\site-packages\\keras\\backend\\tensorflow_backend.py\u001b[0m in \u001b[0;36m__call__\u001b[1;34m(self, inputs)\u001b[0m\n\u001b[0;32m   2473\u001b[0m         \u001b[0msession\u001b[0m \u001b[1;33m=\u001b[0m \u001b[0mget_session\u001b[0m\u001b[1;33m(\u001b[0m\u001b[1;33m)\u001b[0m\u001b[1;33m\u001b[0m\u001b[0m\n\u001b[0;32m   2474\u001b[0m         updated = session.run(fetches=fetches, feed_dict=feed_dict,\n\u001b[1;32m-> 2475\u001b[1;33m                               **self.session_kwargs)\n\u001b[0m\u001b[0;32m   2476\u001b[0m         \u001b[1;32mreturn\u001b[0m \u001b[0mupdated\u001b[0m\u001b[1;33m[\u001b[0m\u001b[1;33m:\u001b[0m\u001b[0mlen\u001b[0m\u001b[1;33m(\u001b[0m\u001b[0mself\u001b[0m\u001b[1;33m.\u001b[0m\u001b[0moutputs\u001b[0m\u001b[1;33m)\u001b[0m\u001b[1;33m]\u001b[0m\u001b[1;33m\u001b[0m\u001b[0m\n\u001b[0;32m   2477\u001b[0m \u001b[1;33m\u001b[0m\u001b[0m\n",
      "\u001b[1;32m~\\Anaconda3\\envs\\tensorflow3.6\\lib\\site-packages\\tensorflow\\python\\client\\session.py\u001b[0m in \u001b[0;36mrun\u001b[1;34m(self, fetches, feed_dict, options, run_metadata)\u001b[0m\n\u001b[0;32m    893\u001b[0m     \u001b[1;32mtry\u001b[0m\u001b[1;33m:\u001b[0m\u001b[1;33m\u001b[0m\u001b[0m\n\u001b[0;32m    894\u001b[0m       result = self._run(None, fetches, feed_dict, options_ptr,\n\u001b[1;32m--> 895\u001b[1;33m                          run_metadata_ptr)\n\u001b[0m\u001b[0;32m    896\u001b[0m       \u001b[1;32mif\u001b[0m \u001b[0mrun_metadata\u001b[0m\u001b[1;33m:\u001b[0m\u001b[1;33m\u001b[0m\u001b[0m\n\u001b[0;32m    897\u001b[0m         \u001b[0mproto_data\u001b[0m \u001b[1;33m=\u001b[0m \u001b[0mtf_session\u001b[0m\u001b[1;33m.\u001b[0m\u001b[0mTF_GetBuffer\u001b[0m\u001b[1;33m(\u001b[0m\u001b[0mrun_metadata_ptr\u001b[0m\u001b[1;33m)\u001b[0m\u001b[1;33m\u001b[0m\u001b[0m\n",
      "\u001b[1;32m~\\Anaconda3\\envs\\tensorflow3.6\\lib\\site-packages\\tensorflow\\python\\client\\session.py\u001b[0m in \u001b[0;36m_run\u001b[1;34m(self, handle, fetches, feed_dict, options, run_metadata)\u001b[0m\n\u001b[0;32m   1126\u001b[0m     \u001b[1;32mif\u001b[0m \u001b[0mfinal_fetches\u001b[0m \u001b[1;32mor\u001b[0m \u001b[0mfinal_targets\u001b[0m \u001b[1;32mor\u001b[0m \u001b[1;33m(\u001b[0m\u001b[0mhandle\u001b[0m \u001b[1;32mand\u001b[0m \u001b[0mfeed_dict_tensor\u001b[0m\u001b[1;33m)\u001b[0m\u001b[1;33m:\u001b[0m\u001b[1;33m\u001b[0m\u001b[0m\n\u001b[0;32m   1127\u001b[0m       results = self._do_run(handle, final_targets, final_fetches,\n\u001b[1;32m-> 1128\u001b[1;33m                              feed_dict_tensor, options, run_metadata)\n\u001b[0m\u001b[0;32m   1129\u001b[0m     \u001b[1;32melse\u001b[0m\u001b[1;33m:\u001b[0m\u001b[1;33m\u001b[0m\u001b[0m\n\u001b[0;32m   1130\u001b[0m       \u001b[0mresults\u001b[0m \u001b[1;33m=\u001b[0m \u001b[1;33m[\u001b[0m\u001b[1;33m]\u001b[0m\u001b[1;33m\u001b[0m\u001b[0m\n",
      "\u001b[1;32m~\\Anaconda3\\envs\\tensorflow3.6\\lib\\site-packages\\tensorflow\\python\\client\\session.py\u001b[0m in \u001b[0;36m_do_run\u001b[1;34m(self, handle, target_list, fetch_list, feed_dict, options, run_metadata)\u001b[0m\n\u001b[0;32m   1342\u001b[0m     \u001b[1;32mif\u001b[0m \u001b[0mhandle\u001b[0m \u001b[1;32mis\u001b[0m \u001b[1;32mNone\u001b[0m\u001b[1;33m:\u001b[0m\u001b[1;33m\u001b[0m\u001b[0m\n\u001b[0;32m   1343\u001b[0m       return self._do_call(_run_fn, self._session, feeds, fetches, targets,\n\u001b[1;32m-> 1344\u001b[1;33m                            options, run_metadata)\n\u001b[0m\u001b[0;32m   1345\u001b[0m     \u001b[1;32melse\u001b[0m\u001b[1;33m:\u001b[0m\u001b[1;33m\u001b[0m\u001b[0m\n\u001b[0;32m   1346\u001b[0m       \u001b[1;32mreturn\u001b[0m \u001b[0mself\u001b[0m\u001b[1;33m.\u001b[0m\u001b[0m_do_call\u001b[0m\u001b[1;33m(\u001b[0m\u001b[0m_prun_fn\u001b[0m\u001b[1;33m,\u001b[0m \u001b[0mself\u001b[0m\u001b[1;33m.\u001b[0m\u001b[0m_session\u001b[0m\u001b[1;33m,\u001b[0m \u001b[0mhandle\u001b[0m\u001b[1;33m,\u001b[0m \u001b[0mfeeds\u001b[0m\u001b[1;33m,\u001b[0m \u001b[0mfetches\u001b[0m\u001b[1;33m)\u001b[0m\u001b[1;33m\u001b[0m\u001b[0m\n",
      "\u001b[1;32m~\\Anaconda3\\envs\\tensorflow3.6\\lib\\site-packages\\tensorflow\\python\\client\\session.py\u001b[0m in \u001b[0;36m_do_call\u001b[1;34m(self, fn, *args)\u001b[0m\n\u001b[0;32m   1361\u001b[0m         \u001b[1;32mexcept\u001b[0m \u001b[0mKeyError\u001b[0m\u001b[1;33m:\u001b[0m\u001b[1;33m\u001b[0m\u001b[0m\n\u001b[0;32m   1362\u001b[0m           \u001b[1;32mpass\u001b[0m\u001b[1;33m\u001b[0m\u001b[0m\n\u001b[1;32m-> 1363\u001b[1;33m       \u001b[1;32mraise\u001b[0m \u001b[0mtype\u001b[0m\u001b[1;33m(\u001b[0m\u001b[0me\u001b[0m\u001b[1;33m)\u001b[0m\u001b[1;33m(\u001b[0m\u001b[0mnode_def\u001b[0m\u001b[1;33m,\u001b[0m \u001b[0mop\u001b[0m\u001b[1;33m,\u001b[0m \u001b[0mmessage\u001b[0m\u001b[1;33m)\u001b[0m\u001b[1;33m\u001b[0m\u001b[0m\n\u001b[0m\u001b[0;32m   1364\u001b[0m \u001b[1;33m\u001b[0m\u001b[0m\n\u001b[0;32m   1365\u001b[0m   \u001b[1;32mdef\u001b[0m \u001b[0m_extend_graph\u001b[0m\u001b[1;33m(\u001b[0m\u001b[0mself\u001b[0m\u001b[1;33m)\u001b[0m\u001b[1;33m:\u001b[0m\u001b[1;33m\u001b[0m\u001b[0m\n",
      "\u001b[1;31mInvalidArgumentError\u001b[0m: indices[2,0] = 23 is not in [0, 23)\n\t [[Node: embedding_22/Gather = Gather[Tindices=DT_INT32, Tparams=DT_FLOAT, validate_indices=true, _device=\"/job:localhost/replica:0/task:0/device:CPU:0\"](embedding_22/embeddings/read, embedding_22/Cast)]]\n\nCaused by op 'embedding_22/Gather', defined at:\n  File \"C:\\Users\\JC\\Anaconda3\\envs\\tensorflow3.6\\lib\\runpy.py\", line 193, in _run_module_as_main\n    \"__main__\", mod_spec)\n  File \"C:\\Users\\JC\\Anaconda3\\envs\\tensorflow3.6\\lib\\runpy.py\", line 85, in _run_code\n    exec(code, run_globals)\n  File \"C:\\Users\\JC\\Anaconda3\\envs\\tensorflow3.6\\lib\\site-packages\\ipykernel_launcher.py\", line 16, in <module>\n    app.launch_new_instance()\n  File \"C:\\Users\\JC\\Anaconda3\\envs\\tensorflow3.6\\lib\\site-packages\\traitlets\\config\\application.py\", line 658, in launch_instance\n    app.start()\n  File \"C:\\Users\\JC\\Anaconda3\\envs\\tensorflow3.6\\lib\\site-packages\\ipykernel\\kernelapp.py\", line 486, in start\n    self.io_loop.start()\n  File \"C:\\Users\\JC\\Anaconda3\\envs\\tensorflow3.6\\lib\\site-packages\\tornado\\platform\\asyncio.py\", line 112, in start\n    self.asyncio_loop.run_forever()\n  File \"C:\\Users\\JC\\Anaconda3\\envs\\tensorflow3.6\\lib\\asyncio\\base_events.py\", line 422, in run_forever\n    self._run_once()\n  File \"C:\\Users\\JC\\Anaconda3\\envs\\tensorflow3.6\\lib\\asyncio\\base_events.py\", line 1432, in _run_once\n    handle._run()\n  File \"C:\\Users\\JC\\Anaconda3\\envs\\tensorflow3.6\\lib\\asyncio\\events.py\", line 145, in _run\n    self._callback(*self._args)\n  File \"C:\\Users\\JC\\Anaconda3\\envs\\tensorflow3.6\\lib\\site-packages\\tornado\\ioloop.py\", line 760, in _run_callback\n    ret = callback()\n  File \"C:\\Users\\JC\\Anaconda3\\envs\\tensorflow3.6\\lib\\site-packages\\tornado\\stack_context.py\", line 276, in null_wrapper\n    return fn(*args, **kwargs)\n  File \"C:\\Users\\JC\\Anaconda3\\envs\\tensorflow3.6\\lib\\site-packages\\zmq\\eventloop\\zmqstream.py\", line 536, in <lambda>\n    self.io_loop.add_callback(lambda : self._handle_events(self.socket, 0))\n  File \"C:\\Users\\JC\\Anaconda3\\envs\\tensorflow3.6\\lib\\site-packages\\zmq\\eventloop\\zmqstream.py\", line 450, in _handle_events\n    self._handle_recv()\n  File \"C:\\Users\\JC\\Anaconda3\\envs\\tensorflow3.6\\lib\\site-packages\\zmq\\eventloop\\zmqstream.py\", line 480, in _handle_recv\n    self._run_callback(callback, msg)\n  File \"C:\\Users\\JC\\Anaconda3\\envs\\tensorflow3.6\\lib\\site-packages\\zmq\\eventloop\\zmqstream.py\", line 432, in _run_callback\n    callback(*args, **kwargs)\n  File \"C:\\Users\\JC\\Anaconda3\\envs\\tensorflow3.6\\lib\\site-packages\\tornado\\stack_context.py\", line 276, in null_wrapper\n    return fn(*args, **kwargs)\n  File \"C:\\Users\\JC\\Anaconda3\\envs\\tensorflow3.6\\lib\\site-packages\\ipykernel\\kernelbase.py\", line 283, in dispatcher\n    return self.dispatch_shell(stream, msg)\n  File \"C:\\Users\\JC\\Anaconda3\\envs\\tensorflow3.6\\lib\\site-packages\\ipykernel\\kernelbase.py\", line 233, in dispatch_shell\n    handler(stream, idents, msg)\n  File \"C:\\Users\\JC\\Anaconda3\\envs\\tensorflow3.6\\lib\\site-packages\\ipykernel\\kernelbase.py\", line 399, in execute_request\n    user_expressions, allow_stdin)\n  File \"C:\\Users\\JC\\Anaconda3\\envs\\tensorflow3.6\\lib\\site-packages\\ipykernel\\ipkernel.py\", line 208, in do_execute\n    res = shell.run_cell(code, store_history=store_history, silent=silent)\n  File \"C:\\Users\\JC\\Anaconda3\\envs\\tensorflow3.6\\lib\\site-packages\\ipykernel\\zmqshell.py\", line 537, in run_cell\n    return super(ZMQInteractiveShell, self).run_cell(*args, **kwargs)\n  File \"C:\\Users\\JC\\Anaconda3\\envs\\tensorflow3.6\\lib\\site-packages\\IPython\\core\\interactiveshell.py\", line 2662, in run_cell\n    raw_cell, store_history, silent, shell_futures)\n  File \"C:\\Users\\JC\\Anaconda3\\envs\\tensorflow3.6\\lib\\site-packages\\IPython\\core\\interactiveshell.py\", line 2785, in _run_cell\n    interactivity=interactivity, compiler=compiler, result=result)\n  File \"C:\\Users\\JC\\Anaconda3\\envs\\tensorflow3.6\\lib\\site-packages\\IPython\\core\\interactiveshell.py\", line 2903, in run_ast_nodes\n    if self.run_code(code, result):\n  File \"C:\\Users\\JC\\Anaconda3\\envs\\tensorflow3.6\\lib\\site-packages\\IPython\\core\\interactiveshell.py\", line 2963, in run_code\n    exec(code_obj, self.user_global_ns, self.user_ns)\n  File \"<ipython-input-30-7ca6d212081e>\", line 2, in <module>\n    model = get_model(actfn = 'elu', imode='glorot_normal', dr_rate=0.1, nnodes=21)\n  File \"<ipython-input-26-7489b1d4dfc3>\", line 23, in get_model\n    emb =  Embedding(maxvals[lvarname], embed_dims[lvarname])(inp)\n  File \"C:\\Users\\JC\\Anaconda3\\envs\\tensorflow3.6\\lib\\site-packages\\keras\\engine\\topology.py\", line 617, in __call__\n    output = self.call(inputs, **kwargs)\n  File \"C:\\Users\\JC\\Anaconda3\\envs\\tensorflow3.6\\lib\\site-packages\\keras\\layers\\embeddings.py\", line 138, in call\n    out = K.gather(self.embeddings, inputs)\n  File \"C:\\Users\\JC\\Anaconda3\\envs\\tensorflow3.6\\lib\\site-packages\\keras\\backend\\tensorflow_backend.py\", line 1208, in gather\n    return tf.gather(reference, indices)\n  File \"C:\\Users\\JC\\Anaconda3\\envs\\tensorflow3.6\\lib\\site-packages\\tensorflow\\python\\ops\\array_ops.py\", line 2585, in gather\n    params, indices, validate_indices=validate_indices, name=name)\n  File \"C:\\Users\\JC\\Anaconda3\\envs\\tensorflow3.6\\lib\\site-packages\\tensorflow\\python\\ops\\gen_array_ops.py\", line 2334, in gather\n    validate_indices=validate_indices, name=name)\n  File \"C:\\Users\\JC\\Anaconda3\\envs\\tensorflow3.6\\lib\\site-packages\\tensorflow\\python\\framework\\op_def_library.py\", line 787, in _apply_op_helper\n    op_def=op_def)\n  File \"C:\\Users\\JC\\Anaconda3\\envs\\tensorflow3.6\\lib\\site-packages\\tensorflow\\python\\framework\\ops.py\", line 3160, in create_op\n    op_def=op_def)\n  File \"C:\\Users\\JC\\Anaconda3\\envs\\tensorflow3.6\\lib\\site-packages\\tensorflow\\python\\framework\\ops.py\", line 1625, in __init__\n    self._traceback = self._graph._extract_stack()  # pylint: disable=protected-access\n\nInvalidArgumentError (see above for traceback): indices[2,0] = 23 is not in [0, 23)\n\t [[Node: embedding_22/Gather = Gather[Tindices=DT_INT32, Tparams=DT_FLOAT, validate_indices=true, _device=\"/job:localhost/replica:0/task:0/device:CPU:0\"](embedding_22/embeddings/read, embedding_22/Cast)]]\n"
     ]
    }
   ],
   "source": [
    "# Fit the model\n",
    "hist = model.fit(train_data, y_train, batch_size=my_batch_size, epochs=epochs, verbose=1)\n",
    "\n",
    "print('model fit')"
   ]
  },
  {
   "cell_type": "code",
   "execution_count": null,
   "metadata": {
    "collapsed": true
   },
   "outputs": [],
   "source": [
    "# Save the model after nepochs epochs\n",
    "model.save('final_model.hdf5')"
   ]
  },
  {
   "cell_type": "code",
   "execution_count": null,
   "metadata": {},
   "outputs": [],
   "source": [
    "# Make predictions on the training data\n",
    "y_train_pred = model.predict(X_train, batch_size=1024, verbose=1)"
   ]
  },
  {
   "cell_type": "code",
   "execution_count": null,
   "metadata": {},
   "outputs": [],
   "source": [
    "# Make predictions on the validation data\n",
    "y_valid_pred = model.predict(X_valid, batch_size=1024, verbose=1)\n",
    "y_valid_pred[:10]"
   ]
  },
  {
   "cell_type": "code",
   "execution_count": null,
   "metadata": {
    "collapsed": true
   },
   "outputs": [],
   "source": [
    "# Make a precision-recall curve for training data\n",
    "precisions, recalls, thresholds = precision_recall_curve(y_train, y_train_pred)"
   ]
  },
  {
   "cell_type": "code",
   "execution_count": null,
   "metadata": {},
   "outputs": [],
   "source": [
    "def plot_precision_recall_vs_threshold(precisions, recalls, thresholds):\n",
    "    plt.plot(thresholds, precisions[:-1], \"b--\", label=\"Precision\")\n",
    "    plt.plot(thresholds, recalls[:-1], \"g--\", label=\"Recall\")\n",
    "    plt.xlabel(\"Threshold\")\n",
    "    plt.legend(loc=9)\n",
    "    plt.ylim([0,1])\n",
    "\n",
    "plot_precision_recall_vs_threshold(precisions, recalls, thresholds)\n",
    "plt.show()"
   ]
  },
  {
   "cell_type": "code",
   "execution_count": null,
   "metadata": {
    "collapsed": true
   },
   "outputs": [],
   "source": [
    "# Make a precision-recall curve for validation data\n",
    "precisions, recalls, thresholds = precision_recall_curve(y_valid, y_valid_pred)"
   ]
  },
  {
   "cell_type": "code",
   "execution_count": null,
   "metadata": {},
   "outputs": [],
   "source": [
    "def plot_precision_recall_vs_threshold(precisions, recalls, thresholds):\n",
    "    plt.plot(thresholds, precisions[:-1], \"b--\", label=\"Precision\")\n",
    "    plt.plot(thresholds, recalls[:-1], \"g--\", label=\"Recall\")\n",
    "    plt.xlabel(\"Threshold\")\n",
    "    plt.legend(loc=9)\n",
    "    plt.ylim([0,1])\n",
    "\n",
    "plot_precision_recall_vs_threshold(precisions, recalls, thresholds)\n",
    "plt.show()"
   ]
  },
  {
   "cell_type": "code",
   "execution_count": null,
   "metadata": {},
   "outputs": [],
   "source": [
    "y_valid_pred2 = y_valid_pred.reshape(-1)\n",
    "y_valid_pred2[:10]"
   ]
  },
  {
   "cell_type": "code",
   "execution_count": null,
   "metadata": {},
   "outputs": [],
   "source": [
    "y_valida = np.asarray(y_valid)\n",
    "y_valida[:10]"
   ]
  },
  {
   "cell_type": "code",
   "execution_count": null,
   "metadata": {
    "collapsed": true
   },
   "outputs": [],
   "source": [
    "# Check which elements in y_valida are 0\n",
    "y_valid0 = (y_valida==0)\n",
    "y_valid0[:10]\n",
    "\n",
    "# Check which elements in y_valida are 1\n",
    "y_valid1 = (y_valida==1)"
   ]
  },
  {
   "cell_type": "code",
   "execution_count": null,
   "metadata": {
    "collapsed": true
   },
   "outputs": [],
   "source": [
    "y_valid_pred2_0 = y_valid_pred2[y_valid0]\n",
    "y_valid_pred2_1 = y_valid_pred2[y_valid1]"
   ]
  },
  {
   "cell_type": "code",
   "execution_count": null,
   "metadata": {},
   "outputs": [],
   "source": [
    "# Now plot y_valid vs y_valid_pred2\n",
    "plt.hist(y_valid_pred2_0)\n",
    "plt.show()"
   ]
  },
  {
   "cell_type": "code",
   "execution_count": null,
   "metadata": {},
   "outputs": [],
   "source": [
    "plt.hist(y_valid_pred2_1)\n",
    "plt.show()"
   ]
  },
  {
   "cell_type": "code",
   "execution_count": null,
   "metadata": {
    "collapsed": true
   },
   "outputs": [],
   "source": [
    "#sgd_clf = SGDClassifier(random_state=42, loss='log',class_weight=weight_dict, tol=1.0e-6, max_iter=100000)\n",
    "sgd_clf = LogisticRegression(random_state=42,verbose=1, class_weight = weight_dict, tol=1.0e-6, max_iter=100000)\n",
    "sgd_clf.fit(X_train, y_train)"
   ]
  },
  {
   "cell_type": "code",
   "execution_count": null,
   "metadata": {
    "collapsed": true
   },
   "outputs": [],
   "source": [
    "# Analyze predictions on training data\n",
    "y_train_pred = sgd_clf.predict(X_train)\n",
    "n_correct = sum(y_train_pred==y_train)\n",
    "print(n_correct, n_correct/len(y_train))"
   ]
  },
  {
   "cell_type": "code",
   "execution_count": null,
   "metadata": {
    "collapsed": true
   },
   "outputs": [],
   "source": [
    "confusion_matrix(y_train, y_train_pred)"
   ]
  },
  {
   "cell_type": "code",
   "execution_count": null,
   "metadata": {
    "collapsed": true
   },
   "outputs": [],
   "source": [
    "precision_score(y_train, y_train_pred)"
   ]
  },
  {
   "cell_type": "code",
   "execution_count": null,
   "metadata": {
    "collapsed": true
   },
   "outputs": [],
   "source": [
    "recall_score(y_train, y_train_pred)"
   ]
  },
  {
   "cell_type": "code",
   "execution_count": null,
   "metadata": {
    "collapsed": true
   },
   "outputs": [],
   "source": [
    "f1_score(y_train, y_train_pred)"
   ]
  },
  {
   "cell_type": "code",
   "execution_count": null,
   "metadata": {
    "collapsed": true
   },
   "outputs": [],
   "source": [
    "y_train_pred = sgd_clf.predict_proba(X_train)"
   ]
  },
  {
   "cell_type": "code",
   "execution_count": null,
   "metadata": {
    "collapsed": true
   },
   "outputs": [],
   "source": [
    "y_train_pred[:10]"
   ]
  },
  {
   "cell_type": "code",
   "execution_count": null,
   "metadata": {
    "collapsed": true
   },
   "outputs": [],
   "source": [
    "y_train[:10]"
   ]
  },
  {
   "cell_type": "code",
   "execution_count": null,
   "metadata": {
    "collapsed": true
   },
   "outputs": [],
   "source": [
    "y_train[-10:]"
   ]
  },
  {
   "cell_type": "code",
   "execution_count": null,
   "metadata": {
    "collapsed": true
   },
   "outputs": [],
   "source": [
    "y_train_pred[-10:]"
   ]
  },
  {
   "cell_type": "code",
   "execution_count": null,
   "metadata": {
    "collapsed": true
   },
   "outputs": [],
   "source": [
    "precisions, recalls, thresholds = precision_recall_curve(y_train, y_train_pred[:,0])"
   ]
  },
  {
   "cell_type": "code",
   "execution_count": null,
   "metadata": {
    "collapsed": true
   },
   "outputs": [],
   "source": [
    "def plot_precision_recall_vs_threshold(precisions, recalls, thresholds):\n",
    "    plt.plot(thresholds, precisions[:-1], \"b--\", label=\"Precision\")\n",
    "    plt.plot(thresholds, recalls[:-1], \"g--\", label=\"Recall\")\n",
    "    plt.xlabel(\"Threshold\")\n",
    "    plt.legend(loc=\"upper left\")\n",
    "    plt.ylim([0,1])\n",
    "\n",
    "plot_precision_recall_vs_threshold(precisions, recalls, thresholds)\n",
    "plt.show()"
   ]
  },
  {
   "cell_type": "code",
   "execution_count": null,
   "metadata": {
    "collapsed": true
   },
   "outputs": [],
   "source": [
    "# Analyze predictions on validation data\n",
    "y_valid_pred = sgd_clf.predict(X_valid)\n",
    "n_correct = sum(y_valid_pred==y_valid)\n",
    "print(n_correct)\n",
    "print(n_correct/len(y_valid))"
   ]
  },
  {
   "cell_type": "code",
   "execution_count": null,
   "metadata": {
    "collapsed": true
   },
   "outputs": [],
   "source": [
    "confusion_matrix(y_valid, y_valid_pred)"
   ]
  },
  {
   "cell_type": "code",
   "execution_count": null,
   "metadata": {
    "collapsed": true
   },
   "outputs": [],
   "source": [
    "precision_score(y_valid, y_valid_pred)"
   ]
  },
  {
   "cell_type": "code",
   "execution_count": null,
   "metadata": {
    "collapsed": true
   },
   "outputs": [],
   "source": [
    "recall_score(y_valid, y_valid_pred)"
   ]
  },
  {
   "cell_type": "code",
   "execution_count": null,
   "metadata": {
    "collapsed": true
   },
   "outputs": [],
   "source": [
    "f1_score(y_valid, y_valid_pred)"
   ]
  },
  {
   "cell_type": "code",
   "execution_count": null,
   "metadata": {
    "collapsed": true
   },
   "outputs": [],
   "source": [
    "y_valid_pred = sgd_clf.predict_proba(X_valid)"
   ]
  },
  {
   "cell_type": "code",
   "execution_count": null,
   "metadata": {
    "collapsed": true
   },
   "outputs": [],
   "source": [
    "y_valid_pred[:10]"
   ]
  },
  {
   "cell_type": "code",
   "execution_count": null,
   "metadata": {
    "collapsed": true
   },
   "outputs": [],
   "source": [
    "precisions, recalls, thresholds = precision_recall_curve(y_valid, y_valid_pred[:,0])"
   ]
  },
  {
   "cell_type": "code",
   "execution_count": null,
   "metadata": {
    "collapsed": true
   },
   "outputs": [],
   "source": [
    "plot_precision_recall_vs_threshold(precisions, recalls, thresholds)\n",
    "plt.show()"
   ]
  }
 ],
 "metadata": {
  "kernelspec": {
   "display_name": "Python(Tensorflow3.6)",
   "language": "python",
   "name": "tensorflow3.6"
  },
  "language_info": {
   "codemirror_mode": {
    "name": "ipython",
    "version": 3
   },
   "file_extension": ".py",
   "mimetype": "text/x-python",
   "name": "python",
   "nbconvert_exporter": "python",
   "pygments_lexer": "ipython3",
   "version": "3.6.5"
  }
 },
 "nbformat": 4,
 "nbformat_minor": 2
}
